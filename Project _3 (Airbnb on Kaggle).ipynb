{
 "cells": [
  {
   "cell_type": "code",
   "execution_count": 3,
   "metadata": {},
   "outputs": [],
   "source": [
    "from pyspark.sql import SparkSession"
   ]
  },
  {
   "cell_type": "code",
   "execution_count": 4,
   "metadata": {},
   "outputs": [],
   "source": [
    "spark = SparkSession \\\n",
    "    .builder \\\n",
    "    .appName('Predicting where will a new guest book their first travel experience') \\\n",
    "    .getOrCreate()"
   ]
  },
  {
   "cell_type": "markdown",
   "metadata": {},
   "source": [
    "<h1>Phase 1: Data preprocessing</h1>"
   ]
  },
  {
   "cell_type": "markdown",
   "metadata": {},
   "source": [
    "<h3>1) Countries dataset</h3>"
   ]
  },
  {
   "cell_type": "markdown",
   "metadata": {},
   "source": [
    "<h5>Load and display the data</h5>"
   ]
  },
  {
   "cell_type": "code",
   "execution_count": 5,
   "metadata": {},
   "outputs": [
    {
     "data": {
      "text/plain": [
       "DataFrame[country_destination: string, lat_destination: string, lng_destination: string, distance_km: string, destination_km2: string, destination_language : string, language_levenshtein_distance: string]"
      ]
     },
     "execution_count": 5,
     "metadata": {},
     "output_type": "execute_result"
    }
   ],
   "source": [
    "countries = spark.read\\\n",
    "            .format('csv')\\\n",
    "            .option('header', 'true')\\\n",
    "            .option('ignoreLeadingWhiteSpace', 'true')\\\n",
    "            .load('./datasets/countries.csv')\n",
    "countries"
   ]
  },
  {
   "cell_type": "code",
   "execution_count": 6,
   "metadata": {},
   "outputs": [
    {
     "data": {
      "text/plain": [
       "10"
      ]
     },
     "execution_count": 6,
     "metadata": {},
     "output_type": "execute_result"
    }
   ],
   "source": [
    "countries.count()"
   ]
  },
  {
   "cell_type": "code",
   "execution_count": 7,
   "metadata": {},
   "outputs": [
    {
     "data": {
      "text/html": [
       "<div>\n",
       "<style scoped>\n",
       "    .dataframe tbody tr th:only-of-type {\n",
       "        vertical-align: middle;\n",
       "    }\n",
       "\n",
       "    .dataframe tbody tr th {\n",
       "        vertical-align: top;\n",
       "    }\n",
       "\n",
       "    .dataframe thead th {\n",
       "        text-align: right;\n",
       "    }\n",
       "</style>\n",
       "<table border=\"1\" class=\"dataframe\">\n",
       "  <thead>\n",
       "    <tr style=\"text-align: right;\">\n",
       "      <th></th>\n",
       "      <th>country_destination</th>\n",
       "      <th>lat_destination</th>\n",
       "      <th>lng_destination</th>\n",
       "      <th>distance_km</th>\n",
       "      <th>destination_km2</th>\n",
       "      <th>destination_language</th>\n",
       "      <th>language_levenshtein_distance</th>\n",
       "    </tr>\n",
       "  </thead>\n",
       "  <tbody>\n",
       "    <tr>\n",
       "      <th>0</th>\n",
       "      <td>AU</td>\n",
       "      <td>-26.853388</td>\n",
       "      <td>133.27516</td>\n",
       "      <td>15297.744</td>\n",
       "      <td>7741220.0</td>\n",
       "      <td>eng</td>\n",
       "      <td>0.0</td>\n",
       "    </tr>\n",
       "    <tr>\n",
       "      <th>1</th>\n",
       "      <td>CA</td>\n",
       "      <td>62.393303</td>\n",
       "      <td>-96.818146</td>\n",
       "      <td>2828.1333</td>\n",
       "      <td>9984670.0</td>\n",
       "      <td>eng</td>\n",
       "      <td>0.0</td>\n",
       "    </tr>\n",
       "    <tr>\n",
       "      <th>2</th>\n",
       "      <td>DE</td>\n",
       "      <td>51.165707</td>\n",
       "      <td>10.452764</td>\n",
       "      <td>7879.568</td>\n",
       "      <td>357022.0</td>\n",
       "      <td>deu</td>\n",
       "      <td>72.61</td>\n",
       "    </tr>\n",
       "    <tr>\n",
       "      <th>3</th>\n",
       "      <td>ES</td>\n",
       "      <td>39.896027</td>\n",
       "      <td>-2.4876945</td>\n",
       "      <td>7730.724</td>\n",
       "      <td>505370.0</td>\n",
       "      <td>spa</td>\n",
       "      <td>92.25</td>\n",
       "    </tr>\n",
       "    <tr>\n",
       "      <th>4</th>\n",
       "      <td>FR</td>\n",
       "      <td>46.232193</td>\n",
       "      <td>2.209667</td>\n",
       "      <td>7682.945</td>\n",
       "      <td>643801.0</td>\n",
       "      <td>fra</td>\n",
       "      <td>92.06</td>\n",
       "    </tr>\n",
       "  </tbody>\n",
       "</table>\n",
       "</div>"
      ],
      "text/plain": [
       "  country_destination lat_destination lng_destination distance_km  \\\n",
       "0                  AU      -26.853388       133.27516   15297.744   \n",
       "1                  CA       62.393303      -96.818146   2828.1333   \n",
       "2                  DE       51.165707       10.452764    7879.568   \n",
       "3                  ES       39.896027      -2.4876945    7730.724   \n",
       "4                  FR       46.232193        2.209667    7682.945   \n",
       "\n",
       "  destination_km2 destination_language  language_levenshtein_distance  \n",
       "0       7741220.0                   eng                           0.0  \n",
       "1       9984670.0                   eng                           0.0  \n",
       "2        357022.0                   deu                         72.61  \n",
       "3        505370.0                   spa                         92.25  \n",
       "4        643801.0                   fra                         92.06  "
      ]
     },
     "execution_count": 7,
     "metadata": {},
     "output_type": "execute_result"
    }
   ],
   "source": [
    "countries.toPandas().head()"
   ]
  },
  {
   "cell_type": "markdown",
   "metadata": {},
   "source": [
    "<h5>Transform the data type of the columns</h5>\n",
    "<p>* lat_destination ---> float tyeb</p>\n",
    "<p>* lng_destination ---> float tyeb</p>\n",
    "<p>* destination_km ---> float tyeb</p>\n",
    "<p>* destination_km2 ---> float tyeb</p>\n",
    "<p>* language_levenshtein_distance ---> float tyeb</p>"
   ]
  },
  {
   "cell_type": "code",
   "execution_count": 8,
   "metadata": {
    "scrolled": true
   },
   "outputs": [
    {
     "name": "stdout",
     "output_type": "stream",
     "text": [
      "root\n",
      " |-- country_destination: string (nullable = true)\n",
      " |-- lat_destination: float (nullable = true)\n",
      " |-- lng_destination: float (nullable = true)\n",
      " |-- distance_km: float (nullable = true)\n",
      " |-- destination_km2: float (nullable = true)\n",
      " |-- destination_language : string (nullable = true)\n",
      " |-- language_levenshtein_distance: float (nullable = true)\n",
      "\n"
     ]
    }
   ],
   "source": [
    "from pyspark.sql.types import IntegerType, DateType, FloatType\n",
    "countries = countries.withColumn(\"lat_destination\", countries[\"lat_destination\"].cast(FloatType()))\\\n",
    "    .withColumn(\"lng_destination\",countries[\"lng_destination\"].cast(FloatType()))\\\n",
    "    .withColumn(\"distance_km\", countries[\"distance_km\"].cast(FloatType()))\\\n",
    "    .withColumn(\"destination_km2\", countries[\"destination_km2\"].cast(FloatType()))\\\n",
    "    .withColumn(\"language_levenshtein_distance\", countries[\"language_levenshtein_distance\"].cast(FloatType()))\n",
    "countries.printSchema()"
   ]
  },
  {
   "cell_type": "code",
   "execution_count": 9,
   "metadata": {},
   "outputs": [
    {
     "data": {
      "text/html": [
       "<div>\n",
       "<style scoped>\n",
       "    .dataframe tbody tr th:only-of-type {\n",
       "        vertical-align: middle;\n",
       "    }\n",
       "\n",
       "    .dataframe tbody tr th {\n",
       "        vertical-align: top;\n",
       "    }\n",
       "\n",
       "    .dataframe thead th {\n",
       "        text-align: right;\n",
       "    }\n",
       "</style>\n",
       "<table border=\"1\" class=\"dataframe\">\n",
       "  <thead>\n",
       "    <tr style=\"text-align: right;\">\n",
       "      <th></th>\n",
       "      <th>country_destination</th>\n",
       "      <th>lat_destination</th>\n",
       "      <th>lng_destination</th>\n",
       "      <th>distance_km</th>\n",
       "      <th>destination_km2</th>\n",
       "      <th>destination_language</th>\n",
       "      <th>language_levenshtein_distance</th>\n",
       "    </tr>\n",
       "  </thead>\n",
       "  <tbody>\n",
       "    <tr>\n",
       "      <th>0</th>\n",
       "      <td>AU</td>\n",
       "      <td>-26.853388</td>\n",
       "      <td>133.275162</td>\n",
       "      <td>15297.744141</td>\n",
       "      <td>7741220.0</td>\n",
       "      <td>eng</td>\n",
       "      <td>0.000000</td>\n",
       "    </tr>\n",
       "    <tr>\n",
       "      <th>1</th>\n",
       "      <td>CA</td>\n",
       "      <td>62.393303</td>\n",
       "      <td>-96.818146</td>\n",
       "      <td>2828.133301</td>\n",
       "      <td>9984670.0</td>\n",
       "      <td>eng</td>\n",
       "      <td>0.000000</td>\n",
       "    </tr>\n",
       "    <tr>\n",
       "      <th>2</th>\n",
       "      <td>DE</td>\n",
       "      <td>51.165707</td>\n",
       "      <td>10.452764</td>\n",
       "      <td>7879.567871</td>\n",
       "      <td>357022.0</td>\n",
       "      <td>deu</td>\n",
       "      <td>72.610001</td>\n",
       "    </tr>\n",
       "    <tr>\n",
       "      <th>3</th>\n",
       "      <td>ES</td>\n",
       "      <td>39.896027</td>\n",
       "      <td>-2.487695</td>\n",
       "      <td>7730.724121</td>\n",
       "      <td>505370.0</td>\n",
       "      <td>spa</td>\n",
       "      <td>92.250000</td>\n",
       "    </tr>\n",
       "    <tr>\n",
       "      <th>4</th>\n",
       "      <td>FR</td>\n",
       "      <td>46.232193</td>\n",
       "      <td>2.209667</td>\n",
       "      <td>7682.944824</td>\n",
       "      <td>643801.0</td>\n",
       "      <td>fra</td>\n",
       "      <td>92.059998</td>\n",
       "    </tr>\n",
       "  </tbody>\n",
       "</table>\n",
       "</div>"
      ],
      "text/plain": [
       "  country_destination  lat_destination  lng_destination   distance_km  \\\n",
       "0                  AU       -26.853388       133.275162  15297.744141   \n",
       "1                  CA        62.393303       -96.818146   2828.133301   \n",
       "2                  DE        51.165707        10.452764   7879.567871   \n",
       "3                  ES        39.896027        -2.487695   7730.724121   \n",
       "4                  FR        46.232193         2.209667   7682.944824   \n",
       "\n",
       "   destination_km2 destination_language   language_levenshtein_distance  \n",
       "0        7741220.0                   eng                       0.000000  \n",
       "1        9984670.0                   eng                       0.000000  \n",
       "2         357022.0                   deu                      72.610001  \n",
       "3         505370.0                   spa                      92.250000  \n",
       "4         643801.0                   fra                      92.059998  "
      ]
     },
     "execution_count": 9,
     "metadata": {},
     "output_type": "execute_result"
    }
   ],
   "source": [
    "countries.toPandas().head()"
   ]
  },
  {
   "cell_type": "markdown",
   "metadata": {},
   "source": [
    "<h3>2) Session dataset</h3>"
   ]
  },
  {
   "cell_type": "markdown",
   "metadata": {},
   "source": [
    "<h5>Load and display the data</h5>"
   ]
  },
  {
   "cell_type": "code",
   "execution_count": 10,
   "metadata": {},
   "outputs": [
    {
     "data": {
      "text/plain": [
       "DataFrame[user_id: string, action: string, action_type: string, action_detail: string, device_type: string, secs_elapsed: string]"
      ]
     },
     "execution_count": 10,
     "metadata": {},
     "output_type": "execute_result"
    }
   ],
   "source": [
    "sessions = spark.read\\\n",
    "            .format('csv')\\\n",
    "            .option('header', 'true')\\\n",
    "            .option('ignoreLeadingWhiteSpace', 'true')\\\n",
    "            .load('./datasets/sessions.csv')\n",
    "sessions"
   ]
  },
  {
   "cell_type": "code",
   "execution_count": 11,
   "metadata": {},
   "outputs": [
    {
     "data": {
      "text/plain": [
       "10567737"
      ]
     },
     "execution_count": 11,
     "metadata": {},
     "output_type": "execute_result"
    }
   ],
   "source": [
    "sessions.count()"
   ]
  },
  {
   "cell_type": "code",
   "execution_count": 12,
   "metadata": {},
   "outputs": [
    {
     "name": "stdout",
     "output_type": "stream",
     "text": [
      "+----------+--------------+-----------+-------------------+---------------+------------+\n",
      "|   user_id|        action|action_type|      action_detail|    device_type|secs_elapsed|\n",
      "+----------+--------------+-----------+-------------------+---------------+------------+\n",
      "|d1mm9tcy42|        lookup|       null|               null|Windows Desktop|       319.0|\n",
      "|d1mm9tcy42|search_results|      click|view_search_results|Windows Desktop|     67753.0|\n",
      "|d1mm9tcy42|        lookup|       null|               null|Windows Desktop|       301.0|\n",
      "|d1mm9tcy42|search_results|      click|view_search_results|Windows Desktop|     22141.0|\n",
      "|d1mm9tcy42|        lookup|       null|               null|Windows Desktop|       435.0|\n",
      "+----------+--------------+-----------+-------------------+---------------+------------+\n",
      "only showing top 5 rows\n",
      "\n"
     ]
    }
   ],
   "source": [
    "sessions.show(5)"
   ]
  },
  {
   "cell_type": "markdown",
   "metadata": {},
   "source": [
    "<h5>Transform the data type of the columns</h5>\n",
    "<p>* action_type ---> date tyeb</p>\n",
    "<p>* secs_elapsed ---> float tyeb</p>"
   ]
  },
  {
   "cell_type": "code",
   "execution_count": 13,
   "metadata": {},
   "outputs": [
    {
     "name": "stdout",
     "output_type": "stream",
     "text": [
      "root\n",
      " |-- user_id: string (nullable = true)\n",
      " |-- action: string (nullable = true)\n",
      " |-- action_type: date (nullable = true)\n",
      " |-- action_detail: string (nullable = true)\n",
      " |-- device_type: string (nullable = true)\n",
      " |-- secs_elapsed: float (nullable = true)\n",
      "\n"
     ]
    }
   ],
   "source": [
    "sessions = sessions.withColumn(\"action_type\", sessions[\"action_type\"].cast(DateType()))\\\n",
    "    .withColumn(\"secs_elapsed\",sessions[\"secs_elapsed\"].cast(FloatType()))\n",
    "sessions.printSchema()"
   ]
  },
  {
   "cell_type": "code",
   "execution_count": 14,
   "metadata": {},
   "outputs": [
    {
     "data": {
      "text/plain": [
       "DataFrame[user_id: string, action: string, action_type: date, action_detail: string, device_type: string, secs_elapsed: float]"
      ]
     },
     "execution_count": 14,
     "metadata": {},
     "output_type": "execute_result"
    }
   ],
   "source": [
    "sessions"
   ]
  },
  {
   "cell_type": "code",
   "execution_count": 15,
   "metadata": {
    "scrolled": true
   },
   "outputs": [
    {
     "name": "stdout",
     "output_type": "stream",
     "text": [
      "+----------+--------------+-----------+-------------------+---------------+------------+\n",
      "|   user_id|        action|action_type|      action_detail|    device_type|secs_elapsed|\n",
      "+----------+--------------+-----------+-------------------+---------------+------------+\n",
      "|d1mm9tcy42|        lookup|       null|               null|Windows Desktop|       319.0|\n",
      "|d1mm9tcy42|search_results|       null|view_search_results|Windows Desktop|     67753.0|\n",
      "|d1mm9tcy42|        lookup|       null|               null|Windows Desktop|       301.0|\n",
      "|d1mm9tcy42|search_results|       null|view_search_results|Windows Desktop|     22141.0|\n",
      "|d1mm9tcy42|        lookup|       null|               null|Windows Desktop|       435.0|\n",
      "+----------+--------------+-----------+-------------------+---------------+------------+\n",
      "only showing top 5 rows\n",
      "\n"
     ]
    }
   ],
   "source": [
    "sessions.show(5)"
   ]
  },
  {
   "cell_type": "markdown",
   "metadata": {},
   "source": [
    "<h5>Calculating the total session time for each user</h5>\n",
    "<p>The session time counted in secs_elapsed column for each user, so we will count the total session time by user id.<p>"
   ]
  },
  {
   "cell_type": "code",
   "execution_count": 16,
   "metadata": {},
   "outputs": [],
   "source": [
    "from pyspark.sql.functions import sum as _sum\n",
    "total_session_time = sessions.groupby(\"user_id\").agg(_sum('secs_elapsed').alias('sum_secs_elapsed'))"
   ]
  },
  {
   "cell_type": "code",
   "execution_count": 17,
   "metadata": {},
   "outputs": [
    {
     "data": {
      "text/html": [
       "<div>\n",
       "<style scoped>\n",
       "    .dataframe tbody tr th:only-of-type {\n",
       "        vertical-align: middle;\n",
       "    }\n",
       "\n",
       "    .dataframe tbody tr th {\n",
       "        vertical-align: top;\n",
       "    }\n",
       "\n",
       "    .dataframe thead th {\n",
       "        text-align: right;\n",
       "    }\n",
       "</style>\n",
       "<table border=\"1\" class=\"dataframe\">\n",
       "  <thead>\n",
       "    <tr style=\"text-align: right;\">\n",
       "      <th></th>\n",
       "      <th>user_id</th>\n",
       "      <th>sum_secs_elapsed</th>\n",
       "    </tr>\n",
       "  </thead>\n",
       "  <tbody>\n",
       "    <tr>\n",
       "      <th>0</th>\n",
       "      <td>de3scomvop</td>\n",
       "      <td>1051.0</td>\n",
       "    </tr>\n",
       "    <tr>\n",
       "      <th>1</th>\n",
       "      <td>9nut71te0s</td>\n",
       "      <td>1659715.0</td>\n",
       "    </tr>\n",
       "    <tr>\n",
       "      <th>2</th>\n",
       "      <td>zlv8f1qg2g</td>\n",
       "      <td>1155388.0</td>\n",
       "    </tr>\n",
       "    <tr>\n",
       "      <th>3</th>\n",
       "      <td>srykgkylee</td>\n",
       "      <td>246.0</td>\n",
       "    </tr>\n",
       "    <tr>\n",
       "      <th>4</th>\n",
       "      <td>funlgmcmr3</td>\n",
       "      <td>54747.0</td>\n",
       "    </tr>\n",
       "  </tbody>\n",
       "</table>\n",
       "</div>"
      ],
      "text/plain": [
       "      user_id  sum_secs_elapsed\n",
       "0  de3scomvop            1051.0\n",
       "1  9nut71te0s         1659715.0\n",
       "2  zlv8f1qg2g         1155388.0\n",
       "3  srykgkylee             246.0\n",
       "4  funlgmcmr3           54747.0"
      ]
     },
     "execution_count": 17,
     "metadata": {},
     "output_type": "execute_result"
    }
   ],
   "source": [
    "total_session_time.toPandas().head()"
   ]
  },
  {
   "cell_type": "markdown",
   "metadata": {},
   "source": [
    "<h3>3) Training dataset</h3>"
   ]
  },
  {
   "cell_type": "markdown",
   "metadata": {},
   "source": [
    "<h5>Load and display the data</h5>"
   ]
  },
  {
   "cell_type": "code",
   "execution_count": 18,
   "metadata": {},
   "outputs": [],
   "source": [
    "train_users = spark.read\\\n",
    "            .format('csv')\\\n",
    "            .option('header', 'true')\\\n",
    "            .option('ignoreLeadingWhiteSpace', 'true')\\\n",
    "            .load('./datasets/train_users.csv')"
   ]
  },
  {
   "cell_type": "code",
   "execution_count": 19,
   "metadata": {},
   "outputs": [
    {
     "data": {
      "text/plain": [
       "DataFrame[id: string, date_account_created: string, timestamp_first_active: string, date_first_booking: string, gender: string, age: string, signup_method: string, signup_flow: string, language: string, affiliate_channel: string, affiliate_provider: string, first_affiliate_tracked: string, signup_app: string, first_device_type: string, first_browser: string, country_destination: string]"
      ]
     },
     "execution_count": 19,
     "metadata": {},
     "output_type": "execute_result"
    }
   ],
   "source": [
    "train_users"
   ]
  },
  {
   "cell_type": "code",
   "execution_count": 20,
   "metadata": {},
   "outputs": [
    {
     "data": {
      "text/plain": [
       "213451"
      ]
     },
     "execution_count": 20,
     "metadata": {},
     "output_type": "execute_result"
    }
   ],
   "source": [
    "train_users.count()"
   ]
  },
  {
   "cell_type": "code",
   "execution_count": 21,
   "metadata": {},
   "outputs": [
    {
     "data": {
      "text/html": [
       "<div>\n",
       "<style scoped>\n",
       "    .dataframe tbody tr th:only-of-type {\n",
       "        vertical-align: middle;\n",
       "    }\n",
       "\n",
       "    .dataframe tbody tr th {\n",
       "        vertical-align: top;\n",
       "    }\n",
       "\n",
       "    .dataframe thead th {\n",
       "        text-align: right;\n",
       "    }\n",
       "</style>\n",
       "<table border=\"1\" class=\"dataframe\">\n",
       "  <thead>\n",
       "    <tr style=\"text-align: right;\">\n",
       "      <th></th>\n",
       "      <th>id</th>\n",
       "      <th>date_account_created</th>\n",
       "      <th>timestamp_first_active</th>\n",
       "      <th>date_first_booking</th>\n",
       "      <th>gender</th>\n",
       "      <th>age</th>\n",
       "      <th>signup_method</th>\n",
       "      <th>signup_flow</th>\n",
       "      <th>language</th>\n",
       "      <th>affiliate_channel</th>\n",
       "      <th>affiliate_provider</th>\n",
       "      <th>first_affiliate_tracked</th>\n",
       "      <th>signup_app</th>\n",
       "      <th>first_device_type</th>\n",
       "      <th>first_browser</th>\n",
       "      <th>country_destination</th>\n",
       "    </tr>\n",
       "  </thead>\n",
       "  <tbody>\n",
       "    <tr>\n",
       "      <th>0</th>\n",
       "      <td>gxn3p5htnn</td>\n",
       "      <td>2010-06-28</td>\n",
       "      <td>20090319043255</td>\n",
       "      <td>None</td>\n",
       "      <td>-unknown-</td>\n",
       "      <td>None</td>\n",
       "      <td>facebook</td>\n",
       "      <td>0</td>\n",
       "      <td>en</td>\n",
       "      <td>direct</td>\n",
       "      <td>direct</td>\n",
       "      <td>untracked</td>\n",
       "      <td>Web</td>\n",
       "      <td>Mac Desktop</td>\n",
       "      <td>Chrome</td>\n",
       "      <td>NDF</td>\n",
       "    </tr>\n",
       "    <tr>\n",
       "      <th>1</th>\n",
       "      <td>820tgsjxq7</td>\n",
       "      <td>2011-05-25</td>\n",
       "      <td>20090523174809</td>\n",
       "      <td>None</td>\n",
       "      <td>MALE</td>\n",
       "      <td>38.0</td>\n",
       "      <td>facebook</td>\n",
       "      <td>0</td>\n",
       "      <td>en</td>\n",
       "      <td>seo</td>\n",
       "      <td>google</td>\n",
       "      <td>untracked</td>\n",
       "      <td>Web</td>\n",
       "      <td>Mac Desktop</td>\n",
       "      <td>Chrome</td>\n",
       "      <td>NDF</td>\n",
       "    </tr>\n",
       "    <tr>\n",
       "      <th>2</th>\n",
       "      <td>4ft3gnwmtx</td>\n",
       "      <td>2010-09-28</td>\n",
       "      <td>20090609231247</td>\n",
       "      <td>2010-08-02</td>\n",
       "      <td>FEMALE</td>\n",
       "      <td>56.0</td>\n",
       "      <td>basic</td>\n",
       "      <td>3</td>\n",
       "      <td>en</td>\n",
       "      <td>direct</td>\n",
       "      <td>direct</td>\n",
       "      <td>untracked</td>\n",
       "      <td>Web</td>\n",
       "      <td>Windows Desktop</td>\n",
       "      <td>IE</td>\n",
       "      <td>US</td>\n",
       "    </tr>\n",
       "    <tr>\n",
       "      <th>3</th>\n",
       "      <td>bjjt8pjhuk</td>\n",
       "      <td>2011-12-05</td>\n",
       "      <td>20091031060129</td>\n",
       "      <td>2012-09-08</td>\n",
       "      <td>FEMALE</td>\n",
       "      <td>42.0</td>\n",
       "      <td>facebook</td>\n",
       "      <td>0</td>\n",
       "      <td>en</td>\n",
       "      <td>direct</td>\n",
       "      <td>direct</td>\n",
       "      <td>untracked</td>\n",
       "      <td>Web</td>\n",
       "      <td>Mac Desktop</td>\n",
       "      <td>Firefox</td>\n",
       "      <td>other</td>\n",
       "    </tr>\n",
       "    <tr>\n",
       "      <th>4</th>\n",
       "      <td>87mebub9p4</td>\n",
       "      <td>2010-09-14</td>\n",
       "      <td>20091208061105</td>\n",
       "      <td>2010-02-18</td>\n",
       "      <td>-unknown-</td>\n",
       "      <td>41.0</td>\n",
       "      <td>basic</td>\n",
       "      <td>0</td>\n",
       "      <td>en</td>\n",
       "      <td>direct</td>\n",
       "      <td>direct</td>\n",
       "      <td>untracked</td>\n",
       "      <td>Web</td>\n",
       "      <td>Mac Desktop</td>\n",
       "      <td>Chrome</td>\n",
       "      <td>US</td>\n",
       "    </tr>\n",
       "  </tbody>\n",
       "</table>\n",
       "</div>"
      ],
      "text/plain": [
       "           id date_account_created timestamp_first_active date_first_booking  \\\n",
       "0  gxn3p5htnn           2010-06-28         20090319043255               None   \n",
       "1  820tgsjxq7           2011-05-25         20090523174809               None   \n",
       "2  4ft3gnwmtx           2010-09-28         20090609231247         2010-08-02   \n",
       "3  bjjt8pjhuk           2011-12-05         20091031060129         2012-09-08   \n",
       "4  87mebub9p4           2010-09-14         20091208061105         2010-02-18   \n",
       "\n",
       "      gender   age signup_method signup_flow language affiliate_channel  \\\n",
       "0  -unknown-  None      facebook           0       en            direct   \n",
       "1       MALE  38.0      facebook           0       en               seo   \n",
       "2     FEMALE  56.0         basic           3       en            direct   \n",
       "3     FEMALE  42.0      facebook           0       en            direct   \n",
       "4  -unknown-  41.0         basic           0       en            direct   \n",
       "\n",
       "  affiliate_provider first_affiliate_tracked signup_app first_device_type  \\\n",
       "0             direct               untracked        Web       Mac Desktop   \n",
       "1             google               untracked        Web       Mac Desktop   \n",
       "2             direct               untracked        Web   Windows Desktop   \n",
       "3             direct               untracked        Web       Mac Desktop   \n",
       "4             direct               untracked        Web       Mac Desktop   \n",
       "\n",
       "  first_browser country_destination  \n",
       "0        Chrome                 NDF  \n",
       "1        Chrome                 NDF  \n",
       "2            IE                  US  \n",
       "3       Firefox               other  \n",
       "4        Chrome                  US  "
      ]
     },
     "execution_count": 21,
     "metadata": {},
     "output_type": "execute_result"
    }
   ],
   "source": [
    "train_users.toPandas().head()"
   ]
  },
  {
   "cell_type": "markdown",
   "metadata": {},
   "source": [
    "<h5>Transform the data type of the columns</h5>\n",
    "<p>* date_account_created ---> date tyeb</p>\n",
    "<p>* date_first_booking ---> date tyeb</p>\n",
    "<p>* age ---> float tyeb</p>\n",
    "<p>* signup_flow ---> float tyeb</p>"
   ]
  },
  {
   "cell_type": "code",
   "execution_count": 22,
   "metadata": {},
   "outputs": [
    {
     "name": "stdout",
     "output_type": "stream",
     "text": [
      "root\n",
      " |-- id: string (nullable = true)\n",
      " |-- date_account_created: date (nullable = true)\n",
      " |-- timestamp_first_active: string (nullable = true)\n",
      " |-- date_first_booking: date (nullable = true)\n",
      " |-- gender: string (nullable = true)\n",
      " |-- age: float (nullable = true)\n",
      " |-- signup_method: string (nullable = true)\n",
      " |-- signup_flow: float (nullable = true)\n",
      " |-- language: string (nullable = true)\n",
      " |-- affiliate_channel: string (nullable = true)\n",
      " |-- affiliate_provider: string (nullable = true)\n",
      " |-- first_affiliate_tracked: string (nullable = true)\n",
      " |-- signup_app: string (nullable = true)\n",
      " |-- first_device_type: string (nullable = true)\n",
      " |-- first_browser: string (nullable = true)\n",
      " |-- country_destination: string (nullable = true)\n",
      "\n"
     ]
    }
   ],
   "source": [
    "from pyspark.sql.types import IntegerType, DateType, FloatType\n",
    "\n",
    "train_users = train_users.withColumn(\"date_account_created\", train_users[\"date_account_created\"].cast(DateType()))\\\n",
    "    .withColumn(\"date_first_booking\",train_users[\"date_first_booking\"].cast(DateType()))\\\n",
    "    .withColumn(\"age\",train_users[\"age\"].cast(FloatType()))\\\n",
    "    .withColumn('signup_flow', train_users['signup_flow'].cast(FloatType()))\n",
    "train_users.printSchema()"
   ]
  },
  {
   "cell_type": "code",
   "execution_count": 23,
   "metadata": {},
   "outputs": [
    {
     "data": {
      "text/plain": [
       "DataFrame[summary: string, id: string, timestamp_first_active: string, gender: string, age: string, signup_method: string, signup_flow: string, language: string, affiliate_channel: string, affiliate_provider: string, first_affiliate_tracked: string, signup_app: string, first_device_type: string, first_browser: string, country_destination: string]"
      ]
     },
     "execution_count": 23,
     "metadata": {},
     "output_type": "execute_result"
    }
   ],
   "source": [
    "train_users.describe()"
   ]
  },
  {
   "cell_type": "code",
   "execution_count": 24,
   "metadata": {},
   "outputs": [
    {
     "data": {
      "text/html": [
       "<div>\n",
       "<style scoped>\n",
       "    .dataframe tbody tr th:only-of-type {\n",
       "        vertical-align: middle;\n",
       "    }\n",
       "\n",
       "    .dataframe tbody tr th {\n",
       "        vertical-align: top;\n",
       "    }\n",
       "\n",
       "    .dataframe thead th {\n",
       "        text-align: right;\n",
       "    }\n",
       "</style>\n",
       "<table border=\"1\" class=\"dataframe\">\n",
       "  <thead>\n",
       "    <tr style=\"text-align: right;\">\n",
       "      <th></th>\n",
       "      <th>id</th>\n",
       "      <th>date_account_created</th>\n",
       "      <th>timestamp_first_active</th>\n",
       "      <th>date_first_booking</th>\n",
       "      <th>gender</th>\n",
       "      <th>age</th>\n",
       "      <th>signup_method</th>\n",
       "      <th>signup_flow</th>\n",
       "      <th>language</th>\n",
       "      <th>affiliate_channel</th>\n",
       "      <th>affiliate_provider</th>\n",
       "      <th>first_affiliate_tracked</th>\n",
       "      <th>signup_app</th>\n",
       "      <th>first_device_type</th>\n",
       "      <th>first_browser</th>\n",
       "      <th>country_destination</th>\n",
       "    </tr>\n",
       "  </thead>\n",
       "  <tbody>\n",
       "    <tr>\n",
       "      <th>0</th>\n",
       "      <td>gxn3p5htnn</td>\n",
       "      <td>2010-06-28</td>\n",
       "      <td>20090319043255</td>\n",
       "      <td>None</td>\n",
       "      <td>-unknown-</td>\n",
       "      <td>NaN</td>\n",
       "      <td>facebook</td>\n",
       "      <td>0.0</td>\n",
       "      <td>en</td>\n",
       "      <td>direct</td>\n",
       "      <td>direct</td>\n",
       "      <td>untracked</td>\n",
       "      <td>Web</td>\n",
       "      <td>Mac Desktop</td>\n",
       "      <td>Chrome</td>\n",
       "      <td>NDF</td>\n",
       "    </tr>\n",
       "    <tr>\n",
       "      <th>1</th>\n",
       "      <td>820tgsjxq7</td>\n",
       "      <td>2011-05-25</td>\n",
       "      <td>20090523174809</td>\n",
       "      <td>None</td>\n",
       "      <td>MALE</td>\n",
       "      <td>38.0</td>\n",
       "      <td>facebook</td>\n",
       "      <td>0.0</td>\n",
       "      <td>en</td>\n",
       "      <td>seo</td>\n",
       "      <td>google</td>\n",
       "      <td>untracked</td>\n",
       "      <td>Web</td>\n",
       "      <td>Mac Desktop</td>\n",
       "      <td>Chrome</td>\n",
       "      <td>NDF</td>\n",
       "    </tr>\n",
       "    <tr>\n",
       "      <th>2</th>\n",
       "      <td>4ft3gnwmtx</td>\n",
       "      <td>2010-09-28</td>\n",
       "      <td>20090609231247</td>\n",
       "      <td>2010-08-02</td>\n",
       "      <td>FEMALE</td>\n",
       "      <td>56.0</td>\n",
       "      <td>basic</td>\n",
       "      <td>3.0</td>\n",
       "      <td>en</td>\n",
       "      <td>direct</td>\n",
       "      <td>direct</td>\n",
       "      <td>untracked</td>\n",
       "      <td>Web</td>\n",
       "      <td>Windows Desktop</td>\n",
       "      <td>IE</td>\n",
       "      <td>US</td>\n",
       "    </tr>\n",
       "    <tr>\n",
       "      <th>3</th>\n",
       "      <td>bjjt8pjhuk</td>\n",
       "      <td>2011-12-05</td>\n",
       "      <td>20091031060129</td>\n",
       "      <td>2012-09-08</td>\n",
       "      <td>FEMALE</td>\n",
       "      <td>42.0</td>\n",
       "      <td>facebook</td>\n",
       "      <td>0.0</td>\n",
       "      <td>en</td>\n",
       "      <td>direct</td>\n",
       "      <td>direct</td>\n",
       "      <td>untracked</td>\n",
       "      <td>Web</td>\n",
       "      <td>Mac Desktop</td>\n",
       "      <td>Firefox</td>\n",
       "      <td>other</td>\n",
       "    </tr>\n",
       "    <tr>\n",
       "      <th>4</th>\n",
       "      <td>87mebub9p4</td>\n",
       "      <td>2010-09-14</td>\n",
       "      <td>20091208061105</td>\n",
       "      <td>2010-02-18</td>\n",
       "      <td>-unknown-</td>\n",
       "      <td>41.0</td>\n",
       "      <td>basic</td>\n",
       "      <td>0.0</td>\n",
       "      <td>en</td>\n",
       "      <td>direct</td>\n",
       "      <td>direct</td>\n",
       "      <td>untracked</td>\n",
       "      <td>Web</td>\n",
       "      <td>Mac Desktop</td>\n",
       "      <td>Chrome</td>\n",
       "      <td>US</td>\n",
       "    </tr>\n",
       "  </tbody>\n",
       "</table>\n",
       "</div>"
      ],
      "text/plain": [
       "           id date_account_created timestamp_first_active date_first_booking  \\\n",
       "0  gxn3p5htnn           2010-06-28         20090319043255               None   \n",
       "1  820tgsjxq7           2011-05-25         20090523174809               None   \n",
       "2  4ft3gnwmtx           2010-09-28         20090609231247         2010-08-02   \n",
       "3  bjjt8pjhuk           2011-12-05         20091031060129         2012-09-08   \n",
       "4  87mebub9p4           2010-09-14         20091208061105         2010-02-18   \n",
       "\n",
       "      gender   age signup_method  signup_flow language affiliate_channel  \\\n",
       "0  -unknown-   NaN      facebook          0.0       en            direct   \n",
       "1       MALE  38.0      facebook          0.0       en               seo   \n",
       "2     FEMALE  56.0         basic          3.0       en            direct   \n",
       "3     FEMALE  42.0      facebook          0.0       en            direct   \n",
       "4  -unknown-  41.0         basic          0.0       en            direct   \n",
       "\n",
       "  affiliate_provider first_affiliate_tracked signup_app first_device_type  \\\n",
       "0             direct               untracked        Web       Mac Desktop   \n",
       "1             google               untracked        Web       Mac Desktop   \n",
       "2             direct               untracked        Web   Windows Desktop   \n",
       "3             direct               untracked        Web       Mac Desktop   \n",
       "4             direct               untracked        Web       Mac Desktop   \n",
       "\n",
       "  first_browser country_destination  \n",
       "0        Chrome                 NDF  \n",
       "1        Chrome                 NDF  \n",
       "2            IE                  US  \n",
       "3       Firefox               other  \n",
       "4        Chrome                  US  "
      ]
     },
     "execution_count": 24,
     "metadata": {},
     "output_type": "execute_result"
    }
   ],
   "source": [
    "train_users.toPandas().head()"
   ]
  },
  {
   "cell_type": "markdown",
   "metadata": {},
   "source": [
    "<h5>Convert gender from uppercase letter to lower case letter</h5>"
   ]
  },
  {
   "cell_type": "code",
   "execution_count": 25,
   "metadata": {},
   "outputs": [],
   "source": [
    "from pyspark.sql.functions import year, month, lower, col\n",
    "train_users = train_users.withColumn(\"gender\", lower(col('gender')))"
   ]
  },
  {
   "cell_type": "markdown",
   "metadata": {},
   "source": [
    "<h5>Droping unneeded columns</h5>"
   ]
  },
  {
   "cell_type": "code",
   "execution_count": 26,
   "metadata": {},
   "outputs": [],
   "source": [
    "drop = ['date_first_booking', 'first_affiliate_tracked', 'first_browser']\n",
    "\n",
    "train_users = train_users.select([column for column in train_users.columns if column not in drop])"
   ]
  },
  {
   "cell_type": "code",
   "execution_count": 27,
   "metadata": {},
   "outputs": [
    {
     "data": {
      "text/html": [
       "<div>\n",
       "<style scoped>\n",
       "    .dataframe tbody tr th:only-of-type {\n",
       "        vertical-align: middle;\n",
       "    }\n",
       "\n",
       "    .dataframe tbody tr th {\n",
       "        vertical-align: top;\n",
       "    }\n",
       "\n",
       "    .dataframe thead th {\n",
       "        text-align: right;\n",
       "    }\n",
       "</style>\n",
       "<table border=\"1\" class=\"dataframe\">\n",
       "  <thead>\n",
       "    <tr style=\"text-align: right;\">\n",
       "      <th></th>\n",
       "      <th>id</th>\n",
       "      <th>date_account_created</th>\n",
       "      <th>timestamp_first_active</th>\n",
       "      <th>gender</th>\n",
       "      <th>age</th>\n",
       "      <th>signup_method</th>\n",
       "      <th>signup_flow</th>\n",
       "      <th>language</th>\n",
       "      <th>affiliate_channel</th>\n",
       "      <th>affiliate_provider</th>\n",
       "      <th>signup_app</th>\n",
       "      <th>first_device_type</th>\n",
       "      <th>country_destination</th>\n",
       "    </tr>\n",
       "  </thead>\n",
       "  <tbody>\n",
       "    <tr>\n",
       "      <th>0</th>\n",
       "      <td>gxn3p5htnn</td>\n",
       "      <td>2010-06-28</td>\n",
       "      <td>20090319043255</td>\n",
       "      <td>-unknown-</td>\n",
       "      <td>NaN</td>\n",
       "      <td>facebook</td>\n",
       "      <td>0.0</td>\n",
       "      <td>en</td>\n",
       "      <td>direct</td>\n",
       "      <td>direct</td>\n",
       "      <td>Web</td>\n",
       "      <td>Mac Desktop</td>\n",
       "      <td>NDF</td>\n",
       "    </tr>\n",
       "    <tr>\n",
       "      <th>1</th>\n",
       "      <td>820tgsjxq7</td>\n",
       "      <td>2011-05-25</td>\n",
       "      <td>20090523174809</td>\n",
       "      <td>male</td>\n",
       "      <td>38.0</td>\n",
       "      <td>facebook</td>\n",
       "      <td>0.0</td>\n",
       "      <td>en</td>\n",
       "      <td>seo</td>\n",
       "      <td>google</td>\n",
       "      <td>Web</td>\n",
       "      <td>Mac Desktop</td>\n",
       "      <td>NDF</td>\n",
       "    </tr>\n",
       "    <tr>\n",
       "      <th>2</th>\n",
       "      <td>4ft3gnwmtx</td>\n",
       "      <td>2010-09-28</td>\n",
       "      <td>20090609231247</td>\n",
       "      <td>female</td>\n",
       "      <td>56.0</td>\n",
       "      <td>basic</td>\n",
       "      <td>3.0</td>\n",
       "      <td>en</td>\n",
       "      <td>direct</td>\n",
       "      <td>direct</td>\n",
       "      <td>Web</td>\n",
       "      <td>Windows Desktop</td>\n",
       "      <td>US</td>\n",
       "    </tr>\n",
       "    <tr>\n",
       "      <th>3</th>\n",
       "      <td>bjjt8pjhuk</td>\n",
       "      <td>2011-12-05</td>\n",
       "      <td>20091031060129</td>\n",
       "      <td>female</td>\n",
       "      <td>42.0</td>\n",
       "      <td>facebook</td>\n",
       "      <td>0.0</td>\n",
       "      <td>en</td>\n",
       "      <td>direct</td>\n",
       "      <td>direct</td>\n",
       "      <td>Web</td>\n",
       "      <td>Mac Desktop</td>\n",
       "      <td>other</td>\n",
       "    </tr>\n",
       "    <tr>\n",
       "      <th>4</th>\n",
       "      <td>87mebub9p4</td>\n",
       "      <td>2010-09-14</td>\n",
       "      <td>20091208061105</td>\n",
       "      <td>-unknown-</td>\n",
       "      <td>41.0</td>\n",
       "      <td>basic</td>\n",
       "      <td>0.0</td>\n",
       "      <td>en</td>\n",
       "      <td>direct</td>\n",
       "      <td>direct</td>\n",
       "      <td>Web</td>\n",
       "      <td>Mac Desktop</td>\n",
       "      <td>US</td>\n",
       "    </tr>\n",
       "  </tbody>\n",
       "</table>\n",
       "</div>"
      ],
      "text/plain": [
       "           id date_account_created timestamp_first_active     gender   age  \\\n",
       "0  gxn3p5htnn           2010-06-28         20090319043255  -unknown-   NaN   \n",
       "1  820tgsjxq7           2011-05-25         20090523174809       male  38.0   \n",
       "2  4ft3gnwmtx           2010-09-28         20090609231247     female  56.0   \n",
       "3  bjjt8pjhuk           2011-12-05         20091031060129     female  42.0   \n",
       "4  87mebub9p4           2010-09-14         20091208061105  -unknown-  41.0   \n",
       "\n",
       "  signup_method  signup_flow language affiliate_channel affiliate_provider  \\\n",
       "0      facebook          0.0       en            direct             direct   \n",
       "1      facebook          0.0       en               seo             google   \n",
       "2         basic          3.0       en            direct             direct   \n",
       "3      facebook          0.0       en            direct             direct   \n",
       "4         basic          0.0       en            direct             direct   \n",
       "\n",
       "  signup_app first_device_type country_destination  \n",
       "0        Web       Mac Desktop                 NDF  \n",
       "1        Web       Mac Desktop                 NDF  \n",
       "2        Web   Windows Desktop                  US  \n",
       "3        Web       Mac Desktop               other  \n",
       "4        Web       Mac Desktop                  US  "
      ]
     },
     "execution_count": 27,
     "metadata": {},
     "output_type": "execute_result"
    }
   ],
   "source": [
    "train_users.toPandas().head()"
   ]
  },
  {
   "cell_type": "markdown",
   "metadata": {},
   "source": [
    "<h5>Adding the total Session time we calculated above to the training dataset</h5>"
   ]
  },
  {
   "cell_type": "code",
   "execution_count": 28,
   "metadata": {},
   "outputs": [],
   "source": [
    "train_users = train_users.join(total_session_time, train_users[\"id\"] == total_session_time[\"user_id\"],how='left_outer').select(train_users[\"*\"],total_session_time[\"sum_secs_elapsed\"])\n"
   ]
  },
  {
   "cell_type": "code",
   "execution_count": 29,
   "metadata": {},
   "outputs": [
    {
     "data": {
      "text/html": [
       "<div>\n",
       "<style scoped>\n",
       "    .dataframe tbody tr th:only-of-type {\n",
       "        vertical-align: middle;\n",
       "    }\n",
       "\n",
       "    .dataframe tbody tr th {\n",
       "        vertical-align: top;\n",
       "    }\n",
       "\n",
       "    .dataframe thead th {\n",
       "        text-align: right;\n",
       "    }\n",
       "</style>\n",
       "<table border=\"1\" class=\"dataframe\">\n",
       "  <thead>\n",
       "    <tr style=\"text-align: right;\">\n",
       "      <th></th>\n",
       "      <th>id</th>\n",
       "      <th>date_account_created</th>\n",
       "      <th>timestamp_first_active</th>\n",
       "      <th>gender</th>\n",
       "      <th>age</th>\n",
       "      <th>signup_method</th>\n",
       "      <th>signup_flow</th>\n",
       "      <th>language</th>\n",
       "      <th>affiliate_channel</th>\n",
       "      <th>affiliate_provider</th>\n",
       "      <th>signup_app</th>\n",
       "      <th>first_device_type</th>\n",
       "      <th>country_destination</th>\n",
       "      <th>sum_secs_elapsed</th>\n",
       "    </tr>\n",
       "  </thead>\n",
       "  <tbody>\n",
       "    <tr>\n",
       "      <th>0</th>\n",
       "      <td>01r3iatdvv</td>\n",
       "      <td>2014-02-11</td>\n",
       "      <td>20140211202128</td>\n",
       "      <td>-unknown-</td>\n",
       "      <td>NaN</td>\n",
       "      <td>basic</td>\n",
       "      <td>0.0</td>\n",
       "      <td>en</td>\n",
       "      <td>direct</td>\n",
       "      <td>direct</td>\n",
       "      <td>Web</td>\n",
       "      <td>Mac Desktop</td>\n",
       "      <td>US</td>\n",
       "      <td>813485.0</td>\n",
       "    </tr>\n",
       "    <tr>\n",
       "      <th>1</th>\n",
       "      <td>02sgboyndc</td>\n",
       "      <td>2014-04-29</td>\n",
       "      <td>20140429213851</td>\n",
       "      <td>-unknown-</td>\n",
       "      <td>NaN</td>\n",
       "      <td>basic</td>\n",
       "      <td>0.0</td>\n",
       "      <td>en</td>\n",
       "      <td>sem-brand</td>\n",
       "      <td>google</td>\n",
       "      <td>Web</td>\n",
       "      <td>Mac Desktop</td>\n",
       "      <td>NDF</td>\n",
       "      <td>758902.0</td>\n",
       "    </tr>\n",
       "    <tr>\n",
       "      <th>2</th>\n",
       "      <td>03c7ihv5r8</td>\n",
       "      <td>2014-05-07</td>\n",
       "      <td>20140507223046</td>\n",
       "      <td>male</td>\n",
       "      <td>47.0</td>\n",
       "      <td>facebook</td>\n",
       "      <td>0.0</td>\n",
       "      <td>en</td>\n",
       "      <td>sem-brand</td>\n",
       "      <td>google</td>\n",
       "      <td>Web</td>\n",
       "      <td>Windows Desktop</td>\n",
       "      <td>NDF</td>\n",
       "      <td>3003287.0</td>\n",
       "    </tr>\n",
       "    <tr>\n",
       "      <th>3</th>\n",
       "      <td>05xkkfxs5v</td>\n",
       "      <td>2014-04-06</td>\n",
       "      <td>20140406183244</td>\n",
       "      <td>male</td>\n",
       "      <td>26.0</td>\n",
       "      <td>facebook</td>\n",
       "      <td>0.0</td>\n",
       "      <td>en</td>\n",
       "      <td>remarketing</td>\n",
       "      <td>google</td>\n",
       "      <td>Web</td>\n",
       "      <td>Mac Desktop</td>\n",
       "      <td>NDF</td>\n",
       "      <td>106376.0</td>\n",
       "    </tr>\n",
       "    <tr>\n",
       "      <th>4</th>\n",
       "      <td>08bys9zpkj</td>\n",
       "      <td>2013-07-04</td>\n",
       "      <td>20130704223816</td>\n",
       "      <td>female</td>\n",
       "      <td>50.0</td>\n",
       "      <td>facebook</td>\n",
       "      <td>0.0</td>\n",
       "      <td>en</td>\n",
       "      <td>sem-non-brand</td>\n",
       "      <td>google</td>\n",
       "      <td>Web</td>\n",
       "      <td>Mac Desktop</td>\n",
       "      <td>NDF</td>\n",
       "      <td>NaN</td>\n",
       "    </tr>\n",
       "  </tbody>\n",
       "</table>\n",
       "</div>"
      ],
      "text/plain": [
       "           id date_account_created timestamp_first_active     gender   age  \\\n",
       "0  01r3iatdvv           2014-02-11         20140211202128  -unknown-   NaN   \n",
       "1  02sgboyndc           2014-04-29         20140429213851  -unknown-   NaN   \n",
       "2  03c7ihv5r8           2014-05-07         20140507223046       male  47.0   \n",
       "3  05xkkfxs5v           2014-04-06         20140406183244       male  26.0   \n",
       "4  08bys9zpkj           2013-07-04         20130704223816     female  50.0   \n",
       "\n",
       "  signup_method  signup_flow language affiliate_channel affiliate_provider  \\\n",
       "0         basic          0.0       en            direct             direct   \n",
       "1         basic          0.0       en         sem-brand             google   \n",
       "2      facebook          0.0       en         sem-brand             google   \n",
       "3      facebook          0.0       en       remarketing             google   \n",
       "4      facebook          0.0       en     sem-non-brand             google   \n",
       "\n",
       "  signup_app first_device_type country_destination  sum_secs_elapsed  \n",
       "0        Web       Mac Desktop                  US          813485.0  \n",
       "1        Web       Mac Desktop                 NDF          758902.0  \n",
       "2        Web   Windows Desktop                 NDF         3003287.0  \n",
       "3        Web       Mac Desktop                 NDF          106376.0  \n",
       "4        Web       Mac Desktop                 NDF               NaN  "
      ]
     },
     "execution_count": 29,
     "metadata": {},
     "output_type": "execute_result"
    }
   ],
   "source": [
    "train_users.toPandas().head()"
   ]
  },
  {
   "cell_type": "markdown",
   "metadata": {},
   "source": [
    "<h5>Calculate month of account creation</h5>"
   ]
  },
  {
   "cell_type": "code",
   "execution_count": 30,
   "metadata": {},
   "outputs": [],
   "source": [
    "train_users = train_users.withColumn(\"month_of_creation\", month(\"date_account_created\"))"
   ]
  },
  {
   "cell_type": "code",
   "execution_count": 31,
   "metadata": {},
   "outputs": [
    {
     "data": {
      "text/html": [
       "<div>\n",
       "<style scoped>\n",
       "    .dataframe tbody tr th:only-of-type {\n",
       "        vertical-align: middle;\n",
       "    }\n",
       "\n",
       "    .dataframe tbody tr th {\n",
       "        vertical-align: top;\n",
       "    }\n",
       "\n",
       "    .dataframe thead th {\n",
       "        text-align: right;\n",
       "    }\n",
       "</style>\n",
       "<table border=\"1\" class=\"dataframe\">\n",
       "  <thead>\n",
       "    <tr style=\"text-align: right;\">\n",
       "      <th></th>\n",
       "      <th>id</th>\n",
       "      <th>date_account_created</th>\n",
       "      <th>timestamp_first_active</th>\n",
       "      <th>gender</th>\n",
       "      <th>age</th>\n",
       "      <th>signup_method</th>\n",
       "      <th>signup_flow</th>\n",
       "      <th>language</th>\n",
       "      <th>affiliate_channel</th>\n",
       "      <th>affiliate_provider</th>\n",
       "      <th>signup_app</th>\n",
       "      <th>first_device_type</th>\n",
       "      <th>country_destination</th>\n",
       "      <th>sum_secs_elapsed</th>\n",
       "      <th>month_of_creation</th>\n",
       "    </tr>\n",
       "  </thead>\n",
       "  <tbody>\n",
       "    <tr>\n",
       "      <th>0</th>\n",
       "      <td>01r3iatdvv</td>\n",
       "      <td>2014-02-11</td>\n",
       "      <td>20140211202128</td>\n",
       "      <td>-unknown-</td>\n",
       "      <td>NaN</td>\n",
       "      <td>basic</td>\n",
       "      <td>0.0</td>\n",
       "      <td>en</td>\n",
       "      <td>direct</td>\n",
       "      <td>direct</td>\n",
       "      <td>Web</td>\n",
       "      <td>Mac Desktop</td>\n",
       "      <td>US</td>\n",
       "      <td>813485.0</td>\n",
       "      <td>2</td>\n",
       "    </tr>\n",
       "    <tr>\n",
       "      <th>1</th>\n",
       "      <td>02sgboyndc</td>\n",
       "      <td>2014-04-29</td>\n",
       "      <td>20140429213851</td>\n",
       "      <td>-unknown-</td>\n",
       "      <td>NaN</td>\n",
       "      <td>basic</td>\n",
       "      <td>0.0</td>\n",
       "      <td>en</td>\n",
       "      <td>sem-brand</td>\n",
       "      <td>google</td>\n",
       "      <td>Web</td>\n",
       "      <td>Mac Desktop</td>\n",
       "      <td>NDF</td>\n",
       "      <td>758902.0</td>\n",
       "      <td>4</td>\n",
       "    </tr>\n",
       "    <tr>\n",
       "      <th>2</th>\n",
       "      <td>03c7ihv5r8</td>\n",
       "      <td>2014-05-07</td>\n",
       "      <td>20140507223046</td>\n",
       "      <td>male</td>\n",
       "      <td>47.0</td>\n",
       "      <td>facebook</td>\n",
       "      <td>0.0</td>\n",
       "      <td>en</td>\n",
       "      <td>sem-brand</td>\n",
       "      <td>google</td>\n",
       "      <td>Web</td>\n",
       "      <td>Windows Desktop</td>\n",
       "      <td>NDF</td>\n",
       "      <td>3003287.0</td>\n",
       "      <td>5</td>\n",
       "    </tr>\n",
       "    <tr>\n",
       "      <th>3</th>\n",
       "      <td>05xkkfxs5v</td>\n",
       "      <td>2014-04-06</td>\n",
       "      <td>20140406183244</td>\n",
       "      <td>male</td>\n",
       "      <td>26.0</td>\n",
       "      <td>facebook</td>\n",
       "      <td>0.0</td>\n",
       "      <td>en</td>\n",
       "      <td>remarketing</td>\n",
       "      <td>google</td>\n",
       "      <td>Web</td>\n",
       "      <td>Mac Desktop</td>\n",
       "      <td>NDF</td>\n",
       "      <td>106376.0</td>\n",
       "      <td>4</td>\n",
       "    </tr>\n",
       "    <tr>\n",
       "      <th>4</th>\n",
       "      <td>08bys9zpkj</td>\n",
       "      <td>2013-07-04</td>\n",
       "      <td>20130704223816</td>\n",
       "      <td>female</td>\n",
       "      <td>50.0</td>\n",
       "      <td>facebook</td>\n",
       "      <td>0.0</td>\n",
       "      <td>en</td>\n",
       "      <td>sem-non-brand</td>\n",
       "      <td>google</td>\n",
       "      <td>Web</td>\n",
       "      <td>Mac Desktop</td>\n",
       "      <td>NDF</td>\n",
       "      <td>NaN</td>\n",
       "      <td>7</td>\n",
       "    </tr>\n",
       "  </tbody>\n",
       "</table>\n",
       "</div>"
      ],
      "text/plain": [
       "           id date_account_created timestamp_first_active     gender   age  \\\n",
       "0  01r3iatdvv           2014-02-11         20140211202128  -unknown-   NaN   \n",
       "1  02sgboyndc           2014-04-29         20140429213851  -unknown-   NaN   \n",
       "2  03c7ihv5r8           2014-05-07         20140507223046       male  47.0   \n",
       "3  05xkkfxs5v           2014-04-06         20140406183244       male  26.0   \n",
       "4  08bys9zpkj           2013-07-04         20130704223816     female  50.0   \n",
       "\n",
       "  signup_method  signup_flow language affiliate_channel affiliate_provider  \\\n",
       "0         basic          0.0       en            direct             direct   \n",
       "1         basic          0.0       en         sem-brand             google   \n",
       "2      facebook          0.0       en         sem-brand             google   \n",
       "3      facebook          0.0       en       remarketing             google   \n",
       "4      facebook          0.0       en     sem-non-brand             google   \n",
       "\n",
       "  signup_app first_device_type country_destination  sum_secs_elapsed  \\\n",
       "0        Web       Mac Desktop                  US          813485.0   \n",
       "1        Web       Mac Desktop                 NDF          758902.0   \n",
       "2        Web   Windows Desktop                 NDF         3003287.0   \n",
       "3        Web       Mac Desktop                 NDF          106376.0   \n",
       "4        Web       Mac Desktop                 NDF               NaN   \n",
       "\n",
       "   month_of_creation  \n",
       "0                  2  \n",
       "1                  4  \n",
       "2                  5  \n",
       "3                  4  \n",
       "4                  7  "
      ]
     },
     "execution_count": 31,
     "metadata": {},
     "output_type": "execute_result"
    }
   ],
   "source": [
    "train_users.toPandas().head()"
   ]
  },
  {
   "cell_type": "markdown",
   "metadata": {},
   "source": [
    "<h5>Drop date columns</h5>"
   ]
  },
  {
   "cell_type": "code",
   "execution_count": 32,
   "metadata": {},
   "outputs": [],
   "source": [
    "drop = ['date_account_created', 'timestamp_first_active']\n",
    "\n",
    "train_users = train_users.select([column for column in train_users.columns if column not in drop])"
   ]
  },
  {
   "cell_type": "code",
   "execution_count": 33,
   "metadata": {},
   "outputs": [
    {
     "data": {
      "text/html": [
       "<div>\n",
       "<style scoped>\n",
       "    .dataframe tbody tr th:only-of-type {\n",
       "        vertical-align: middle;\n",
       "    }\n",
       "\n",
       "    .dataframe tbody tr th {\n",
       "        vertical-align: top;\n",
       "    }\n",
       "\n",
       "    .dataframe thead th {\n",
       "        text-align: right;\n",
       "    }\n",
       "</style>\n",
       "<table border=\"1\" class=\"dataframe\">\n",
       "  <thead>\n",
       "    <tr style=\"text-align: right;\">\n",
       "      <th></th>\n",
       "      <th>id</th>\n",
       "      <th>gender</th>\n",
       "      <th>age</th>\n",
       "      <th>signup_method</th>\n",
       "      <th>signup_flow</th>\n",
       "      <th>language</th>\n",
       "      <th>affiliate_channel</th>\n",
       "      <th>affiliate_provider</th>\n",
       "      <th>signup_app</th>\n",
       "      <th>first_device_type</th>\n",
       "      <th>country_destination</th>\n",
       "      <th>sum_secs_elapsed</th>\n",
       "      <th>month_of_creation</th>\n",
       "    </tr>\n",
       "  </thead>\n",
       "  <tbody>\n",
       "    <tr>\n",
       "      <th>0</th>\n",
       "      <td>01r3iatdvv</td>\n",
       "      <td>-unknown-</td>\n",
       "      <td>NaN</td>\n",
       "      <td>basic</td>\n",
       "      <td>0.0</td>\n",
       "      <td>en</td>\n",
       "      <td>direct</td>\n",
       "      <td>direct</td>\n",
       "      <td>Web</td>\n",
       "      <td>Mac Desktop</td>\n",
       "      <td>US</td>\n",
       "      <td>813485.0</td>\n",
       "      <td>2</td>\n",
       "    </tr>\n",
       "    <tr>\n",
       "      <th>1</th>\n",
       "      <td>02sgboyndc</td>\n",
       "      <td>-unknown-</td>\n",
       "      <td>NaN</td>\n",
       "      <td>basic</td>\n",
       "      <td>0.0</td>\n",
       "      <td>en</td>\n",
       "      <td>sem-brand</td>\n",
       "      <td>google</td>\n",
       "      <td>Web</td>\n",
       "      <td>Mac Desktop</td>\n",
       "      <td>NDF</td>\n",
       "      <td>758902.0</td>\n",
       "      <td>4</td>\n",
       "    </tr>\n",
       "    <tr>\n",
       "      <th>2</th>\n",
       "      <td>03c7ihv5r8</td>\n",
       "      <td>male</td>\n",
       "      <td>47.0</td>\n",
       "      <td>facebook</td>\n",
       "      <td>0.0</td>\n",
       "      <td>en</td>\n",
       "      <td>sem-brand</td>\n",
       "      <td>google</td>\n",
       "      <td>Web</td>\n",
       "      <td>Windows Desktop</td>\n",
       "      <td>NDF</td>\n",
       "      <td>3003287.0</td>\n",
       "      <td>5</td>\n",
       "    </tr>\n",
       "    <tr>\n",
       "      <th>3</th>\n",
       "      <td>05xkkfxs5v</td>\n",
       "      <td>male</td>\n",
       "      <td>26.0</td>\n",
       "      <td>facebook</td>\n",
       "      <td>0.0</td>\n",
       "      <td>en</td>\n",
       "      <td>remarketing</td>\n",
       "      <td>google</td>\n",
       "      <td>Web</td>\n",
       "      <td>Mac Desktop</td>\n",
       "      <td>NDF</td>\n",
       "      <td>106376.0</td>\n",
       "      <td>4</td>\n",
       "    </tr>\n",
       "    <tr>\n",
       "      <th>4</th>\n",
       "      <td>08bys9zpkj</td>\n",
       "      <td>female</td>\n",
       "      <td>50.0</td>\n",
       "      <td>facebook</td>\n",
       "      <td>0.0</td>\n",
       "      <td>en</td>\n",
       "      <td>sem-non-brand</td>\n",
       "      <td>google</td>\n",
       "      <td>Web</td>\n",
       "      <td>Mac Desktop</td>\n",
       "      <td>NDF</td>\n",
       "      <td>NaN</td>\n",
       "      <td>7</td>\n",
       "    </tr>\n",
       "  </tbody>\n",
       "</table>\n",
       "</div>"
      ],
      "text/plain": [
       "           id     gender   age signup_method  signup_flow language  \\\n",
       "0  01r3iatdvv  -unknown-   NaN         basic          0.0       en   \n",
       "1  02sgboyndc  -unknown-   NaN         basic          0.0       en   \n",
       "2  03c7ihv5r8       male  47.0      facebook          0.0       en   \n",
       "3  05xkkfxs5v       male  26.0      facebook          0.0       en   \n",
       "4  08bys9zpkj     female  50.0      facebook          0.0       en   \n",
       "\n",
       "  affiliate_channel affiliate_provider signup_app first_device_type  \\\n",
       "0            direct             direct        Web       Mac Desktop   \n",
       "1         sem-brand             google        Web       Mac Desktop   \n",
       "2         sem-brand             google        Web   Windows Desktop   \n",
       "3       remarketing             google        Web       Mac Desktop   \n",
       "4     sem-non-brand             google        Web       Mac Desktop   \n",
       "\n",
       "  country_destination  sum_secs_elapsed  month_of_creation  \n",
       "0                  US          813485.0                  2  \n",
       "1                 NDF          758902.0                  4  \n",
       "2                 NDF         3003287.0                  5  \n",
       "3                 NDF          106376.0                  4  \n",
       "4                 NDF               NaN                  7  "
      ]
     },
     "execution_count": 33,
     "metadata": {},
     "output_type": "execute_result"
    }
   ],
   "source": [
    "train_users.toPandas().head()"
   ]
  },
  {
   "cell_type": "markdown",
   "metadata": {},
   "source": [
    "<h5>Find categoral columns</h5>"
   ]
  },
  {
   "cell_type": "code",
   "execution_count": 34,
   "metadata": {},
   "outputs": [
    {
     "data": {
      "text/plain": [
       "['id',\n",
       " 'gender',\n",
       " 'signup_method',\n",
       " 'language',\n",
       " 'affiliate_channel',\n",
       " 'affiliate_provider',\n",
       " 'signup_app',\n",
       " 'first_device_type',\n",
       " 'country_destination']"
      ]
     },
     "execution_count": 34,
     "metadata": {},
     "output_type": "execute_result"
    }
   ],
   "source": [
    "cat_cols = [item[0] for item in train_users.dtypes if item[1].startswith('string')] \n",
    "cat_cols"
   ]
  },
  {
   "cell_type": "markdown",
   "metadata": {},
   "source": [
    "<p>Excluding 'country_destination' ----> our labels</p>"
   ]
  },
  {
   "cell_type": "code",
   "execution_count": 35,
   "metadata": {},
   "outputs": [
    {
     "data": {
      "text/plain": [
       "['id',\n",
       " 'gender',\n",
       " 'signup_method',\n",
       " 'language',\n",
       " 'affiliate_channel',\n",
       " 'affiliate_provider',\n",
       " 'signup_app',\n",
       " 'first_device_type']"
      ]
     },
     "execution_count": 35,
     "metadata": {},
     "output_type": "execute_result"
    }
   ],
   "source": [
    "cat_cols.pop(-1)\n",
    "cat_cols"
   ]
  },
  {
   "cell_type": "markdown",
   "metadata": {},
   "source": [
    "<h5>Find numerical columns</h5>"
   ]
  },
  {
   "cell_type": "code",
   "execution_count": 36,
   "metadata": {},
   "outputs": [
    {
     "data": {
      "text/plain": [
       "['age', 'signup_flow', 'sum_secs_elapsed', 'month_of_creation']"
      ]
     },
     "execution_count": 36,
     "metadata": {},
     "output_type": "execute_result"
    }
   ],
   "source": [
    "num_cols = [item[0] for item in train_users.dtypes if item[1].startswith('int') | item[1].startswith('double') | item[1].startswith('float')] \n",
    "num_cols"
   ]
  },
  {
   "cell_type": "markdown",
   "metadata": {},
   "source": [
    "<h5>Find which columns contain null or unknown values</h5>"
   ]
  },
  {
   "cell_type": "code",
   "execution_count": 37,
   "metadata": {},
   "outputs": [
    {
     "data": {
      "text/plain": [
       "[]"
      ]
     },
     "execution_count": 37,
     "metadata": {},
     "output_type": "execute_result"
    }
   ],
   "source": [
    "cat_null_cols = [column for column in cat_cols if train_users.where(col(column).isNull()).count() > 0]\n",
    "cat_null_cols"
   ]
  },
  {
   "cell_type": "code",
   "execution_count": 38,
   "metadata": {},
   "outputs": [
    {
     "data": {
      "text/plain": [
       "['age', 'signup_flow', 'sum_secs_elapsed']"
      ]
     },
     "execution_count": 38,
     "metadata": {},
     "output_type": "execute_result"
    }
   ],
   "source": [
    "from pyspark.sql.functions import lit\n",
    "num_null_cols = [column for column in num_cols if train_users.filter(col(column).isNull() | col(column).eqNullSafe(0)).count() > 0]\n",
    "num_null_cols"
   ]
  },
  {
   "cell_type": "code",
   "execution_count": 39,
   "metadata": {},
   "outputs": [],
   "source": [
    "train_users = train_users.fillna(0, subset=['age'])\n",
    "train_users =  train_users.fillna(0, subset=['sum_secs_elapsed'])\n",
    "train_users = train_users.fillna(0, subset=['signup_flow'])"
   ]
  },
  {
   "cell_type": "code",
   "execution_count": 40,
   "metadata": {},
   "outputs": [
    {
     "data": {
      "text/html": [
       "<div>\n",
       "<style scoped>\n",
       "    .dataframe tbody tr th:only-of-type {\n",
       "        vertical-align: middle;\n",
       "    }\n",
       "\n",
       "    .dataframe tbody tr th {\n",
       "        vertical-align: top;\n",
       "    }\n",
       "\n",
       "    .dataframe thead th {\n",
       "        text-align: right;\n",
       "    }\n",
       "</style>\n",
       "<table border=\"1\" class=\"dataframe\">\n",
       "  <thead>\n",
       "    <tr style=\"text-align: right;\">\n",
       "      <th></th>\n",
       "      <th>id</th>\n",
       "      <th>gender</th>\n",
       "      <th>age</th>\n",
       "      <th>signup_method</th>\n",
       "      <th>signup_flow</th>\n",
       "      <th>language</th>\n",
       "      <th>affiliate_channel</th>\n",
       "      <th>affiliate_provider</th>\n",
       "      <th>signup_app</th>\n",
       "      <th>first_device_type</th>\n",
       "      <th>country_destination</th>\n",
       "      <th>sum_secs_elapsed</th>\n",
       "      <th>month_of_creation</th>\n",
       "    </tr>\n",
       "  </thead>\n",
       "  <tbody>\n",
       "    <tr>\n",
       "      <th>0</th>\n",
       "      <td>01r3iatdvv</td>\n",
       "      <td>-unknown-</td>\n",
       "      <td>0.0</td>\n",
       "      <td>basic</td>\n",
       "      <td>0.0</td>\n",
       "      <td>en</td>\n",
       "      <td>direct</td>\n",
       "      <td>direct</td>\n",
       "      <td>Web</td>\n",
       "      <td>Mac Desktop</td>\n",
       "      <td>US</td>\n",
       "      <td>813485.0</td>\n",
       "      <td>2</td>\n",
       "    </tr>\n",
       "    <tr>\n",
       "      <th>1</th>\n",
       "      <td>02sgboyndc</td>\n",
       "      <td>-unknown-</td>\n",
       "      <td>0.0</td>\n",
       "      <td>basic</td>\n",
       "      <td>0.0</td>\n",
       "      <td>en</td>\n",
       "      <td>sem-brand</td>\n",
       "      <td>google</td>\n",
       "      <td>Web</td>\n",
       "      <td>Mac Desktop</td>\n",
       "      <td>NDF</td>\n",
       "      <td>758902.0</td>\n",
       "      <td>4</td>\n",
       "    </tr>\n",
       "    <tr>\n",
       "      <th>2</th>\n",
       "      <td>03c7ihv5r8</td>\n",
       "      <td>male</td>\n",
       "      <td>47.0</td>\n",
       "      <td>facebook</td>\n",
       "      <td>0.0</td>\n",
       "      <td>en</td>\n",
       "      <td>sem-brand</td>\n",
       "      <td>google</td>\n",
       "      <td>Web</td>\n",
       "      <td>Windows Desktop</td>\n",
       "      <td>NDF</td>\n",
       "      <td>3003287.0</td>\n",
       "      <td>5</td>\n",
       "    </tr>\n",
       "    <tr>\n",
       "      <th>3</th>\n",
       "      <td>05xkkfxs5v</td>\n",
       "      <td>male</td>\n",
       "      <td>26.0</td>\n",
       "      <td>facebook</td>\n",
       "      <td>0.0</td>\n",
       "      <td>en</td>\n",
       "      <td>remarketing</td>\n",
       "      <td>google</td>\n",
       "      <td>Web</td>\n",
       "      <td>Mac Desktop</td>\n",
       "      <td>NDF</td>\n",
       "      <td>106376.0</td>\n",
       "      <td>4</td>\n",
       "    </tr>\n",
       "    <tr>\n",
       "      <th>4</th>\n",
       "      <td>08bys9zpkj</td>\n",
       "      <td>female</td>\n",
       "      <td>50.0</td>\n",
       "      <td>facebook</td>\n",
       "      <td>0.0</td>\n",
       "      <td>en</td>\n",
       "      <td>sem-non-brand</td>\n",
       "      <td>google</td>\n",
       "      <td>Web</td>\n",
       "      <td>Mac Desktop</td>\n",
       "      <td>NDF</td>\n",
       "      <td>0.0</td>\n",
       "      <td>7</td>\n",
       "    </tr>\n",
       "  </tbody>\n",
       "</table>\n",
       "</div>"
      ],
      "text/plain": [
       "           id     gender   age signup_method  signup_flow language  \\\n",
       "0  01r3iatdvv  -unknown-   0.0         basic          0.0       en   \n",
       "1  02sgboyndc  -unknown-   0.0         basic          0.0       en   \n",
       "2  03c7ihv5r8       male  47.0      facebook          0.0       en   \n",
       "3  05xkkfxs5v       male  26.0      facebook          0.0       en   \n",
       "4  08bys9zpkj     female  50.0      facebook          0.0       en   \n",
       "\n",
       "  affiliate_channel affiliate_provider signup_app first_device_type  \\\n",
       "0            direct             direct        Web       Mac Desktop   \n",
       "1         sem-brand             google        Web       Mac Desktop   \n",
       "2         sem-brand             google        Web   Windows Desktop   \n",
       "3       remarketing             google        Web       Mac Desktop   \n",
       "4     sem-non-brand             google        Web       Mac Desktop   \n",
       "\n",
       "  country_destination  sum_secs_elapsed  month_of_creation  \n",
       "0                  US          813485.0                  2  \n",
       "1                 NDF          758902.0                  4  \n",
       "2                 NDF         3003287.0                  5  \n",
       "3                 NDF          106376.0                  4  \n",
       "4                 NDF               0.0                  7  "
      ]
     },
     "execution_count": 40,
     "metadata": {},
     "output_type": "execute_result"
    }
   ],
   "source": [
    "train_users.toPandas().head()"
   ]
  },
  {
   "cell_type": "markdown",
   "metadata": {},
   "source": [
    "<h5>Transform categorical fields</h5>\n",
    "<p>First use StringIndexer to convert categorical values to indices</p>"
   ]
  },
  {
   "cell_type": "code",
   "execution_count": 41,
   "metadata": {},
   "outputs": [
    {
     "data": {
      "text/plain": [
       "list"
      ]
     },
     "execution_count": 41,
     "metadata": {},
     "output_type": "execute_result"
    }
   ],
   "source": [
    "from pyspark.ml.feature import StringIndexer\n",
    "indexers = [StringIndexer(inputCol=column,\n",
    "                          outputCol=column + '_indexed', \n",
    "                          handleInvalid='keep') for column in cat_cols]\n",
    "type(indexers)"
   ]
  },
  {
   "cell_type": "markdown",
   "metadata": {},
   "source": [
    "<h5>OneHotEncoding</h5>"
   ]
  },
  {
   "cell_type": "code",
   "execution_count": 42,
   "metadata": {},
   "outputs": [
    {
     "data": {
      "text/plain": [
       "\"from pyspark.ml.feature import OneHotEncoder\\n\\nencoder = OneHotEncoder(inputCols=[column+'_indexed' for column in cat_cols], \\n                                 outputCols=[column+'_encoded' for column in cat_cols])\\nmodel = encoder.fit(indexers)\\nencoded = model.transform(indexers)\""
      ]
     },
     "execution_count": 42,
     "metadata": {},
     "output_type": "execute_result"
    }
   ],
   "source": [
    "'''from pyspark.ml.feature import OneHotEncoder\n",
    "\n",
    "encoder = OneHotEncoder(inputCols=[column+'_indexed' for column in cat_cols], \n",
    "                                 outputCols=[column+'_encoded' for column in cat_cols])\n",
    "model = encoder.fit(indexers)\n",
    "encoded = model.transform(indexers)'''"
   ]
  },
  {
   "cell_type": "code",
   "execution_count": 43,
   "metadata": {},
   "outputs": [],
   "source": [
    "from pyspark.ml.feature import OneHotEncoder\n",
    "\n",
    "encoders = [OneHotEncoder(\n",
    "    inputCol= column + '_index', \n",
    "    outputCol= column + '_encoded') for column in cat_cols if column not in ['Label']]"
   ]
  },
  {
   "cell_type": "code",
   "execution_count": 44,
   "metadata": {},
   "outputs": [
    {
     "data": {
      "text/plain": [
       "list"
      ]
     },
     "execution_count": 44,
     "metadata": {},
     "output_type": "execute_result"
    }
   ],
   "source": [
    "type(encoders)"
   ]
  },
  {
   "cell_type": "markdown",
   "metadata": {},
   "source": [
    "<h5>Create a pipeline</h5>"
   ]
  },
  {
   "cell_type": "code",
   "execution_count": 45,
   "metadata": {},
   "outputs": [],
   "source": [
    "from pyspark.ml import Pipeline\n",
    "pipeline = Pipeline(stages=indexers + [encoders])"
   ]
  },
  {
   "cell_type": "markdown",
   "metadata": {},
   "source": [
    "<h5>View the result of the transformations performed by this pipeline</h5>"
   ]
  },
  {
   "cell_type": "code",
   "execution_count": 46,
   "metadata": {},
   "outputs": [
    {
     "data": {
      "text/plain": [
       "'transformedDF = pipeline.fit(train_users).transform(train_users)'"
      ]
     },
     "execution_count": 46,
     "metadata": {},
     "output_type": "execute_result"
    }
   ],
   "source": [
    "'''transformedDF = pipeline.fit(train_users).transform(train_users)'''\n",
    "\n",
    "#train_users = pipeline.transform(train_users)"
   ]
  },
  {
   "cell_type": "code",
   "execution_count": 47,
   "metadata": {},
   "outputs": [
    {
     "data": {
      "text/plain": [
       "\"transformedDF.toPandas().head()\\n\\ntrain_users = train_users.drop(*[column+'_indexed' for column in cat_cols])\\ntrain_users.fillna(0.0)\\n\\ntrain_users.toPandas().head()\""
      ]
     },
     "execution_count": 47,
     "metadata": {},
     "output_type": "execute_result"
    }
   ],
   "source": [
    "'''transformedDF.toPandas().head()\n",
    "\n",
    "train_users = train_users.drop(*[column+'_indexed' for column in cat_cols])\n",
    "train_users.fillna(0.0)\n",
    "\n",
    "train_users.toPandas().head()'''"
   ]
  },
  {
   "cell_type": "markdown",
   "metadata": {},
   "source": [
    "<h5>Take a sample of data</h5>"
   ]
  },
  {
   "cell_type": "code",
   "execution_count": 48,
   "metadata": {},
   "outputs": [],
   "source": [
    "#(sample, data) = train_users.randomSplit([0.2,0.7])\n",
    "(sample, data) = train_users.randomSplit([0.01,0.99])"
   ]
  },
  {
   "cell_type": "code",
   "execution_count": 49,
   "metadata": {},
   "outputs": [
    {
     "name": "stdout",
     "output_type": "stream",
     "text": [
      "2137\n",
      "213451\n"
     ]
    }
   ],
   "source": [
    "print(sample.count())\n",
    "print(train_users.count())"
   ]
  },
  {
   "cell_type": "code",
   "execution_count": 50,
   "metadata": {},
   "outputs": [
    {
     "data": {
      "text/html": [
       "<div>\n",
       "<style scoped>\n",
       "    .dataframe tbody tr th:only-of-type {\n",
       "        vertical-align: middle;\n",
       "    }\n",
       "\n",
       "    .dataframe tbody tr th {\n",
       "        vertical-align: top;\n",
       "    }\n",
       "\n",
       "    .dataframe thead th {\n",
       "        text-align: right;\n",
       "    }\n",
       "</style>\n",
       "<table border=\"1\" class=\"dataframe\">\n",
       "  <thead>\n",
       "    <tr style=\"text-align: right;\">\n",
       "      <th></th>\n",
       "      <th>id</th>\n",
       "      <th>gender</th>\n",
       "      <th>age</th>\n",
       "      <th>signup_method</th>\n",
       "      <th>signup_flow</th>\n",
       "      <th>language</th>\n",
       "      <th>affiliate_channel</th>\n",
       "      <th>affiliate_provider</th>\n",
       "      <th>signup_app</th>\n",
       "      <th>first_device_type</th>\n",
       "      <th>country_destination</th>\n",
       "      <th>sum_secs_elapsed</th>\n",
       "      <th>month_of_creation</th>\n",
       "    </tr>\n",
       "  </thead>\n",
       "  <tbody>\n",
       "    <tr>\n",
       "      <th>0</th>\n",
       "      <td>1iaydx07yy</td>\n",
       "      <td>female</td>\n",
       "      <td>29.0</td>\n",
       "      <td>facebook</td>\n",
       "      <td>12.0</td>\n",
       "      <td>en</td>\n",
       "      <td>api</td>\n",
       "      <td>other</td>\n",
       "      <td>Moweb</td>\n",
       "      <td>iPhone</td>\n",
       "      <td>US</td>\n",
       "      <td>0.0</td>\n",
       "      <td>2</td>\n",
       "    </tr>\n",
       "    <tr>\n",
       "      <th>1</th>\n",
       "      <td>fde35io9q4</td>\n",
       "      <td>-unknown-</td>\n",
       "      <td>0.0</td>\n",
       "      <td>basic</td>\n",
       "      <td>0.0</td>\n",
       "      <td>en</td>\n",
       "      <td>seo</td>\n",
       "      <td>google</td>\n",
       "      <td>Web</td>\n",
       "      <td>Mac Desktop</td>\n",
       "      <td>NDF</td>\n",
       "      <td>2337422.0</td>\n",
       "      <td>6</td>\n",
       "    </tr>\n",
       "    <tr>\n",
       "      <th>2</th>\n",
       "      <td>mom7gx8cht</td>\n",
       "      <td>-unknown-</td>\n",
       "      <td>0.0</td>\n",
       "      <td>basic</td>\n",
       "      <td>12.0</td>\n",
       "      <td>en</td>\n",
       "      <td>api</td>\n",
       "      <td>other</td>\n",
       "      <td>Web</td>\n",
       "      <td>Windows Desktop</td>\n",
       "      <td>NDF</td>\n",
       "      <td>0.0</td>\n",
       "      <td>7</td>\n",
       "    </tr>\n",
       "    <tr>\n",
       "      <th>3</th>\n",
       "      <td>mufb3oqq1u</td>\n",
       "      <td>-unknown-</td>\n",
       "      <td>0.0</td>\n",
       "      <td>basic</td>\n",
       "      <td>0.0</td>\n",
       "      <td>en</td>\n",
       "      <td>other</td>\n",
       "      <td>padmapper</td>\n",
       "      <td>Web</td>\n",
       "      <td>Mac Desktop</td>\n",
       "      <td>NDF</td>\n",
       "      <td>0.0</td>\n",
       "      <td>10</td>\n",
       "    </tr>\n",
       "    <tr>\n",
       "      <th>4</th>\n",
       "      <td>pwweotgcx3</td>\n",
       "      <td>male</td>\n",
       "      <td>25.0</td>\n",
       "      <td>facebook</td>\n",
       "      <td>12.0</td>\n",
       "      <td>en</td>\n",
       "      <td>api</td>\n",
       "      <td>other</td>\n",
       "      <td>iOS</td>\n",
       "      <td>iPhone</td>\n",
       "      <td>NDF</td>\n",
       "      <td>291.0</td>\n",
       "      <td>1</td>\n",
       "    </tr>\n",
       "  </tbody>\n",
       "</table>\n",
       "</div>"
      ],
      "text/plain": [
       "           id     gender   age signup_method  signup_flow language  \\\n",
       "0  1iaydx07yy     female  29.0      facebook         12.0       en   \n",
       "1  fde35io9q4  -unknown-   0.0         basic          0.0       en   \n",
       "2  mom7gx8cht  -unknown-   0.0         basic         12.0       en   \n",
       "3  mufb3oqq1u  -unknown-   0.0         basic          0.0       en   \n",
       "4  pwweotgcx3       male  25.0      facebook         12.0       en   \n",
       "\n",
       "  affiliate_channel affiliate_provider signup_app first_device_type  \\\n",
       "0               api              other      Moweb            iPhone   \n",
       "1               seo             google        Web       Mac Desktop   \n",
       "2               api              other        Web   Windows Desktop   \n",
       "3             other          padmapper        Web       Mac Desktop   \n",
       "4               api              other        iOS            iPhone   \n",
       "\n",
       "  country_destination  sum_secs_elapsed  month_of_creation  \n",
       "0                  US               0.0                  2  \n",
       "1                 NDF         2337422.0                  6  \n",
       "2                 NDF               0.0                  7  \n",
       "3                 NDF               0.0                 10  \n",
       "4                 NDF             291.0                  1  "
      ]
     },
     "execution_count": 50,
     "metadata": {},
     "output_type": "execute_result"
    }
   ],
   "source": [
    "sample.toPandas().head()"
   ]
  },
  {
   "cell_type": "markdown",
   "metadata": {},
   "source": [
    "<h5>Bulding a pipeline for sampled data</h5>"
   ]
  },
  {
   "cell_type": "code",
   "execution_count": 51,
   "metadata": {},
   "outputs": [],
   "source": [
    "from pyspark.ml.feature import StringIndexer\n",
    "\n",
    "indexers = [StringIndexer(\n",
    "    inputCol=column,\n",
    "    outputCol=column + '_indexed', \n",
    "    handleInvalid='keep') for column in cat_cols]"
   ]
  },
  {
   "cell_type": "code",
   "execution_count": 52,
   "metadata": {},
   "outputs": [
    {
     "data": {
      "text/plain": [
       "[StringIndexer_cdd25ef412bf,\n",
       " StringIndexer_9a9d7e61754d,\n",
       " StringIndexer_95c857d199d8,\n",
       " StringIndexer_8774a99b9397,\n",
       " StringIndexer_47db257ef767,\n",
       " StringIndexer_5fedefe4365b,\n",
       " StringIndexer_07fe715a01b0,\n",
       " StringIndexer_f073c103dc62]"
      ]
     },
     "execution_count": 52,
     "metadata": {},
     "output_type": "execute_result"
    }
   ],
   "source": [
    "indexers"
   ]
  },
  {
   "cell_type": "code",
   "execution_count": 53,
   "metadata": {},
   "outputs": [],
   "source": [
    "from pyspark.ml.feature import OneHotEncoder\n",
    "\n",
    "'''encoder = OneHotEncoder(\n",
    "    inputCols=[column+'_indexed' for column in cat_cols], \n",
    "    outputCols=[column+'_encoded' for column in cat_cols])transform(indexedDF)'''\n",
    "\n",
    "'''encoders = [OneHotEncoder(\n",
    "    inputCol=column + '_indexed', \n",
    "    outputCol= column + '_encoded') for column in cat_cols if column not in ['Label']]'''\n",
    "\n",
    "\n",
    "\n",
    "\n",
    "encoders = OneHotEncoder(\n",
    "    inputCols=[column+'_indexed' for column in cat_cols], \n",
    "    outputCols=[column+'_encoded' for column in cat_cols])"
   ]
  },
  {
   "cell_type": "code",
   "execution_count": 54,
   "metadata": {},
   "outputs": [
    {
     "data": {
      "text/plain": [
       "'\\nstages = indexers + [encoders]\\nstages.append(encoders)\\n#stages.append(dtc_model)\\npipeline = Pipeline().setStages(stages)'"
      ]
     },
     "execution_count": 54,
     "metadata": {},
     "output_type": "execute_result"
    }
   ],
   "source": [
    "from pyspark.ml import Pipeline\n",
    "\n",
    "pipeline = Pipeline(stages = indexers + [encoders])\n",
    "'''\n",
    "stages = indexers + [encoders]\n",
    "stages.append(encoders)\n",
    "#stages.append(dtc_model)\n",
    "pipeline = Pipeline().setStages(stages)'''\n",
    "\n"
   ]
  },
  {
   "cell_type": "code",
   "execution_count": 55,
   "metadata": {
    "scrolled": true
   },
   "outputs": [],
   "source": [
    "#transformedDF = pipeline.fit(sample).transform(sample)\n",
    "\n",
    "pipeline = pipeline.fit(sample)\n",
    "sample = pipeline.transform(sample)"
   ]
  },
  {
   "cell_type": "code",
   "execution_count": 56,
   "metadata": {},
   "outputs": [],
   "source": [
    "#sample.toPandas().head()"
   ]
  },
  {
   "cell_type": "code",
   "execution_count": 57,
   "metadata": {},
   "outputs": [
    {
     "data": {
      "text/plain": [
       "DataFrame[id: string, gender: string, age: float, signup_method: string, signup_flow: float, language: string, affiliate_channel: string, affiliate_provider: string, signup_app: string, first_device_type: string, country_destination: string, sum_secs_elapsed: double, month_of_creation: int, affiliate_channel_encoded: vector, gender_encoded: vector, id_encoded: vector, signup_method_encoded: vector, affiliate_provider_encoded: vector, first_device_type_encoded: vector, signup_app_encoded: vector, language_encoded: vector]"
      ]
     },
     "execution_count": 57,
     "metadata": {},
     "output_type": "execute_result"
    }
   ],
   "source": [
    "sample = sample.drop(*[column+'_indexed' for column in cat_cols])\n",
    "sample.fillna(0.0)"
   ]
  },
  {
   "cell_type": "code",
   "execution_count": 58,
   "metadata": {},
   "outputs": [
    {
     "name": "stdout",
     "output_type": "stream",
     "text": [
      "root\n",
      " |-- id: string (nullable = true)\n",
      " |-- gender: string (nullable = true)\n",
      " |-- age: float (nullable = false)\n",
      " |-- signup_method: string (nullable = true)\n",
      " |-- signup_flow: float (nullable = false)\n",
      " |-- language: string (nullable = true)\n",
      " |-- affiliate_channel: string (nullable = true)\n",
      " |-- affiliate_provider: string (nullable = true)\n",
      " |-- signup_app: string (nullable = true)\n",
      " |-- first_device_type: string (nullable = true)\n",
      " |-- country_destination: string (nullable = true)\n",
      " |-- sum_secs_elapsed: double (nullable = false)\n",
      " |-- month_of_creation: integer (nullable = true)\n",
      " |-- affiliate_channel_encoded: vector (nullable = true)\n",
      " |-- gender_encoded: vector (nullable = true)\n",
      " |-- id_encoded: vector (nullable = true)\n",
      " |-- signup_method_encoded: vector (nullable = true)\n",
      " |-- affiliate_provider_encoded: vector (nullable = true)\n",
      " |-- first_device_type_encoded: vector (nullable = true)\n",
      " |-- signup_app_encoded: vector (nullable = true)\n",
      " |-- language_encoded: vector (nullable = true)\n",
      "\n"
     ]
    }
   ],
   "source": [
    "##sample.toPandas().head()\n",
    "sample.printSchema()"
   ]
  },
  {
   "cell_type": "markdown",
   "metadata": {},
   "source": [
    "<h5>VectorAssembler</h5>\n",
    "<p>Combines a given list of columns into a single vector column.</p>"
   ]
  },
  {
   "cell_type": "code",
   "execution_count": 59,
   "metadata": {},
   "outputs": [],
   "source": [
    "from pyspark.ml.feature import VectorAssembler\n",
    "\n",
    "#sample = sample.withColumn(\"age\", sample[\"age\"].cast(FloatType()))\n",
    "\n",
    "assembler = VectorAssembler(inputCols=[i for i in sample.columns if (i !='country_destination') and (i not in cat_cols)], outputCol='features')\n",
    "sample = assembler.transform(sample)"
   ]
  },
  {
   "cell_type": "code",
   "execution_count": 60,
   "metadata": {},
   "outputs": [],
   "source": [
    "#sample.toPandas().head()\n",
    "#sample.printSchema()"
   ]
  },
  {
   "cell_type": "code",
   "execution_count": 61,
   "metadata": {},
   "outputs": [
    {
     "data": {
      "text/html": [
       "<div>\n",
       "<style scoped>\n",
       "    .dataframe tbody tr th:only-of-type {\n",
       "        vertical-align: middle;\n",
       "    }\n",
       "\n",
       "    .dataframe tbody tr th {\n",
       "        vertical-align: top;\n",
       "    }\n",
       "\n",
       "    .dataframe thead th {\n",
       "        text-align: right;\n",
       "    }\n",
       "</style>\n",
       "<table border=\"1\" class=\"dataframe\">\n",
       "  <thead>\n",
       "    <tr style=\"text-align: right;\">\n",
       "      <th></th>\n",
       "      <th>features</th>\n",
       "    </tr>\n",
       "  </thead>\n",
       "  <tbody>\n",
       "    <tr>\n",
       "      <th>0</th>\n",
       "      <td>(29.0, 12.0, 0.0, 2.0, 0.0, 0.0, 0.0, 0.0, 0.0...</td>\n",
       "    </tr>\n",
       "    <tr>\n",
       "      <th>1</th>\n",
       "      <td>(0.0, 0.0, 2337422.0, 6.0, 0.0, 0.0, 0.0, 0.0,...</td>\n",
       "    </tr>\n",
       "    <tr>\n",
       "      <th>2</th>\n",
       "      <td>(0.0, 12.0, 0.0, 7.0, 0.0, 0.0, 0.0, 0.0, 0.0,...</td>\n",
       "    </tr>\n",
       "    <tr>\n",
       "      <th>3</th>\n",
       "      <td>(0.0, 0.0, 0.0, 10.0, 0.0, 0.0, 0.0, 1.0, 0.0,...</td>\n",
       "    </tr>\n",
       "    <tr>\n",
       "      <th>4</th>\n",
       "      <td>(25.0, 12.0, 291.0, 1.0, 0.0, 0.0, 0.0, 0.0, 0...</td>\n",
       "    </tr>\n",
       "  </tbody>\n",
       "</table>\n",
       "</div>"
      ],
      "text/plain": [
       "                                            features\n",
       "0  (29.0, 12.0, 0.0, 2.0, 0.0, 0.0, 0.0, 0.0, 0.0...\n",
       "1  (0.0, 0.0, 2337422.0, 6.0, 0.0, 0.0, 0.0, 0.0,...\n",
       "2  (0.0, 12.0, 0.0, 7.0, 0.0, 0.0, 0.0, 0.0, 0.0,...\n",
       "3  (0.0, 0.0, 0.0, 10.0, 0.0, 0.0, 0.0, 1.0, 0.0,...\n",
       "4  (25.0, 12.0, 291.0, 1.0, 0.0, 0.0, 0.0, 0.0, 0..."
      ]
     },
     "execution_count": 61,
     "metadata": {},
     "output_type": "execute_result"
    }
   ],
   "source": [
    "sample.select('features').toPandas().head()"
   ]
  },
  {
   "cell_type": "markdown",
   "metadata": {},
   "source": [
    "<h5>Make a labeld dataframe</h5>"
   ]
  },
  {
   "cell_type": "code",
   "execution_count": 62,
   "metadata": {},
   "outputs": [
    {
     "name": "stdout",
     "output_type": "stream",
     "text": [
      "root\n",
      " |-- id: string (nullable = true)\n",
      " |-- gender: string (nullable = true)\n",
      " |-- age: float (nullable = false)\n",
      " |-- signup_method: string (nullable = true)\n",
      " |-- signup_flow: float (nullable = false)\n",
      " |-- language: string (nullable = true)\n",
      " |-- affiliate_channel: string (nullable = true)\n",
      " |-- affiliate_provider: string (nullable = true)\n",
      " |-- signup_app: string (nullable = true)\n",
      " |-- first_device_type: string (nullable = true)\n",
      " |-- country_destination: string (nullable = true)\n",
      " |-- sum_secs_elapsed: double (nullable = false)\n",
      " |-- month_of_creation: integer (nullable = true)\n",
      " |-- affiliate_channel_encoded: vector (nullable = true)\n",
      " |-- gender_encoded: vector (nullable = true)\n",
      " |-- id_encoded: vector (nullable = true)\n",
      " |-- signup_method_encoded: vector (nullable = true)\n",
      " |-- affiliate_provider_encoded: vector (nullable = true)\n",
      " |-- first_device_type_encoded: vector (nullable = true)\n",
      " |-- signup_app_encoded: vector (nullable = true)\n",
      " |-- language_encoded: vector (nullable = true)\n",
      " |-- features: vector (nullable = true)\n",
      "\n"
     ]
    }
   ],
   "source": [
    "sample.printSchema()"
   ]
  },
  {
   "cell_type": "code",
   "execution_count": 63,
   "metadata": {},
   "outputs": [],
   "source": [
    "indexer = StringIndexer(inputCol='country_destination', outputCol='label')\n",
    "sample = indexer.fit(sample).transform(sample)\n",
    "\n",
    "'''indexer = StringIndexer(inputCol='country_destination', outputCol='label').fit(sample).transform(sample)\n",
    "'''\n",
    "labels_col = sorted(set([(i[0], i[1]) for i in sample.select(sample.country_destination, sample.label).collect()]), key=lambda x: x[0])\n",
    "labels_col = {int(i[1]):i[0] for i in labels_col}"
   ]
  },
  {
   "cell_type": "code",
   "execution_count": 64,
   "metadata": {},
   "outputs": [
    {
     "data": {
      "text/plain": [
       "{11: 'AU',\n",
       " 7: 'CA',\n",
       " 8: 'DE',\n",
       " 4: 'ES',\n",
       " 3: 'FR',\n",
       " 6: 'GB',\n",
       " 5: 'IT',\n",
       " 0: 'NDF',\n",
       " 9: 'NL',\n",
       " 10: 'PT',\n",
       " 1: 'US',\n",
       " 2: 'other'}"
      ]
     },
     "execution_count": 64,
     "metadata": {},
     "output_type": "execute_result"
    }
   ],
   "source": [
    "labels_col"
   ]
  },
  {
   "cell_type": "code",
   "execution_count": 65,
   "metadata": {},
   "outputs": [],
   "source": [
    "#sample.select('features', 'label').toPandas().head()"
   ]
  },
  {
   "cell_type": "code",
   "execution_count": 66,
   "metadata": {},
   "outputs": [
    {
     "name": "stdout",
     "output_type": "stream",
     "text": [
      "+--------------------+-----+\n",
      "|            features|label|\n",
      "+--------------------+-----+\n",
      "|(2197,[0,1,3,9,13...|  1.0|\n",
      "|(2197,[2,3,8,12,9...|  0.0|\n",
      "|(2197,[1,3,9,12,1...|  0.0|\n",
      "|(2197,[3,7,12,136...|  0.0|\n",
      "|(2197,[0,1,2,3,9,...|  0.0|\n",
      "|(2197,[0,2,3,8,13...|  0.0|\n",
      "|(2197,[0,3,4,14,2...|  1.0|\n",
      "|(2197,[1,3,10,12,...|  3.0|\n",
      "|(2197,[0,3,6,13,4...|  0.0|\n",
      "|(2197,[0,3,4,12,2...|  1.0|\n",
      "|(2197,[0,1,3,4,14...|  0.0|\n",
      "|(2197,[0,3,7,13,4...|  1.0|\n",
      "|(2197,[0,3,6,13,5...|  0.0|\n",
      "|(2197,[0,3,4,13,8...|  1.0|\n",
      "|(2197,[0,2,3,6,13...|  1.0|\n",
      "|(2197,[0,3,4,13,1...|  1.0|\n",
      "|(2197,[0,2,3,5,14...|  1.0|\n",
      "|(2197,[0,2,3,8,12...|  1.0|\n",
      "|(2197,[0,1,3,7,13...|  0.0|\n",
      "|(2197,[1,2,3,4,12...|  0.0|\n",
      "+--------------------+-----+\n",
      "only showing top 20 rows\n",
      "\n"
     ]
    }
   ],
   "source": [
    "sample.select('features', 'label').show()"
   ]
  },
  {
   "cell_type": "markdown",
   "metadata": {},
   "source": [
    "<h3>4) Test dataset</h3>\n",
    "<p>Repeating the same processes done with training dataset</p>"
   ]
  },
  {
   "cell_type": "code",
   "execution_count": 96,
   "metadata": {},
   "outputs": [],
   "source": [
    "test_users = spark.read\\\n",
    "                .format('csv')\\\n",
    "                .option('header', 'true')\\\n",
    "                .option('ignoreLeadingWhiteSpace', 'true')\\\n",
    "                .load('./datasets/test_users.csv')"
   ]
  },
  {
   "cell_type": "code",
   "execution_count": 97,
   "metadata": {},
   "outputs": [
    {
     "data": {
      "text/plain": [
       "DataFrame[id: string, date_account_created: string, timestamp_first_active: string, date_first_booking: string, gender: string, age: string, signup_method: string, signup_flow: string, language: string, affiliate_channel: string, affiliate_provider: string, first_affiliate_tracked: string, signup_app: string, first_device_type: string, first_browser: string]"
      ]
     },
     "execution_count": 97,
     "metadata": {},
     "output_type": "execute_result"
    }
   ],
   "source": [
    "test_users"
   ]
  },
  {
   "cell_type": "code",
   "execution_count": 98,
   "metadata": {},
   "outputs": [
    {
     "data": {
      "text/html": [
       "<div>\n",
       "<style scoped>\n",
       "    .dataframe tbody tr th:only-of-type {\n",
       "        vertical-align: middle;\n",
       "    }\n",
       "\n",
       "    .dataframe tbody tr th {\n",
       "        vertical-align: top;\n",
       "    }\n",
       "\n",
       "    .dataframe thead th {\n",
       "        text-align: right;\n",
       "    }\n",
       "</style>\n",
       "<table border=\"1\" class=\"dataframe\">\n",
       "  <thead>\n",
       "    <tr style=\"text-align: right;\">\n",
       "      <th></th>\n",
       "      <th>id</th>\n",
       "      <th>date_account_created</th>\n",
       "      <th>timestamp_first_active</th>\n",
       "      <th>date_first_booking</th>\n",
       "      <th>gender</th>\n",
       "      <th>age</th>\n",
       "      <th>signup_method</th>\n",
       "      <th>signup_flow</th>\n",
       "      <th>language</th>\n",
       "      <th>affiliate_channel</th>\n",
       "      <th>affiliate_provider</th>\n",
       "      <th>first_affiliate_tracked</th>\n",
       "      <th>signup_app</th>\n",
       "      <th>first_device_type</th>\n",
       "      <th>first_browser</th>\n",
       "    </tr>\n",
       "  </thead>\n",
       "  <tbody>\n",
       "    <tr>\n",
       "      <th>0</th>\n",
       "      <td>5uwns89zht</td>\n",
       "      <td>2014-07-01</td>\n",
       "      <td>20140701000006</td>\n",
       "      <td>None</td>\n",
       "      <td>FEMALE</td>\n",
       "      <td>35.0</td>\n",
       "      <td>facebook</td>\n",
       "      <td>0</td>\n",
       "      <td>en</td>\n",
       "      <td>direct</td>\n",
       "      <td>direct</td>\n",
       "      <td>untracked</td>\n",
       "      <td>Moweb</td>\n",
       "      <td>iPhone</td>\n",
       "      <td>Mobile Safari</td>\n",
       "    </tr>\n",
       "    <tr>\n",
       "      <th>1</th>\n",
       "      <td>jtl0dijy2j</td>\n",
       "      <td>2014-07-01</td>\n",
       "      <td>20140701000051</td>\n",
       "      <td>None</td>\n",
       "      <td>-unknown-</td>\n",
       "      <td>None</td>\n",
       "      <td>basic</td>\n",
       "      <td>0</td>\n",
       "      <td>en</td>\n",
       "      <td>direct</td>\n",
       "      <td>direct</td>\n",
       "      <td>untracked</td>\n",
       "      <td>Moweb</td>\n",
       "      <td>iPhone</td>\n",
       "      <td>Mobile Safari</td>\n",
       "    </tr>\n",
       "    <tr>\n",
       "      <th>2</th>\n",
       "      <td>xx0ulgorjt</td>\n",
       "      <td>2014-07-01</td>\n",
       "      <td>20140701000148</td>\n",
       "      <td>None</td>\n",
       "      <td>-unknown-</td>\n",
       "      <td>None</td>\n",
       "      <td>basic</td>\n",
       "      <td>0</td>\n",
       "      <td>en</td>\n",
       "      <td>direct</td>\n",
       "      <td>direct</td>\n",
       "      <td>linked</td>\n",
       "      <td>Web</td>\n",
       "      <td>Windows Desktop</td>\n",
       "      <td>Chrome</td>\n",
       "    </tr>\n",
       "    <tr>\n",
       "      <th>3</th>\n",
       "      <td>6c6puo6ix0</td>\n",
       "      <td>2014-07-01</td>\n",
       "      <td>20140701000215</td>\n",
       "      <td>None</td>\n",
       "      <td>-unknown-</td>\n",
       "      <td>None</td>\n",
       "      <td>basic</td>\n",
       "      <td>0</td>\n",
       "      <td>en</td>\n",
       "      <td>direct</td>\n",
       "      <td>direct</td>\n",
       "      <td>linked</td>\n",
       "      <td>Web</td>\n",
       "      <td>Windows Desktop</td>\n",
       "      <td>IE</td>\n",
       "    </tr>\n",
       "    <tr>\n",
       "      <th>4</th>\n",
       "      <td>czqhjk3yfe</td>\n",
       "      <td>2014-07-01</td>\n",
       "      <td>20140701000305</td>\n",
       "      <td>None</td>\n",
       "      <td>-unknown-</td>\n",
       "      <td>None</td>\n",
       "      <td>basic</td>\n",
       "      <td>0</td>\n",
       "      <td>en</td>\n",
       "      <td>direct</td>\n",
       "      <td>direct</td>\n",
       "      <td>untracked</td>\n",
       "      <td>Web</td>\n",
       "      <td>Mac Desktop</td>\n",
       "      <td>Safari</td>\n",
       "    </tr>\n",
       "  </tbody>\n",
       "</table>\n",
       "</div>"
      ],
      "text/plain": [
       "           id date_account_created timestamp_first_active date_first_booking  \\\n",
       "0  5uwns89zht           2014-07-01         20140701000006               None   \n",
       "1  jtl0dijy2j           2014-07-01         20140701000051               None   \n",
       "2  xx0ulgorjt           2014-07-01         20140701000148               None   \n",
       "3  6c6puo6ix0           2014-07-01         20140701000215               None   \n",
       "4  czqhjk3yfe           2014-07-01         20140701000305               None   \n",
       "\n",
       "      gender   age signup_method signup_flow language affiliate_channel  \\\n",
       "0     FEMALE  35.0      facebook           0       en            direct   \n",
       "1  -unknown-  None         basic           0       en            direct   \n",
       "2  -unknown-  None         basic           0       en            direct   \n",
       "3  -unknown-  None         basic           0       en            direct   \n",
       "4  -unknown-  None         basic           0       en            direct   \n",
       "\n",
       "  affiliate_provider first_affiliate_tracked signup_app first_device_type  \\\n",
       "0             direct               untracked      Moweb            iPhone   \n",
       "1             direct               untracked      Moweb            iPhone   \n",
       "2             direct                  linked        Web   Windows Desktop   \n",
       "3             direct                  linked        Web   Windows Desktop   \n",
       "4             direct               untracked        Web       Mac Desktop   \n",
       "\n",
       "   first_browser  \n",
       "0  Mobile Safari  \n",
       "1  Mobile Safari  \n",
       "2         Chrome  \n",
       "3             IE  \n",
       "4         Safari  "
      ]
     },
     "execution_count": 98,
     "metadata": {},
     "output_type": "execute_result"
    }
   ],
   "source": [
    "test_users.toPandas().head()"
   ]
  },
  {
   "cell_type": "code",
   "execution_count": 99,
   "metadata": {},
   "outputs": [
    {
     "data": {
      "text/plain": [
       "62096"
      ]
     },
     "execution_count": 99,
     "metadata": {},
     "output_type": "execute_result"
    }
   ],
   "source": [
    "test_users.count()"
   ]
  },
  {
   "cell_type": "markdown",
   "metadata": {},
   "source": [
    "<h5>Take a sample from test dataset</h5>"
   ]
  },
  {
   "cell_type": "code",
   "execution_count": 100,
   "metadata": {},
   "outputs": [],
   "source": [
    "test_users, test2 = test_users.randomSplit([0.01, 0.99])"
   ]
  },
  {
   "cell_type": "code",
   "execution_count": 101,
   "metadata": {},
   "outputs": [
    {
     "data": {
      "text/html": [
       "<div>\n",
       "<style scoped>\n",
       "    .dataframe tbody tr th:only-of-type {\n",
       "        vertical-align: middle;\n",
       "    }\n",
       "\n",
       "    .dataframe tbody tr th {\n",
       "        vertical-align: top;\n",
       "    }\n",
       "\n",
       "    .dataframe thead th {\n",
       "        text-align: right;\n",
       "    }\n",
       "</style>\n",
       "<table border=\"1\" class=\"dataframe\">\n",
       "  <thead>\n",
       "    <tr style=\"text-align: right;\">\n",
       "      <th></th>\n",
       "      <th>id</th>\n",
       "      <th>date_account_created</th>\n",
       "      <th>timestamp_first_active</th>\n",
       "      <th>date_first_booking</th>\n",
       "      <th>gender</th>\n",
       "      <th>age</th>\n",
       "      <th>signup_method</th>\n",
       "      <th>signup_flow</th>\n",
       "      <th>language</th>\n",
       "      <th>affiliate_channel</th>\n",
       "      <th>affiliate_provider</th>\n",
       "      <th>first_affiliate_tracked</th>\n",
       "      <th>signup_app</th>\n",
       "      <th>first_device_type</th>\n",
       "      <th>first_browser</th>\n",
       "    </tr>\n",
       "  </thead>\n",
       "  <tbody>\n",
       "    <tr>\n",
       "      <th>0</th>\n",
       "      <td>00ycgxqszj</td>\n",
       "      <td>2014-07-11</td>\n",
       "      <td>20140711061100</td>\n",
       "      <td>None</td>\n",
       "      <td>-unknown-</td>\n",
       "      <td>None</td>\n",
       "      <td>basic</td>\n",
       "      <td>0</td>\n",
       "      <td>en</td>\n",
       "      <td>direct</td>\n",
       "      <td>direct</td>\n",
       "      <td>linked</td>\n",
       "      <td>Moweb</td>\n",
       "      <td>iPhone</td>\n",
       "      <td>Mobile Safari</td>\n",
       "    </tr>\n",
       "    <tr>\n",
       "      <th>1</th>\n",
       "      <td>05fqwcqyte</td>\n",
       "      <td>2014-07-29</td>\n",
       "      <td>20140729213239</td>\n",
       "      <td>None</td>\n",
       "      <td>FEMALE</td>\n",
       "      <td>39.0</td>\n",
       "      <td>facebook</td>\n",
       "      <td>0</td>\n",
       "      <td>en</td>\n",
       "      <td>sem-brand</td>\n",
       "      <td>google</td>\n",
       "      <td>omg</td>\n",
       "      <td>Web</td>\n",
       "      <td>Mac Desktop</td>\n",
       "      <td>Safari</td>\n",
       "    </tr>\n",
       "    <tr>\n",
       "      <th>2</th>\n",
       "      <td>07fqufoai5</td>\n",
       "      <td>2014-07-02</td>\n",
       "      <td>20140702041329</td>\n",
       "      <td>None</td>\n",
       "      <td>-unknown-</td>\n",
       "      <td>None</td>\n",
       "      <td>basic</td>\n",
       "      <td>0</td>\n",
       "      <td>en</td>\n",
       "      <td>seo</td>\n",
       "      <td>facebook</td>\n",
       "      <td>linked</td>\n",
       "      <td>Web</td>\n",
       "      <td>Windows Desktop</td>\n",
       "      <td>Chrome</td>\n",
       "    </tr>\n",
       "    <tr>\n",
       "      <th>3</th>\n",
       "      <td>0acd983g4u</td>\n",
       "      <td>2014-07-28</td>\n",
       "      <td>20140728025754</td>\n",
       "      <td>None</td>\n",
       "      <td>-unknown-</td>\n",
       "      <td>39.0</td>\n",
       "      <td>basic</td>\n",
       "      <td>0</td>\n",
       "      <td>en</td>\n",
       "      <td>direct</td>\n",
       "      <td>direct</td>\n",
       "      <td>omg</td>\n",
       "      <td>Moweb</td>\n",
       "      <td>Mac Desktop</td>\n",
       "      <td>Safari</td>\n",
       "    </tr>\n",
       "    <tr>\n",
       "      <th>4</th>\n",
       "      <td>0bxts5vxg3</td>\n",
       "      <td>2014-08-22</td>\n",
       "      <td>20140822161233</td>\n",
       "      <td>None</td>\n",
       "      <td>-unknown-</td>\n",
       "      <td>None</td>\n",
       "      <td>basic</td>\n",
       "      <td>0</td>\n",
       "      <td>en</td>\n",
       "      <td>seo</td>\n",
       "      <td>google</td>\n",
       "      <td>linked</td>\n",
       "      <td>Web</td>\n",
       "      <td>Windows Desktop</td>\n",
       "      <td>Chrome</td>\n",
       "    </tr>\n",
       "  </tbody>\n",
       "</table>\n",
       "</div>"
      ],
      "text/plain": [
       "           id date_account_created timestamp_first_active date_first_booking  \\\n",
       "0  00ycgxqszj           2014-07-11         20140711061100               None   \n",
       "1  05fqwcqyte           2014-07-29         20140729213239               None   \n",
       "2  07fqufoai5           2014-07-02         20140702041329               None   \n",
       "3  0acd983g4u           2014-07-28         20140728025754               None   \n",
       "4  0bxts5vxg3           2014-08-22         20140822161233               None   \n",
       "\n",
       "      gender   age signup_method signup_flow language affiliate_channel  \\\n",
       "0  -unknown-  None         basic           0       en            direct   \n",
       "1     FEMALE  39.0      facebook           0       en         sem-brand   \n",
       "2  -unknown-  None         basic           0       en               seo   \n",
       "3  -unknown-  39.0         basic           0       en            direct   \n",
       "4  -unknown-  None         basic           0       en               seo   \n",
       "\n",
       "  affiliate_provider first_affiliate_tracked signup_app first_device_type  \\\n",
       "0             direct                  linked      Moweb            iPhone   \n",
       "1             google                     omg        Web       Mac Desktop   \n",
       "2           facebook                  linked        Web   Windows Desktop   \n",
       "3             direct                     omg      Moweb       Mac Desktop   \n",
       "4             google                  linked        Web   Windows Desktop   \n",
       "\n",
       "   first_browser  \n",
       "0  Mobile Safari  \n",
       "1         Safari  \n",
       "2         Chrome  \n",
       "3         Safari  \n",
       "4         Chrome  "
      ]
     },
     "execution_count": 101,
     "metadata": {},
     "output_type": "execute_result"
    }
   ],
   "source": [
    "test_users.toPandas().head()"
   ]
  },
  {
   "cell_type": "code",
   "execution_count": 102,
   "metadata": {},
   "outputs": [
    {
     "data": {
      "text/plain": [
       "622"
      ]
     },
     "execution_count": 102,
     "metadata": {},
     "output_type": "execute_result"
    }
   ],
   "source": [
    "test_users.count()"
   ]
  },
  {
   "cell_type": "code",
   "execution_count": 103,
   "metadata": {},
   "outputs": [
    {
     "name": "stdout",
     "output_type": "stream",
     "text": [
      "root\n",
      " |-- id: string (nullable = true)\n",
      " |-- date_account_created: date (nullable = true)\n",
      " |-- timestamp_first_active: string (nullable = true)\n",
      " |-- date_first_booking: date (nullable = true)\n",
      " |-- gender: string (nullable = true)\n",
      " |-- age: float (nullable = true)\n",
      " |-- signup_method: string (nullable = true)\n",
      " |-- signup_flow: float (nullable = true)\n",
      " |-- language: string (nullable = true)\n",
      " |-- affiliate_channel: string (nullable = true)\n",
      " |-- affiliate_provider: string (nullable = true)\n",
      " |-- first_affiliate_tracked: string (nullable = true)\n",
      " |-- signup_app: string (nullable = true)\n",
      " |-- first_device_type: string (nullable = true)\n",
      " |-- first_browser: string (nullable = true)\n",
      "\n"
     ]
    }
   ],
   "source": [
    "test_users = test_users.withColumn(\"date_account_created\", test_users[\"date_account_created\"].cast(DateType()))\\\n",
    "    .withColumn(\"date_first_booking\",test_users[\"date_first_booking\"].cast(DateType()))\\\n",
    "    .withColumn(\"age\",test_users[\"age\"].cast(FloatType()))\\\n",
    "    .withColumn('signup_flow', test_users['signup_flow'].cast(FloatType()))\n",
    "test_users.printSchema()"
   ]
  },
  {
   "cell_type": "code",
   "execution_count": 104,
   "metadata": {},
   "outputs": [
    {
     "data": {
      "text/html": [
       "<div>\n",
       "<style scoped>\n",
       "    .dataframe tbody tr th:only-of-type {\n",
       "        vertical-align: middle;\n",
       "    }\n",
       "\n",
       "    .dataframe tbody tr th {\n",
       "        vertical-align: top;\n",
       "    }\n",
       "\n",
       "    .dataframe thead th {\n",
       "        text-align: right;\n",
       "    }\n",
       "</style>\n",
       "<table border=\"1\" class=\"dataframe\">\n",
       "  <thead>\n",
       "    <tr style=\"text-align: right;\">\n",
       "      <th></th>\n",
       "      <th>id</th>\n",
       "      <th>date_account_created</th>\n",
       "      <th>timestamp_first_active</th>\n",
       "      <th>date_first_booking</th>\n",
       "      <th>gender</th>\n",
       "      <th>age</th>\n",
       "      <th>signup_method</th>\n",
       "      <th>signup_flow</th>\n",
       "      <th>language</th>\n",
       "      <th>affiliate_channel</th>\n",
       "      <th>affiliate_provider</th>\n",
       "      <th>first_affiliate_tracked</th>\n",
       "      <th>signup_app</th>\n",
       "      <th>first_device_type</th>\n",
       "      <th>first_browser</th>\n",
       "    </tr>\n",
       "  </thead>\n",
       "  <tbody>\n",
       "    <tr>\n",
       "      <th>0</th>\n",
       "      <td>00ycgxqszj</td>\n",
       "      <td>2014-07-11</td>\n",
       "      <td>20140711061100</td>\n",
       "      <td>None</td>\n",
       "      <td>-unknown-</td>\n",
       "      <td>NaN</td>\n",
       "      <td>basic</td>\n",
       "      <td>0.0</td>\n",
       "      <td>en</td>\n",
       "      <td>direct</td>\n",
       "      <td>direct</td>\n",
       "      <td>linked</td>\n",
       "      <td>Moweb</td>\n",
       "      <td>iPhone</td>\n",
       "      <td>Mobile Safari</td>\n",
       "    </tr>\n",
       "    <tr>\n",
       "      <th>1</th>\n",
       "      <td>05fqwcqyte</td>\n",
       "      <td>2014-07-29</td>\n",
       "      <td>20140729213239</td>\n",
       "      <td>None</td>\n",
       "      <td>FEMALE</td>\n",
       "      <td>39.0</td>\n",
       "      <td>facebook</td>\n",
       "      <td>0.0</td>\n",
       "      <td>en</td>\n",
       "      <td>sem-brand</td>\n",
       "      <td>google</td>\n",
       "      <td>omg</td>\n",
       "      <td>Web</td>\n",
       "      <td>Mac Desktop</td>\n",
       "      <td>Safari</td>\n",
       "    </tr>\n",
       "    <tr>\n",
       "      <th>2</th>\n",
       "      <td>07fqufoai5</td>\n",
       "      <td>2014-07-02</td>\n",
       "      <td>20140702041329</td>\n",
       "      <td>None</td>\n",
       "      <td>-unknown-</td>\n",
       "      <td>NaN</td>\n",
       "      <td>basic</td>\n",
       "      <td>0.0</td>\n",
       "      <td>en</td>\n",
       "      <td>seo</td>\n",
       "      <td>facebook</td>\n",
       "      <td>linked</td>\n",
       "      <td>Web</td>\n",
       "      <td>Windows Desktop</td>\n",
       "      <td>Chrome</td>\n",
       "    </tr>\n",
       "    <tr>\n",
       "      <th>3</th>\n",
       "      <td>0acd983g4u</td>\n",
       "      <td>2014-07-28</td>\n",
       "      <td>20140728025754</td>\n",
       "      <td>None</td>\n",
       "      <td>-unknown-</td>\n",
       "      <td>39.0</td>\n",
       "      <td>basic</td>\n",
       "      <td>0.0</td>\n",
       "      <td>en</td>\n",
       "      <td>direct</td>\n",
       "      <td>direct</td>\n",
       "      <td>omg</td>\n",
       "      <td>Moweb</td>\n",
       "      <td>Mac Desktop</td>\n",
       "      <td>Safari</td>\n",
       "    </tr>\n",
       "    <tr>\n",
       "      <th>4</th>\n",
       "      <td>0bxts5vxg3</td>\n",
       "      <td>2014-08-22</td>\n",
       "      <td>20140822161233</td>\n",
       "      <td>None</td>\n",
       "      <td>-unknown-</td>\n",
       "      <td>NaN</td>\n",
       "      <td>basic</td>\n",
       "      <td>0.0</td>\n",
       "      <td>en</td>\n",
       "      <td>seo</td>\n",
       "      <td>google</td>\n",
       "      <td>linked</td>\n",
       "      <td>Web</td>\n",
       "      <td>Windows Desktop</td>\n",
       "      <td>Chrome</td>\n",
       "    </tr>\n",
       "  </tbody>\n",
       "</table>\n",
       "</div>"
      ],
      "text/plain": [
       "           id date_account_created timestamp_first_active date_first_booking  \\\n",
       "0  00ycgxqszj           2014-07-11         20140711061100               None   \n",
       "1  05fqwcqyte           2014-07-29         20140729213239               None   \n",
       "2  07fqufoai5           2014-07-02         20140702041329               None   \n",
       "3  0acd983g4u           2014-07-28         20140728025754               None   \n",
       "4  0bxts5vxg3           2014-08-22         20140822161233               None   \n",
       "\n",
       "      gender   age signup_method  signup_flow language affiliate_channel  \\\n",
       "0  -unknown-   NaN         basic          0.0       en            direct   \n",
       "1     FEMALE  39.0      facebook          0.0       en         sem-brand   \n",
       "2  -unknown-   NaN         basic          0.0       en               seo   \n",
       "3  -unknown-  39.0         basic          0.0       en            direct   \n",
       "4  -unknown-   NaN         basic          0.0       en               seo   \n",
       "\n",
       "  affiliate_provider first_affiliate_tracked signup_app first_device_type  \\\n",
       "0             direct                  linked      Moweb            iPhone   \n",
       "1             google                     omg        Web       Mac Desktop   \n",
       "2           facebook                  linked        Web   Windows Desktop   \n",
       "3             direct                     omg      Moweb       Mac Desktop   \n",
       "4             google                  linked        Web   Windows Desktop   \n",
       "\n",
       "   first_browser  \n",
       "0  Mobile Safari  \n",
       "1         Safari  \n",
       "2         Chrome  \n",
       "3         Safari  \n",
       "4         Chrome  "
      ]
     },
     "execution_count": 104,
     "metadata": {},
     "output_type": "execute_result"
    }
   ],
   "source": [
    "test_users.toPandas().head()"
   ]
  },
  {
   "cell_type": "markdown",
   "metadata": {},
   "source": [
    "<h5>Calculating total session time and adding it to  test_users dataset. Then converting gender column data to lower case</h5>"
   ]
  },
  {
   "cell_type": "code",
   "execution_count": 105,
   "metadata": {},
   "outputs": [],
   "source": [
    "test_users = test_users.join(total_session_time, test_users[\"id\"] == total_session_time[\"user_id\"],how='left_outer').select(test_users[\"*\"],total_session_time[\"sum_secs_elapsed\"])\n",
    "test_users = test_users.withColumn(\"month_account_created\", month(\"date_account_created\"))\n",
    "test_users = test_users.withColumn(\"gender\", lower(col('gender')))"
   ]
  },
  {
   "cell_type": "code",
   "execution_count": 106,
   "metadata": {},
   "outputs": [
    {
     "data": {
      "text/html": [
       "<div>\n",
       "<style scoped>\n",
       "    .dataframe tbody tr th:only-of-type {\n",
       "        vertical-align: middle;\n",
       "    }\n",
       "\n",
       "    .dataframe tbody tr th {\n",
       "        vertical-align: top;\n",
       "    }\n",
       "\n",
       "    .dataframe thead th {\n",
       "        text-align: right;\n",
       "    }\n",
       "</style>\n",
       "<table border=\"1\" class=\"dataframe\">\n",
       "  <thead>\n",
       "    <tr style=\"text-align: right;\">\n",
       "      <th></th>\n",
       "      <th>id</th>\n",
       "      <th>date_account_created</th>\n",
       "      <th>timestamp_first_active</th>\n",
       "      <th>date_first_booking</th>\n",
       "      <th>gender</th>\n",
       "      <th>age</th>\n",
       "      <th>signup_method</th>\n",
       "      <th>signup_flow</th>\n",
       "      <th>language</th>\n",
       "      <th>affiliate_channel</th>\n",
       "      <th>affiliate_provider</th>\n",
       "      <th>first_affiliate_tracked</th>\n",
       "      <th>signup_app</th>\n",
       "      <th>first_device_type</th>\n",
       "      <th>first_browser</th>\n",
       "      <th>sum_secs_elapsed</th>\n",
       "      <th>month_account_created</th>\n",
       "    </tr>\n",
       "  </thead>\n",
       "  <tbody>\n",
       "    <tr>\n",
       "      <th>0</th>\n",
       "      <td>mmuf5hdp18</td>\n",
       "      <td>2014-07-31</td>\n",
       "      <td>20140731043546</td>\n",
       "      <td>None</td>\n",
       "      <td>-unknown-</td>\n",
       "      <td>NaN</td>\n",
       "      <td>basic</td>\n",
       "      <td>0.0</td>\n",
       "      <td>en</td>\n",
       "      <td>sem-brand</td>\n",
       "      <td>google</td>\n",
       "      <td>omg</td>\n",
       "      <td>Web</td>\n",
       "      <td>Windows Desktop</td>\n",
       "      <td>IE</td>\n",
       "      <td>563512.0</td>\n",
       "      <td>7</td>\n",
       "    </tr>\n",
       "    <tr>\n",
       "      <th>1</th>\n",
       "      <td>z4s8hpuzhk</td>\n",
       "      <td>2014-09-23</td>\n",
       "      <td>20140923030808</td>\n",
       "      <td>None</td>\n",
       "      <td>-unknown-</td>\n",
       "      <td>NaN</td>\n",
       "      <td>basic</td>\n",
       "      <td>25.0</td>\n",
       "      <td>en</td>\n",
       "      <td>direct</td>\n",
       "      <td>direct</td>\n",
       "      <td>untracked</td>\n",
       "      <td>iOS</td>\n",
       "      <td>iPhone</td>\n",
       "      <td>-unknown-</td>\n",
       "      <td>845338.0</td>\n",
       "      <td>9</td>\n",
       "    </tr>\n",
       "    <tr>\n",
       "      <th>2</th>\n",
       "      <td>4kltl2mys3</td>\n",
       "      <td>2014-07-06</td>\n",
       "      <td>20140706202540</td>\n",
       "      <td>None</td>\n",
       "      <td>male</td>\n",
       "      <td>47.0</td>\n",
       "      <td>facebook</td>\n",
       "      <td>0.0</td>\n",
       "      <td>en</td>\n",
       "      <td>seo</td>\n",
       "      <td>facebook</td>\n",
       "      <td>untracked</td>\n",
       "      <td>Moweb</td>\n",
       "      <td>iPhone</td>\n",
       "      <td>Mobile Safari</td>\n",
       "      <td>91111.0</td>\n",
       "      <td>7</td>\n",
       "    </tr>\n",
       "    <tr>\n",
       "      <th>3</th>\n",
       "      <td>urxh9pscd4</td>\n",
       "      <td>2014-07-02</td>\n",
       "      <td>20140702185608</td>\n",
       "      <td>None</td>\n",
       "      <td>-unknown-</td>\n",
       "      <td>NaN</td>\n",
       "      <td>basic</td>\n",
       "      <td>25.0</td>\n",
       "      <td>en</td>\n",
       "      <td>sem-brand</td>\n",
       "      <td>bing</td>\n",
       "      <td>omg</td>\n",
       "      <td>iOS</td>\n",
       "      <td>iPhone</td>\n",
       "      <td>Mobile Safari</td>\n",
       "      <td>9163372.0</td>\n",
       "      <td>7</td>\n",
       "    </tr>\n",
       "    <tr>\n",
       "      <th>4</th>\n",
       "      <td>07fqufoai5</td>\n",
       "      <td>2014-07-02</td>\n",
       "      <td>20140702041329</td>\n",
       "      <td>None</td>\n",
       "      <td>-unknown-</td>\n",
       "      <td>NaN</td>\n",
       "      <td>basic</td>\n",
       "      <td>0.0</td>\n",
       "      <td>en</td>\n",
       "      <td>seo</td>\n",
       "      <td>facebook</td>\n",
       "      <td>linked</td>\n",
       "      <td>Web</td>\n",
       "      <td>Windows Desktop</td>\n",
       "      <td>Chrome</td>\n",
       "      <td>415133.0</td>\n",
       "      <td>7</td>\n",
       "    </tr>\n",
       "  </tbody>\n",
       "</table>\n",
       "</div>"
      ],
      "text/plain": [
       "           id date_account_created timestamp_first_active date_first_booking  \\\n",
       "0  mmuf5hdp18           2014-07-31         20140731043546               None   \n",
       "1  z4s8hpuzhk           2014-09-23         20140923030808               None   \n",
       "2  4kltl2mys3           2014-07-06         20140706202540               None   \n",
       "3  urxh9pscd4           2014-07-02         20140702185608               None   \n",
       "4  07fqufoai5           2014-07-02         20140702041329               None   \n",
       "\n",
       "      gender   age signup_method  signup_flow language affiliate_channel  \\\n",
       "0  -unknown-   NaN         basic          0.0       en         sem-brand   \n",
       "1  -unknown-   NaN         basic         25.0       en            direct   \n",
       "2       male  47.0      facebook          0.0       en               seo   \n",
       "3  -unknown-   NaN         basic         25.0       en         sem-brand   \n",
       "4  -unknown-   NaN         basic          0.0       en               seo   \n",
       "\n",
       "  affiliate_provider first_affiliate_tracked signup_app first_device_type  \\\n",
       "0             google                     omg        Web   Windows Desktop   \n",
       "1             direct               untracked        iOS            iPhone   \n",
       "2           facebook               untracked      Moweb            iPhone   \n",
       "3               bing                     omg        iOS            iPhone   \n",
       "4           facebook                  linked        Web   Windows Desktop   \n",
       "\n",
       "   first_browser  sum_secs_elapsed  month_account_created  \n",
       "0             IE          563512.0                      7  \n",
       "1      -unknown-          845338.0                      9  \n",
       "2  Mobile Safari           91111.0                      7  \n",
       "3  Mobile Safari         9163372.0                      7  \n",
       "4         Chrome          415133.0                      7  "
      ]
     },
     "execution_count": 106,
     "metadata": {},
     "output_type": "execute_result"
    }
   ],
   "source": [
    "test_users.toPandas().head()"
   ]
  },
  {
   "cell_type": "markdown",
   "metadata": {},
   "source": [
    "<h5>Drop unneeded columns</h5>"
   ]
  },
  {
   "cell_type": "code",
   "execution_count": 107,
   "metadata": {},
   "outputs": [],
   "source": [
    "drop = ['date_account_created', 'timestamp_first_active', 'date_first_booking', 'first_affiliate_tracked', 'first_browser']\n",
    "test_users = test_users.select([column for column in test_users.columns if column not in drop])\n",
    "\n",
    "#test_users = test_users.select([column for column in test_users.columns if column not in drop])"
   ]
  },
  {
   "cell_type": "markdown",
   "metadata": {},
   "source": [
    "<h5>Fill null values</h5>"
   ]
  },
  {
   "cell_type": "code",
   "execution_count": 108,
   "metadata": {},
   "outputs": [],
   "source": [
    "test_users = test_users.fillna(0, subset=['age'])\n",
    "test_users = test_users.fillna(0, subset=['sum_secs_elapsed'])\n",
    "#train_users = train_users.fillna(0, subset=['signup_flow'])"
   ]
  },
  {
   "cell_type": "code",
   "execution_count": 109,
   "metadata": {},
   "outputs": [],
   "source": [
    "#test_users.toPandas().head()"
   ]
  },
  {
   "cell_type": "markdown",
   "metadata": {},
   "source": [
    "<h5>Using created pipeline to tansform test dataset into a format that can be used by the mode</h5>"
   ]
  },
  {
   "cell_type": "code",
   "execution_count": 110,
   "metadata": {},
   "outputs": [],
   "source": [
    "test_users = pipeline.transform(test_users)"
   ]
  },
  {
   "cell_type": "code",
   "execution_count": 111,
   "metadata": {},
   "outputs": [],
   "source": [
    "test_users = test_users.drop(*[column+'_indexed' for column in cat_cols])"
   ]
  },
  {
   "cell_type": "code",
   "execution_count": 112,
   "metadata": {},
   "outputs": [
    {
     "data": {
      "text/plain": [
       "DataFrame[id: string, gender: string, age: float, signup_method: string, signup_flow: float, language: string, affiliate_channel: string, affiliate_provider: string, signup_app: string, first_device_type: string, sum_secs_elapsed: double, month_account_created: int, affiliate_channel_encoded: vector, gender_encoded: vector, id_encoded: vector, signup_method_encoded: vector, affiliate_provider_encoded: vector, first_device_type_encoded: vector, signup_app_encoded: vector, language_encoded: vector]"
      ]
     },
     "execution_count": 112,
     "metadata": {},
     "output_type": "execute_result"
    }
   ],
   "source": [
    "test_users.fillna(0.0)\n",
    "#test_users.toPandas().head()"
   ]
  },
  {
   "cell_type": "code",
   "execution_count": 113,
   "metadata": {},
   "outputs": [
    {
     "data": {
      "text/plain": [
       "DataFrame[id: string, gender: string, age: float, signup_method: string, signup_flow: float, language: string, affiliate_channel: string, affiliate_provider: string, signup_app: string, first_device_type: string, sum_secs_elapsed: double, month_account_created: int, affiliate_channel_encoded: vector, gender_encoded: vector, id_encoded: vector, signup_method_encoded: vector, affiliate_provider_encoded: vector, first_device_type_encoded: vector, signup_app_encoded: vector, language_encoded: vector]"
      ]
     },
     "execution_count": 113,
     "metadata": {},
     "output_type": "execute_result"
    }
   ],
   "source": [
    "test_users.na.fill(0)"
   ]
  },
  {
   "cell_type": "code",
   "execution_count": 114,
   "metadata": {},
   "outputs": [],
   "source": [
    "#test_users.show(3)"
   ]
  },
  {
   "cell_type": "markdown",
   "metadata": {},
   "source": [
    "<h5>Using VectorAssembler to combine columns into a single vector column</h5>"
   ]
  },
  {
   "cell_type": "code",
   "execution_count": 115,
   "metadata": {},
   "outputs": [],
   "source": [
    "'''assembler = VectorAssembler(inputCols=[i for i in test_users.columns if i not in cat_cols], outputCol='features')\n",
    "test_users = assembler.transform(test_users)'''\n",
    "\n",
    "\n",
    "assembler = VectorAssembler(inputCols=[i for i in test_users.columns if (i !='country_destination') and (i not in cat_cols)], outputCol='features')\n",
    "test_users = assembler.transform(test_users)"
   ]
  },
  {
   "cell_type": "code",
   "execution_count": 116,
   "metadata": {},
   "outputs": [
    {
     "data": {
      "text/html": [
       "<div>\n",
       "<style scoped>\n",
       "    .dataframe tbody tr th:only-of-type {\n",
       "        vertical-align: middle;\n",
       "    }\n",
       "\n",
       "    .dataframe tbody tr th {\n",
       "        vertical-align: top;\n",
       "    }\n",
       "\n",
       "    .dataframe thead th {\n",
       "        text-align: right;\n",
       "    }\n",
       "</style>\n",
       "<table border=\"1\" class=\"dataframe\">\n",
       "  <thead>\n",
       "    <tr style=\"text-align: right;\">\n",
       "      <th></th>\n",
       "      <th>features</th>\n",
       "    </tr>\n",
       "  </thead>\n",
       "  <tbody>\n",
       "    <tr>\n",
       "      <th>0</th>\n",
       "      <td>(0.0, 0.0, 563512.0, 7.0, 0.0, 1.0, 0.0, 0.0, ...</td>\n",
       "    </tr>\n",
       "    <tr>\n",
       "      <th>1</th>\n",
       "      <td>(0.0, 25.0, 845338.0, 9.0, 1.0, 0.0, 0.0, 0.0,...</td>\n",
       "    </tr>\n",
       "    <tr>\n",
       "      <th>2</th>\n",
       "      <td>(47.0, 0.0, 91111.0, 7.0, 0.0, 0.0, 0.0, 0.0, ...</td>\n",
       "    </tr>\n",
       "    <tr>\n",
       "      <th>3</th>\n",
       "      <td>(0.0, 25.0, 9163372.0, 7.0, 0.0, 1.0, 0.0, 0.0...</td>\n",
       "    </tr>\n",
       "    <tr>\n",
       "      <th>4</th>\n",
       "      <td>(0.0, 0.0, 415133.0, 7.0, 0.0, 0.0, 0.0, 0.0, ...</td>\n",
       "    </tr>\n",
       "  </tbody>\n",
       "</table>\n",
       "</div>"
      ],
      "text/plain": [
       "                                            features\n",
       "0  (0.0, 0.0, 563512.0, 7.0, 0.0, 1.0, 0.0, 0.0, ...\n",
       "1  (0.0, 25.0, 845338.0, 9.0, 1.0, 0.0, 0.0, 0.0,...\n",
       "2  (47.0, 0.0, 91111.0, 7.0, 0.0, 0.0, 0.0, 0.0, ...\n",
       "3  (0.0, 25.0, 9163372.0, 7.0, 0.0, 1.0, 0.0, 0.0...\n",
       "4  (0.0, 0.0, 415133.0, 7.0, 0.0, 0.0, 0.0, 0.0, ..."
      ]
     },
     "execution_count": 116,
     "metadata": {},
     "output_type": "execute_result"
    }
   ],
   "source": [
    "'''test_users.select('features').show()'''\n",
    "\n",
    "test_users.select('features').toPandas().head()"
   ]
  },
  {
   "cell_type": "code",
   "execution_count": 117,
   "metadata": {},
   "outputs": [
    {
     "name": "stdout",
     "output_type": "stream",
     "text": [
      "root\n",
      " |-- id: string (nullable = true)\n",
      " |-- gender: string (nullable = true)\n",
      " |-- age: float (nullable = false)\n",
      " |-- signup_method: string (nullable = true)\n",
      " |-- signup_flow: float (nullable = true)\n",
      " |-- language: string (nullable = true)\n",
      " |-- affiliate_channel: string (nullable = true)\n",
      " |-- affiliate_provider: string (nullable = true)\n",
      " |-- signup_app: string (nullable = true)\n",
      " |-- first_device_type: string (nullable = true)\n",
      " |-- sum_secs_elapsed: double (nullable = false)\n",
      " |-- month_account_created: integer (nullable = true)\n",
      " |-- affiliate_channel_encoded: vector (nullable = true)\n",
      " |-- gender_encoded: vector (nullable = true)\n",
      " |-- id_encoded: vector (nullable = true)\n",
      " |-- signup_method_encoded: vector (nullable = true)\n",
      " |-- affiliate_provider_encoded: vector (nullable = true)\n",
      " |-- first_device_type_encoded: vector (nullable = true)\n",
      " |-- signup_app_encoded: vector (nullable = true)\n",
      " |-- language_encoded: vector (nullable = true)\n",
      " |-- features: vector (nullable = true)\n",
      "\n"
     ]
    }
   ],
   "source": [
    "test_users.printSchema()"
   ]
  },
  {
   "cell_type": "code",
   "execution_count": 120,
   "metadata": {},
   "outputs": [
    {
     "name": "stdout",
     "output_type": "stream",
     "text": [
      "+--------------------+\n",
      "|            features|\n",
      "+--------------------+\n",
      "|(2197,[2,3,5,12,2...|\n",
      "|(2197,[1,2,3,4,12...|\n",
      "|(2197,[0,2,3,8,14...|\n",
      "|(2197,[1,2,3,5,12...|\n",
      "|(2197,[2,3,8,12,2...|\n",
      "|(2197,[0,2,3,5,12...|\n",
      "|(2197,[2,3,4,12,2...|\n",
      "|(2197,[0,2,3,4,12...|\n",
      "|(2197,[0,2,3,5,13...|\n",
      "|(2197,[0,1,2,3,4,...|\n",
      "|(2197,[0,2,3,4,13...|\n",
      "|(2197,[2,3,5,12,2...|\n",
      "|(2197,[1,2,3,4,12...|\n",
      "|(2197,[0,2,3,4,14...|\n",
      "|(2197,[1,2,3,4,12...|\n",
      "|(2197,[2,3,8,12,2...|\n",
      "|(2197,[2,3,4,12,2...|\n",
      "|(2197,[0,1,2,3,4,...|\n",
      "|(2197,[0,2,3,8,12...|\n",
      "|(2197,[2,3,8,12,2...|\n",
      "+--------------------+\n",
      "only showing top 20 rows\n",
      "\n"
     ]
    }
   ],
   "source": [
    "test_users.select('features').show()"
   ]
  },
  {
   "cell_type": "markdown",
   "metadata": {},
   "source": [
    "<h1>Phase 2: ML model training</h1>\n",
    "<p>Using Dession tree classifier</p>"
   ]
  },
  {
   "cell_type": "markdown",
   "metadata": {},
   "source": [
    "<h5>Split sample dataset into training data and validation data</h5>"
   ]
  },
  {
   "cell_type": "code",
   "execution_count": 145,
   "metadata": {},
   "outputs": [
    {
     "data": {
      "text/plain": [
       "'trainingData = sample\\nvalidationData = test_users'"
      ]
     },
     "execution_count": 145,
     "metadata": {},
     "output_type": "execute_result"
    }
   ],
   "source": [
    "(trainingData, validationData) = sample.randomSplit([0.8,0.2])\n",
    "'''trainingData = sample\n",
    "validationData = test_users'''"
   ]
  },
  {
   "cell_type": "markdown",
   "metadata": {},
   "source": [
    "<h5>ML model creation</h5>"
   ]
  },
  {
   "cell_type": "code",
   "execution_count": 146,
   "metadata": {},
   "outputs": [],
   "source": [
    "from pyspark.ml.classification import DecisionTreeClassifier\n",
    "\n",
    "model = DecisionTreeClassifier(labelCol=\"label\", featuresCol=\"features\")\n",
    "model = model.fit(trainingData)"
   ]
  },
  {
   "cell_type": "code",
   "execution_count": 147,
   "metadata": {},
   "outputs": [],
   "source": [
    "predictions = model.transform(validationData)"
   ]
  },
  {
   "cell_type": "code",
   "execution_count": 148,
   "metadata": {},
   "outputs": [],
   "source": [
    "predictionsDF = predictions.toPandas()"
   ]
  },
  {
   "cell_type": "code",
   "execution_count": 149,
   "metadata": {},
   "outputs": [
    {
     "data": {
      "text/html": [
       "<div>\n",
       "<style scoped>\n",
       "    .dataframe tbody tr th:only-of-type {\n",
       "        vertical-align: middle;\n",
       "    }\n",
       "\n",
       "    .dataframe tbody tr th {\n",
       "        vertical-align: top;\n",
       "    }\n",
       "\n",
       "    .dataframe thead th {\n",
       "        text-align: right;\n",
       "    }\n",
       "</style>\n",
       "<table border=\"1\" class=\"dataframe\">\n",
       "  <thead>\n",
       "    <tr style=\"text-align: right;\">\n",
       "      <th></th>\n",
       "      <th>id</th>\n",
       "      <th>gender</th>\n",
       "      <th>age</th>\n",
       "      <th>signup_method</th>\n",
       "      <th>signup_flow</th>\n",
       "      <th>language</th>\n",
       "      <th>affiliate_channel</th>\n",
       "      <th>affiliate_provider</th>\n",
       "      <th>signup_app</th>\n",
       "      <th>first_device_type</th>\n",
       "      <th>...</th>\n",
       "      <th>signup_method_encoded</th>\n",
       "      <th>affiliate_provider_encoded</th>\n",
       "      <th>first_device_type_encoded</th>\n",
       "      <th>signup_app_encoded</th>\n",
       "      <th>language_encoded</th>\n",
       "      <th>features</th>\n",
       "      <th>label</th>\n",
       "      <th>rawPrediction</th>\n",
       "      <th>probability</th>\n",
       "      <th>prediction</th>\n",
       "    </tr>\n",
       "  </thead>\n",
       "  <tbody>\n",
       "    <tr>\n",
       "      <th>0</th>\n",
       "      <td>mom7gx8cht</td>\n",
       "      <td>-unknown-</td>\n",
       "      <td>0.0</td>\n",
       "      <td>basic</td>\n",
       "      <td>12.0</td>\n",
       "      <td>en</td>\n",
       "      <td>api</td>\n",
       "      <td>other</td>\n",
       "      <td>Web</td>\n",
       "      <td>Windows Desktop</td>\n",
       "      <td>...</td>\n",
       "      <td>(1.0, 0.0, 0.0)</td>\n",
       "      <td>(0.0, 0.0, 1.0, 0.0, 0.0, 0.0, 0.0, 0.0, 0.0, ...</td>\n",
       "      <td>(0.0, 1.0, 0.0, 0.0, 0.0, 0.0, 0.0, 0.0, 0.0)</td>\n",
       "      <td>(1.0, 0.0, 0.0, 0.0)</td>\n",
       "      <td>(1.0, 0.0, 0.0, 0.0, 0.0, 0.0, 0.0, 0.0, 0.0, ...</td>\n",
       "      <td>(0.0, 12.0, 0.0, 7.0, 0.0, 0.0, 0.0, 0.0, 0.0,...</td>\n",
       "      <td>0.0</td>\n",
       "      <td>[21.0, 11.0, 3.0, 0.0, 0.0, 0.0, 0.0, 0.0, 0.0...</td>\n",
       "      <td>[0.6, 0.3142857142857143, 0.08571428571428572,...</td>\n",
       "      <td>0.0</td>\n",
       "    </tr>\n",
       "    <tr>\n",
       "      <th>1</th>\n",
       "      <td>zef7h0tdip</td>\n",
       "      <td>-unknown-</td>\n",
       "      <td>0.0</td>\n",
       "      <td>basic</td>\n",
       "      <td>3.0</td>\n",
       "      <td>en</td>\n",
       "      <td>content</td>\n",
       "      <td>google</td>\n",
       "      <td>Web</td>\n",
       "      <td>Other/Unknown</td>\n",
       "      <td>...</td>\n",
       "      <td>(1.0, 0.0, 0.0)</td>\n",
       "      <td>(0.0, 1.0, 0.0, 0.0, 0.0, 0.0, 0.0, 0.0, 0.0, ...</td>\n",
       "      <td>(0.0, 0.0, 0.0, 0.0, 1.0, 0.0, 0.0, 0.0, 0.0)</td>\n",
       "      <td>(1.0, 0.0, 0.0, 0.0)</td>\n",
       "      <td>(1.0, 0.0, 0.0, 0.0, 0.0, 0.0, 0.0, 0.0, 0.0, ...</td>\n",
       "      <td>(0.0, 3.0, 0.0, 6.0, 0.0, 0.0, 0.0, 0.0, 0.0, ...</td>\n",
       "      <td>3.0</td>\n",
       "      <td>[21.0, 11.0, 3.0, 0.0, 0.0, 0.0, 0.0, 0.0, 0.0...</td>\n",
       "      <td>[0.6, 0.3142857142857143, 0.08571428571428572,...</td>\n",
       "      <td>0.0</td>\n",
       "    </tr>\n",
       "    <tr>\n",
       "      <th>2</th>\n",
       "      <td>70xly0407d</td>\n",
       "      <td>male</td>\n",
       "      <td>42.0</td>\n",
       "      <td>basic</td>\n",
       "      <td>1.0</td>\n",
       "      <td>en</td>\n",
       "      <td>direct</td>\n",
       "      <td>direct</td>\n",
       "      <td>Web</td>\n",
       "      <td>Mac Desktop</td>\n",
       "      <td>...</td>\n",
       "      <td>(1.0, 0.0, 0.0)</td>\n",
       "      <td>(1.0, 0.0, 0.0, 0.0, 0.0, 0.0, 0.0, 0.0, 0.0, ...</td>\n",
       "      <td>(1.0, 0.0, 0.0, 0.0, 0.0, 0.0, 0.0, 0.0, 0.0)</td>\n",
       "      <td>(1.0, 0.0, 0.0, 0.0)</td>\n",
       "      <td>(1.0, 0.0, 0.0, 0.0, 0.0, 0.0, 0.0, 0.0, 0.0, ...</td>\n",
       "      <td>(42.0, 1.0, 0.0, 8.0, 1.0, 0.0, 0.0, 0.0, 0.0,...</td>\n",
       "      <td>0.0</td>\n",
       "      <td>[63.0, 52.0, 9.0, 6.0, 2.0, 2.0, 3.0, 2.0, 1.0...</td>\n",
       "      <td>[0.44366197183098594, 0.36619718309859156, 0.0...</td>\n",
       "      <td>0.0</td>\n",
       "    </tr>\n",
       "    <tr>\n",
       "      <th>3</th>\n",
       "      <td>nlp8wvf631</td>\n",
       "      <td>female</td>\n",
       "      <td>25.0</td>\n",
       "      <td>basic</td>\n",
       "      <td>0.0</td>\n",
       "      <td>en</td>\n",
       "      <td>direct</td>\n",
       "      <td>direct</td>\n",
       "      <td>Web</td>\n",
       "      <td>Mac Desktop</td>\n",
       "      <td>...</td>\n",
       "      <td>(1.0, 0.0, 0.0)</td>\n",
       "      <td>(1.0, 0.0, 0.0, 0.0, 0.0, 0.0, 0.0, 0.0, 0.0, ...</td>\n",
       "      <td>(1.0, 0.0, 0.0, 0.0, 0.0, 0.0, 0.0, 0.0, 0.0)</td>\n",
       "      <td>(1.0, 0.0, 0.0, 0.0)</td>\n",
       "      <td>(1.0, 0.0, 0.0, 0.0, 0.0, 0.0, 0.0, 0.0, 0.0, ...</td>\n",
       "      <td>(25.0, 0.0, 0.0, 7.0, 1.0, 0.0, 0.0, 0.0, 0.0,...</td>\n",
       "      <td>1.0</td>\n",
       "      <td>[39.0, 35.0, 1.0, 4.0, 2.0, 0.0, 1.0, 2.0, 0.0...</td>\n",
       "      <td>[0.4588235294117647, 0.4117647058823529, 0.011...</td>\n",
       "      <td>0.0</td>\n",
       "    </tr>\n",
       "    <tr>\n",
       "      <th>4</th>\n",
       "      <td>2gnj4zkcta</td>\n",
       "      <td>-unknown-</td>\n",
       "      <td>0.0</td>\n",
       "      <td>basic</td>\n",
       "      <td>0.0</td>\n",
       "      <td>en</td>\n",
       "      <td>direct</td>\n",
       "      <td>direct</td>\n",
       "      <td>Web</td>\n",
       "      <td>iPad</td>\n",
       "      <td>...</td>\n",
       "      <td>(1.0, 0.0, 0.0)</td>\n",
       "      <td>(1.0, 0.0, 0.0, 0.0, 0.0, 0.0, 0.0, 0.0, 0.0, ...</td>\n",
       "      <td>(0.0, 0.0, 0.0, 1.0, 0.0, 0.0, 0.0, 0.0, 0.0)</td>\n",
       "      <td>(1.0, 0.0, 0.0, 0.0)</td>\n",
       "      <td>(1.0, 0.0, 0.0, 0.0, 0.0, 0.0, 0.0, 0.0, 0.0, ...</td>\n",
       "      <td>(0.0, 0.0, 0.0, 12.0, 1.0, 0.0, 0.0, 0.0, 0.0,...</td>\n",
       "      <td>0.0</td>\n",
       "      <td>[212.0, 52.0, 20.0, 11.0, 3.0, 3.0, 1.0, 2.0, ...</td>\n",
       "      <td>[0.6773162939297125, 0.16613418530351437, 0.06...</td>\n",
       "      <td>0.0</td>\n",
       "    </tr>\n",
       "  </tbody>\n",
       "</table>\n",
       "<p>5 rows × 26 columns</p>\n",
       "</div>"
      ],
      "text/plain": [
       "           id     gender   age signup_method  signup_flow language  \\\n",
       "0  mom7gx8cht  -unknown-   0.0         basic         12.0       en   \n",
       "1  zef7h0tdip  -unknown-   0.0         basic          3.0       en   \n",
       "2  70xly0407d       male  42.0         basic          1.0       en   \n",
       "3  nlp8wvf631     female  25.0         basic          0.0       en   \n",
       "4  2gnj4zkcta  -unknown-   0.0         basic          0.0       en   \n",
       "\n",
       "  affiliate_channel affiliate_provider signup_app first_device_type  ...  \\\n",
       "0               api              other        Web   Windows Desktop  ...   \n",
       "1           content             google        Web     Other/Unknown  ...   \n",
       "2            direct             direct        Web       Mac Desktop  ...   \n",
       "3            direct             direct        Web       Mac Desktop  ...   \n",
       "4            direct             direct        Web              iPad  ...   \n",
       "\n",
       "  signup_method_encoded                         affiliate_provider_encoded  \\\n",
       "0       (1.0, 0.0, 0.0)  (0.0, 0.0, 1.0, 0.0, 0.0, 0.0, 0.0, 0.0, 0.0, ...   \n",
       "1       (1.0, 0.0, 0.0)  (0.0, 1.0, 0.0, 0.0, 0.0, 0.0, 0.0, 0.0, 0.0, ...   \n",
       "2       (1.0, 0.0, 0.0)  (1.0, 0.0, 0.0, 0.0, 0.0, 0.0, 0.0, 0.0, 0.0, ...   \n",
       "3       (1.0, 0.0, 0.0)  (1.0, 0.0, 0.0, 0.0, 0.0, 0.0, 0.0, 0.0, 0.0, ...   \n",
       "4       (1.0, 0.0, 0.0)  (1.0, 0.0, 0.0, 0.0, 0.0, 0.0, 0.0, 0.0, 0.0, ...   \n",
       "\n",
       "                       first_device_type_encoded    signup_app_encoded  \\\n",
       "0  (0.0, 1.0, 0.0, 0.0, 0.0, 0.0, 0.0, 0.0, 0.0)  (1.0, 0.0, 0.0, 0.0)   \n",
       "1  (0.0, 0.0, 0.0, 0.0, 1.0, 0.0, 0.0, 0.0, 0.0)  (1.0, 0.0, 0.0, 0.0)   \n",
       "2  (1.0, 0.0, 0.0, 0.0, 0.0, 0.0, 0.0, 0.0, 0.0)  (1.0, 0.0, 0.0, 0.0)   \n",
       "3  (1.0, 0.0, 0.0, 0.0, 0.0, 0.0, 0.0, 0.0, 0.0)  (1.0, 0.0, 0.0, 0.0)   \n",
       "4  (0.0, 0.0, 0.0, 1.0, 0.0, 0.0, 0.0, 0.0, 0.0)  (1.0, 0.0, 0.0, 0.0)   \n",
       "\n",
       "                                    language_encoded  \\\n",
       "0  (1.0, 0.0, 0.0, 0.0, 0.0, 0.0, 0.0, 0.0, 0.0, ...   \n",
       "1  (1.0, 0.0, 0.0, 0.0, 0.0, 0.0, 0.0, 0.0, 0.0, ...   \n",
       "2  (1.0, 0.0, 0.0, 0.0, 0.0, 0.0, 0.0, 0.0, 0.0, ...   \n",
       "3  (1.0, 0.0, 0.0, 0.0, 0.0, 0.0, 0.0, 0.0, 0.0, ...   \n",
       "4  (1.0, 0.0, 0.0, 0.0, 0.0, 0.0, 0.0, 0.0, 0.0, ...   \n",
       "\n",
       "                                            features label  \\\n",
       "0  (0.0, 12.0, 0.0, 7.0, 0.0, 0.0, 0.0, 0.0, 0.0,...   0.0   \n",
       "1  (0.0, 3.0, 0.0, 6.0, 0.0, 0.0, 0.0, 0.0, 0.0, ...   3.0   \n",
       "2  (42.0, 1.0, 0.0, 8.0, 1.0, 0.0, 0.0, 0.0, 0.0,...   0.0   \n",
       "3  (25.0, 0.0, 0.0, 7.0, 1.0, 0.0, 0.0, 0.0, 0.0,...   1.0   \n",
       "4  (0.0, 0.0, 0.0, 12.0, 1.0, 0.0, 0.0, 0.0, 0.0,...   0.0   \n",
       "\n",
       "                                       rawPrediction  \\\n",
       "0  [21.0, 11.0, 3.0, 0.0, 0.0, 0.0, 0.0, 0.0, 0.0...   \n",
       "1  [21.0, 11.0, 3.0, 0.0, 0.0, 0.0, 0.0, 0.0, 0.0...   \n",
       "2  [63.0, 52.0, 9.0, 6.0, 2.0, 2.0, 3.0, 2.0, 1.0...   \n",
       "3  [39.0, 35.0, 1.0, 4.0, 2.0, 0.0, 1.0, 2.0, 0.0...   \n",
       "4  [212.0, 52.0, 20.0, 11.0, 3.0, 3.0, 1.0, 2.0, ...   \n",
       "\n",
       "                                         probability prediction  \n",
       "0  [0.6, 0.3142857142857143, 0.08571428571428572,...        0.0  \n",
       "1  [0.6, 0.3142857142857143, 0.08571428571428572,...        0.0  \n",
       "2  [0.44366197183098594, 0.36619718309859156, 0.0...        0.0  \n",
       "3  [0.4588235294117647, 0.4117647058823529, 0.011...        0.0  \n",
       "4  [0.6773162939297125, 0.16613418530351437, 0.06...        0.0  \n",
       "\n",
       "[5 rows x 26 columns]"
      ]
     },
     "execution_count": 149,
     "metadata": {},
     "output_type": "execute_result"
    }
   ],
   "source": [
    "#predictions.select('prediction', 'probability').show(5)\n",
    "predictionsDF.head()"
   ]
  },
  {
   "cell_type": "code",
   "execution_count": 150,
   "metadata": {},
   "outputs": [],
   "source": [
    "#predictions.head()"
   ]
  },
  {
   "cell_type": "code",
   "execution_count": null,
   "metadata": {},
   "outputs": [],
   "source": []
  },
  {
   "cell_type": "code",
   "execution_count": null,
   "metadata": {},
   "outputs": [],
   "source": []
  },
  {
   "cell_type": "markdown",
   "metadata": {},
   "source": [
    "<h5>Predicted y and real y</h5>"
   ]
  },
  {
   "cell_type": "code",
   "execution_count": 151,
   "metadata": {},
   "outputs": [],
   "source": [
    "import numpy as np\n",
    "\n",
    "y_predict = predictions.toPandas().probability.apply(lambda x : np.array(x.toArray())).to_numpy()\n",
    "y_true = [int(row.label) for row in trainingData.select('label').collect()]"
   ]
  },
  {
   "cell_type": "markdown",
   "metadata": {},
   "source": [
    "<h5>Create an evaluator for our model<h5/>"
   ]
  },
  {
   "cell_type": "code",
   "execution_count": 152,
   "metadata": {},
   "outputs": [],
   "source": [
    "from pyspark.ml.evaluation import MulticlassClassificationEvaluator\n",
    "\n",
    "evaluator = MulticlassClassificationEvaluator(\n",
    "    labelCol='label', \n",
    "    predictionCol='prediction', \n",
    "    metricName='accuracy')"
   ]
  },
  {
   "cell_type": "markdown",
   "metadata": {},
   "source": [
    "<h5>Model Accuracy </h5>"
   ]
  },
  {
   "cell_type": "code",
   "execution_count": 153,
   "metadata": {},
   "outputs": [
    {
     "name": "stdout",
     "output_type": "stream",
     "text": [
      "Test Accuracy =  0.6121951219512195\n"
     ]
    }
   ],
   "source": [
    "accuracy = evaluator.evaluate(predictions)\n",
    "print('Test Accuracy = ', accuracy)"
   ]
  },
  {
   "cell_type": "code",
   "execution_count": 155,
   "metadata": {},
   "outputs": [
    {
     "data": {
      "text/html": [
       "<div>\n",
       "<style scoped>\n",
       "    .dataframe tbody tr th:only-of-type {\n",
       "        vertical-align: middle;\n",
       "    }\n",
       "\n",
       "    .dataframe tbody tr th {\n",
       "        vertical-align: top;\n",
       "    }\n",
       "\n",
       "    .dataframe thead th {\n",
       "        text-align: right;\n",
       "    }\n",
       "</style>\n",
       "<table border=\"1\" class=\"dataframe\">\n",
       "  <thead>\n",
       "    <tr style=\"text-align: right;\">\n",
       "      <th></th>\n",
       "      <th>id</th>\n",
       "      <th>gender</th>\n",
       "      <th>age</th>\n",
       "      <th>signup_method</th>\n",
       "      <th>signup_flow</th>\n",
       "      <th>language</th>\n",
       "      <th>affiliate_channel</th>\n",
       "      <th>affiliate_provider</th>\n",
       "      <th>signup_app</th>\n",
       "      <th>first_device_type</th>\n",
       "      <th>...</th>\n",
       "      <th>signup_method_encoded</th>\n",
       "      <th>affiliate_provider_encoded</th>\n",
       "      <th>first_device_type_encoded</th>\n",
       "      <th>signup_app_encoded</th>\n",
       "      <th>language_encoded</th>\n",
       "      <th>features</th>\n",
       "      <th>label</th>\n",
       "      <th>rawPrediction</th>\n",
       "      <th>probability</th>\n",
       "      <th>prediction</th>\n",
       "    </tr>\n",
       "  </thead>\n",
       "  <tbody>\n",
       "    <tr>\n",
       "      <th>1</th>\n",
       "      <td>zef7h0tdip</td>\n",
       "      <td>-unknown-</td>\n",
       "      <td>0.0</td>\n",
       "      <td>basic</td>\n",
       "      <td>3.0</td>\n",
       "      <td>en</td>\n",
       "      <td>content</td>\n",
       "      <td>google</td>\n",
       "      <td>Web</td>\n",
       "      <td>Other/Unknown</td>\n",
       "      <td>...</td>\n",
       "      <td>(1.0, 0.0, 0.0)</td>\n",
       "      <td>(0.0, 1.0, 0.0, 0.0, 0.0, 0.0, 0.0, 0.0, 0.0, ...</td>\n",
       "      <td>(0.0, 0.0, 0.0, 0.0, 1.0, 0.0, 0.0, 0.0, 0.0)</td>\n",
       "      <td>(1.0, 0.0, 0.0, 0.0)</td>\n",
       "      <td>(1.0, 0.0, 0.0, 0.0, 0.0, 0.0, 0.0, 0.0, 0.0, ...</td>\n",
       "      <td>(0.0, 3.0, 0.0, 6.0, 0.0, 0.0, 0.0, 0.0, 0.0, ...</td>\n",
       "      <td>3.0</td>\n",
       "      <td>[21.0, 11.0, 3.0, 0.0, 0.0, 0.0, 0.0, 0.0, 0.0...</td>\n",
       "      <td>[0.6, 0.3142857142857143, 0.08571428571428572,...</td>\n",
       "      <td>0.0</td>\n",
       "    </tr>\n",
       "    <tr>\n",
       "      <th>3</th>\n",
       "      <td>nlp8wvf631</td>\n",
       "      <td>female</td>\n",
       "      <td>25.0</td>\n",
       "      <td>basic</td>\n",
       "      <td>0.0</td>\n",
       "      <td>en</td>\n",
       "      <td>direct</td>\n",
       "      <td>direct</td>\n",
       "      <td>Web</td>\n",
       "      <td>Mac Desktop</td>\n",
       "      <td>...</td>\n",
       "      <td>(1.0, 0.0, 0.0)</td>\n",
       "      <td>(1.0, 0.0, 0.0, 0.0, 0.0, 0.0, 0.0, 0.0, 0.0, ...</td>\n",
       "      <td>(1.0, 0.0, 0.0, 0.0, 0.0, 0.0, 0.0, 0.0, 0.0)</td>\n",
       "      <td>(1.0, 0.0, 0.0, 0.0)</td>\n",
       "      <td>(1.0, 0.0, 0.0, 0.0, 0.0, 0.0, 0.0, 0.0, 0.0, ...</td>\n",
       "      <td>(25.0, 0.0, 0.0, 7.0, 1.0, 0.0, 0.0, 0.0, 0.0,...</td>\n",
       "      <td>1.0</td>\n",
       "      <td>[39.0, 35.0, 1.0, 4.0, 2.0, 0.0, 1.0, 2.0, 0.0...</td>\n",
       "      <td>[0.4588235294117647, 0.4117647058823529, 0.011...</td>\n",
       "      <td>0.0</td>\n",
       "    </tr>\n",
       "    <tr>\n",
       "      <th>5</th>\n",
       "      <td>46ipvnmlrt</td>\n",
       "      <td>-unknown-</td>\n",
       "      <td>27.0</td>\n",
       "      <td>basic</td>\n",
       "      <td>0.0</td>\n",
       "      <td>en</td>\n",
       "      <td>sem-non-brand</td>\n",
       "      <td>bing</td>\n",
       "      <td>Web</td>\n",
       "      <td>Windows Desktop</td>\n",
       "      <td>...</td>\n",
       "      <td>(1.0, 0.0, 0.0)</td>\n",
       "      <td>(0.0, 0.0, 0.0, 0.0, 1.0, 0.0, 0.0, 0.0, 0.0, ...</td>\n",
       "      <td>(0.0, 1.0, 0.0, 0.0, 0.0, 0.0, 0.0, 0.0, 0.0)</td>\n",
       "      <td>(1.0, 0.0, 0.0, 0.0)</td>\n",
       "      <td>(1.0, 0.0, 0.0, 0.0, 0.0, 0.0, 0.0, 0.0, 0.0, ...</td>\n",
       "      <td>(27.0, 0.0, 0.0, 10.0, 0.0, 0.0, 1.0, 0.0, 0.0...</td>\n",
       "      <td>2.0</td>\n",
       "      <td>[52.0, 105.0, 9.0, 1.0, 6.0, 3.0, 2.0, 2.0, 0....</td>\n",
       "      <td>[0.2857142857142857, 0.5769230769230769, 0.049...</td>\n",
       "      <td>1.0</td>\n",
       "    </tr>\n",
       "    <tr>\n",
       "      <th>8</th>\n",
       "      <td>nob3onuzbx</td>\n",
       "      <td>-unknown-</td>\n",
       "      <td>0.0</td>\n",
       "      <td>basic</td>\n",
       "      <td>0.0</td>\n",
       "      <td>en</td>\n",
       "      <td>sem-brand</td>\n",
       "      <td>google</td>\n",
       "      <td>Web</td>\n",
       "      <td>Mac Desktop</td>\n",
       "      <td>...</td>\n",
       "      <td>(1.0, 0.0, 0.0)</td>\n",
       "      <td>(0.0, 1.0, 0.0, 0.0, 0.0, 0.0, 0.0, 0.0, 0.0, ...</td>\n",
       "      <td>(1.0, 0.0, 0.0, 0.0, 0.0, 0.0, 0.0, 0.0, 0.0)</td>\n",
       "      <td>(1.0, 0.0, 0.0, 0.0)</td>\n",
       "      <td>(1.0, 0.0, 0.0, 0.0, 0.0, 0.0, 0.0, 0.0, 0.0, ...</td>\n",
       "      <td>(0.0, 0.0, 5693565.0, 3.0, 0.0, 1.0, 0.0, 0.0,...</td>\n",
       "      <td>1.0</td>\n",
       "      <td>[160.0, 25.0, 4.0, 3.0, 2.0, 0.0, 0.0, 1.0, 0....</td>\n",
       "      <td>[0.8205128205128205, 0.1282051282051282, 0.020...</td>\n",
       "      <td>0.0</td>\n",
       "    </tr>\n",
       "    <tr>\n",
       "      <th>9</th>\n",
       "      <td>78v20tnmv0</td>\n",
       "      <td>-unknown-</td>\n",
       "      <td>22.0</td>\n",
       "      <td>basic</td>\n",
       "      <td>0.0</td>\n",
       "      <td>en</td>\n",
       "      <td>seo</td>\n",
       "      <td>facebook</td>\n",
       "      <td>Web</td>\n",
       "      <td>Windows Desktop</td>\n",
       "      <td>...</td>\n",
       "      <td>(1.0, 0.0, 0.0)</td>\n",
       "      <td>(0.0, 0.0, 0.0, 0.0, 0.0, 1.0, 0.0, 0.0, 0.0, ...</td>\n",
       "      <td>(0.0, 1.0, 0.0, 0.0, 0.0, 0.0, 0.0, 0.0, 0.0)</td>\n",
       "      <td>(1.0, 0.0, 0.0, 0.0)</td>\n",
       "      <td>(1.0, 0.0, 0.0, 0.0, 0.0, 0.0, 0.0, 0.0, 0.0, ...</td>\n",
       "      <td>(22.0, 0.0, 214141.0, 2.0, 0.0, 0.0, 0.0, 0.0,...</td>\n",
       "      <td>5.0</td>\n",
       "      <td>[39.0, 35.0, 1.0, 4.0, 2.0, 0.0, 1.0, 2.0, 0.0...</td>\n",
       "      <td>[0.4588235294117647, 0.4117647058823529, 0.011...</td>\n",
       "      <td>0.0</td>\n",
       "    </tr>\n",
       "    <tr>\n",
       "      <th>...</th>\n",
       "      <td>...</td>\n",
       "      <td>...</td>\n",
       "      <td>...</td>\n",
       "      <td>...</td>\n",
       "      <td>...</td>\n",
       "      <td>...</td>\n",
       "      <td>...</td>\n",
       "      <td>...</td>\n",
       "      <td>...</td>\n",
       "      <td>...</td>\n",
       "      <td>...</td>\n",
       "      <td>...</td>\n",
       "      <td>...</td>\n",
       "      <td>...</td>\n",
       "      <td>...</td>\n",
       "      <td>...</td>\n",
       "      <td>...</td>\n",
       "      <td>...</td>\n",
       "      <td>...</td>\n",
       "      <td>...</td>\n",
       "      <td>...</td>\n",
       "    </tr>\n",
       "    <tr>\n",
       "      <th>399</th>\n",
       "      <td>xclxubnoyl</td>\n",
       "      <td>-unknown-</td>\n",
       "      <td>0.0</td>\n",
       "      <td>basic</td>\n",
       "      <td>0.0</td>\n",
       "      <td>en</td>\n",
       "      <td>direct</td>\n",
       "      <td>direct</td>\n",
       "      <td>Web</td>\n",
       "      <td>Mac Desktop</td>\n",
       "      <td>...</td>\n",
       "      <td>(1.0, 0.0, 0.0)</td>\n",
       "      <td>(1.0, 0.0, 0.0, 0.0, 0.0, 0.0, 0.0, 0.0, 0.0, ...</td>\n",
       "      <td>(1.0, 0.0, 0.0, 0.0, 0.0, 0.0, 0.0, 0.0, 0.0)</td>\n",
       "      <td>(1.0, 0.0, 0.0, 0.0)</td>\n",
       "      <td>(1.0, 0.0, 0.0, 0.0, 0.0, 0.0, 0.0, 0.0, 0.0, ...</td>\n",
       "      <td>(0.0, 0.0, 175181.0, 5.0, 1.0, 0.0, 0.0, 0.0, ...</td>\n",
       "      <td>1.0</td>\n",
       "      <td>[212.0, 52.0, 20.0, 11.0, 3.0, 3.0, 1.0, 2.0, ...</td>\n",
       "      <td>[0.6773162939297125, 0.16613418530351437, 0.06...</td>\n",
       "      <td>0.0</td>\n",
       "    </tr>\n",
       "    <tr>\n",
       "      <th>401</th>\n",
       "      <td>j5xtww69sm</td>\n",
       "      <td>-unknown-</td>\n",
       "      <td>24.0</td>\n",
       "      <td>basic</td>\n",
       "      <td>25.0</td>\n",
       "      <td>en</td>\n",
       "      <td>direct</td>\n",
       "      <td>direct</td>\n",
       "      <td>iOS</td>\n",
       "      <td>Mac Desktop</td>\n",
       "      <td>...</td>\n",
       "      <td>(1.0, 0.0, 0.0)</td>\n",
       "      <td>(1.0, 0.0, 0.0, 0.0, 0.0, 0.0, 0.0, 0.0, 0.0, ...</td>\n",
       "      <td>(1.0, 0.0, 0.0, 0.0, 0.0, 0.0, 0.0, 0.0, 0.0)</td>\n",
       "      <td>(0.0, 1.0, 0.0, 0.0)</td>\n",
       "      <td>(1.0, 0.0, 0.0, 0.0, 0.0, 0.0, 0.0, 0.0, 0.0, ...</td>\n",
       "      <td>(24.0, 25.0, 0.0, 3.0, 1.0, 0.0, 0.0, 0.0, 0.0...</td>\n",
       "      <td>1.0</td>\n",
       "      <td>[39.0, 35.0, 1.0, 4.0, 2.0, 0.0, 1.0, 2.0, 0.0...</td>\n",
       "      <td>[0.4588235294117647, 0.4117647058823529, 0.011...</td>\n",
       "      <td>0.0</td>\n",
       "    </tr>\n",
       "    <tr>\n",
       "      <th>404</th>\n",
       "      <td>aoqp5jexio</td>\n",
       "      <td>male</td>\n",
       "      <td>30.0</td>\n",
       "      <td>facebook</td>\n",
       "      <td>0.0</td>\n",
       "      <td>en</td>\n",
       "      <td>direct</td>\n",
       "      <td>direct</td>\n",
       "      <td>Web</td>\n",
       "      <td>Mac Desktop</td>\n",
       "      <td>...</td>\n",
       "      <td>(0.0, 1.0, 0.0)</td>\n",
       "      <td>(1.0, 0.0, 0.0, 0.0, 0.0, 0.0, 0.0, 0.0, 0.0, ...</td>\n",
       "      <td>(1.0, 0.0, 0.0, 0.0, 0.0, 0.0, 0.0, 0.0, 0.0)</td>\n",
       "      <td>(1.0, 0.0, 0.0, 0.0)</td>\n",
       "      <td>(1.0, 0.0, 0.0, 0.0, 0.0, 0.0, 0.0, 0.0, 0.0, ...</td>\n",
       "      <td>(30.0, 0.0, 0.0, 11.0, 1.0, 0.0, 0.0, 0.0, 0.0...</td>\n",
       "      <td>1.0</td>\n",
       "      <td>[186.0, 100.0, 16.0, 7.0, 2.0, 3.0, 1.0, 2.0, ...</td>\n",
       "      <td>[0.577639751552795, 0.3105590062111801, 0.0496...</td>\n",
       "      <td>0.0</td>\n",
       "    </tr>\n",
       "    <tr>\n",
       "      <th>407</th>\n",
       "      <td>iz21xq5i1e</td>\n",
       "      <td>-unknown-</td>\n",
       "      <td>63.0</td>\n",
       "      <td>basic</td>\n",
       "      <td>0.0</td>\n",
       "      <td>en</td>\n",
       "      <td>sem-non-brand</td>\n",
       "      <td>google</td>\n",
       "      <td>Web</td>\n",
       "      <td>Windows Desktop</td>\n",
       "      <td>...</td>\n",
       "      <td>(1.0, 0.0, 0.0)</td>\n",
       "      <td>(0.0, 1.0, 0.0, 0.0, 0.0, 0.0, 0.0, 0.0, 0.0, ...</td>\n",
       "      <td>(0.0, 1.0, 0.0, 0.0, 0.0, 0.0, 0.0, 0.0, 0.0)</td>\n",
       "      <td>(1.0, 0.0, 0.0, 0.0)</td>\n",
       "      <td>(1.0, 0.0, 0.0, 0.0, 0.0, 0.0, 0.0, 0.0, 0.0, ...</td>\n",
       "      <td>(63.0, 0.0, 0.0, 12.0, 0.0, 0.0, 1.0, 0.0, 0.0...</td>\n",
       "      <td>2.0</td>\n",
       "      <td>[41.0, 64.0, 6.0, 5.0, 1.0, 3.0, 3.0, 1.0, 1.0...</td>\n",
       "      <td>[0.3228346456692913, 0.5039370078740157, 0.047...</td>\n",
       "      <td>1.0</td>\n",
       "    </tr>\n",
       "    <tr>\n",
       "      <th>408</th>\n",
       "      <td>j5kh5k1als</td>\n",
       "      <td>male</td>\n",
       "      <td>33.0</td>\n",
       "      <td>facebook</td>\n",
       "      <td>12.0</td>\n",
       "      <td>en</td>\n",
       "      <td>api</td>\n",
       "      <td>other</td>\n",
       "      <td>Moweb</td>\n",
       "      <td>Windows Desktop</td>\n",
       "      <td>...</td>\n",
       "      <td>(0.0, 1.0, 0.0)</td>\n",
       "      <td>(0.0, 0.0, 1.0, 0.0, 0.0, 0.0, 0.0, 0.0, 0.0, ...</td>\n",
       "      <td>(0.0, 1.0, 0.0, 0.0, 0.0, 0.0, 0.0, 0.0, 0.0)</td>\n",
       "      <td>(0.0, 0.0, 1.0, 0.0)</td>\n",
       "      <td>(1.0, 0.0, 0.0, 0.0, 0.0, 0.0, 0.0, 0.0, 0.0, ...</td>\n",
       "      <td>(33.0, 12.0, 34466.0, 1.0, 0.0, 0.0, 0.0, 0.0,...</td>\n",
       "      <td>1.0</td>\n",
       "      <td>[186.0, 100.0, 16.0, 7.0, 2.0, 3.0, 1.0, 2.0, ...</td>\n",
       "      <td>[0.577639751552795, 0.3105590062111801, 0.0496...</td>\n",
       "      <td>0.0</td>\n",
       "    </tr>\n",
       "  </tbody>\n",
       "</table>\n",
       "<p>159 rows × 26 columns</p>\n",
       "</div>"
      ],
      "text/plain": [
       "             id     gender   age signup_method  signup_flow language  \\\n",
       "1    zef7h0tdip  -unknown-   0.0         basic          3.0       en   \n",
       "3    nlp8wvf631     female  25.0         basic          0.0       en   \n",
       "5    46ipvnmlrt  -unknown-  27.0         basic          0.0       en   \n",
       "8    nob3onuzbx  -unknown-   0.0         basic          0.0       en   \n",
       "9    78v20tnmv0  -unknown-  22.0         basic          0.0       en   \n",
       "..          ...        ...   ...           ...          ...      ...   \n",
       "399  xclxubnoyl  -unknown-   0.0         basic          0.0       en   \n",
       "401  j5xtww69sm  -unknown-  24.0         basic         25.0       en   \n",
       "404  aoqp5jexio       male  30.0      facebook          0.0       en   \n",
       "407  iz21xq5i1e  -unknown-  63.0         basic          0.0       en   \n",
       "408  j5kh5k1als       male  33.0      facebook         12.0       en   \n",
       "\n",
       "    affiliate_channel affiliate_provider signup_app first_device_type  ...  \\\n",
       "1             content             google        Web     Other/Unknown  ...   \n",
       "3              direct             direct        Web       Mac Desktop  ...   \n",
       "5       sem-non-brand               bing        Web   Windows Desktop  ...   \n",
       "8           sem-brand             google        Web       Mac Desktop  ...   \n",
       "9                 seo           facebook        Web   Windows Desktop  ...   \n",
       "..                ...                ...        ...               ...  ...   \n",
       "399            direct             direct        Web       Mac Desktop  ...   \n",
       "401            direct             direct        iOS       Mac Desktop  ...   \n",
       "404            direct             direct        Web       Mac Desktop  ...   \n",
       "407     sem-non-brand             google        Web   Windows Desktop  ...   \n",
       "408               api              other      Moweb   Windows Desktop  ...   \n",
       "\n",
       "    signup_method_encoded                         affiliate_provider_encoded  \\\n",
       "1         (1.0, 0.0, 0.0)  (0.0, 1.0, 0.0, 0.0, 0.0, 0.0, 0.0, 0.0, 0.0, ...   \n",
       "3         (1.0, 0.0, 0.0)  (1.0, 0.0, 0.0, 0.0, 0.0, 0.0, 0.0, 0.0, 0.0, ...   \n",
       "5         (1.0, 0.0, 0.0)  (0.0, 0.0, 0.0, 0.0, 1.0, 0.0, 0.0, 0.0, 0.0, ...   \n",
       "8         (1.0, 0.0, 0.0)  (0.0, 1.0, 0.0, 0.0, 0.0, 0.0, 0.0, 0.0, 0.0, ...   \n",
       "9         (1.0, 0.0, 0.0)  (0.0, 0.0, 0.0, 0.0, 0.0, 1.0, 0.0, 0.0, 0.0, ...   \n",
       "..                    ...                                                ...   \n",
       "399       (1.0, 0.0, 0.0)  (1.0, 0.0, 0.0, 0.0, 0.0, 0.0, 0.0, 0.0, 0.0, ...   \n",
       "401       (1.0, 0.0, 0.0)  (1.0, 0.0, 0.0, 0.0, 0.0, 0.0, 0.0, 0.0, 0.0, ...   \n",
       "404       (0.0, 1.0, 0.0)  (1.0, 0.0, 0.0, 0.0, 0.0, 0.0, 0.0, 0.0, 0.0, ...   \n",
       "407       (1.0, 0.0, 0.0)  (0.0, 1.0, 0.0, 0.0, 0.0, 0.0, 0.0, 0.0, 0.0, ...   \n",
       "408       (0.0, 1.0, 0.0)  (0.0, 0.0, 1.0, 0.0, 0.0, 0.0, 0.0, 0.0, 0.0, ...   \n",
       "\n",
       "                         first_device_type_encoded    signup_app_encoded  \\\n",
       "1    (0.0, 0.0, 0.0, 0.0, 1.0, 0.0, 0.0, 0.0, 0.0)  (1.0, 0.0, 0.0, 0.0)   \n",
       "3    (1.0, 0.0, 0.0, 0.0, 0.0, 0.0, 0.0, 0.0, 0.0)  (1.0, 0.0, 0.0, 0.0)   \n",
       "5    (0.0, 1.0, 0.0, 0.0, 0.0, 0.0, 0.0, 0.0, 0.0)  (1.0, 0.0, 0.0, 0.0)   \n",
       "8    (1.0, 0.0, 0.0, 0.0, 0.0, 0.0, 0.0, 0.0, 0.0)  (1.0, 0.0, 0.0, 0.0)   \n",
       "9    (0.0, 1.0, 0.0, 0.0, 0.0, 0.0, 0.0, 0.0, 0.0)  (1.0, 0.0, 0.0, 0.0)   \n",
       "..                                             ...                   ...   \n",
       "399  (1.0, 0.0, 0.0, 0.0, 0.0, 0.0, 0.0, 0.0, 0.0)  (1.0, 0.0, 0.0, 0.0)   \n",
       "401  (1.0, 0.0, 0.0, 0.0, 0.0, 0.0, 0.0, 0.0, 0.0)  (0.0, 1.0, 0.0, 0.0)   \n",
       "404  (1.0, 0.0, 0.0, 0.0, 0.0, 0.0, 0.0, 0.0, 0.0)  (1.0, 0.0, 0.0, 0.0)   \n",
       "407  (0.0, 1.0, 0.0, 0.0, 0.0, 0.0, 0.0, 0.0, 0.0)  (1.0, 0.0, 0.0, 0.0)   \n",
       "408  (0.0, 1.0, 0.0, 0.0, 0.0, 0.0, 0.0, 0.0, 0.0)  (0.0, 0.0, 1.0, 0.0)   \n",
       "\n",
       "                                      language_encoded  \\\n",
       "1    (1.0, 0.0, 0.0, 0.0, 0.0, 0.0, 0.0, 0.0, 0.0, ...   \n",
       "3    (1.0, 0.0, 0.0, 0.0, 0.0, 0.0, 0.0, 0.0, 0.0, ...   \n",
       "5    (1.0, 0.0, 0.0, 0.0, 0.0, 0.0, 0.0, 0.0, 0.0, ...   \n",
       "8    (1.0, 0.0, 0.0, 0.0, 0.0, 0.0, 0.0, 0.0, 0.0, ...   \n",
       "9    (1.0, 0.0, 0.0, 0.0, 0.0, 0.0, 0.0, 0.0, 0.0, ...   \n",
       "..                                                 ...   \n",
       "399  (1.0, 0.0, 0.0, 0.0, 0.0, 0.0, 0.0, 0.0, 0.0, ...   \n",
       "401  (1.0, 0.0, 0.0, 0.0, 0.0, 0.0, 0.0, 0.0, 0.0, ...   \n",
       "404  (1.0, 0.0, 0.0, 0.0, 0.0, 0.0, 0.0, 0.0, 0.0, ...   \n",
       "407  (1.0, 0.0, 0.0, 0.0, 0.0, 0.0, 0.0, 0.0, 0.0, ...   \n",
       "408  (1.0, 0.0, 0.0, 0.0, 0.0, 0.0, 0.0, 0.0, 0.0, ...   \n",
       "\n",
       "                                              features label  \\\n",
       "1    (0.0, 3.0, 0.0, 6.0, 0.0, 0.0, 0.0, 0.0, 0.0, ...   3.0   \n",
       "3    (25.0, 0.0, 0.0, 7.0, 1.0, 0.0, 0.0, 0.0, 0.0,...   1.0   \n",
       "5    (27.0, 0.0, 0.0, 10.0, 0.0, 0.0, 1.0, 0.0, 0.0...   2.0   \n",
       "8    (0.0, 0.0, 5693565.0, 3.0, 0.0, 1.0, 0.0, 0.0,...   1.0   \n",
       "9    (22.0, 0.0, 214141.0, 2.0, 0.0, 0.0, 0.0, 0.0,...   5.0   \n",
       "..                                                 ...   ...   \n",
       "399  (0.0, 0.0, 175181.0, 5.0, 1.0, 0.0, 0.0, 0.0, ...   1.0   \n",
       "401  (24.0, 25.0, 0.0, 3.0, 1.0, 0.0, 0.0, 0.0, 0.0...   1.0   \n",
       "404  (30.0, 0.0, 0.0, 11.0, 1.0, 0.0, 0.0, 0.0, 0.0...   1.0   \n",
       "407  (63.0, 0.0, 0.0, 12.0, 0.0, 0.0, 1.0, 0.0, 0.0...   2.0   \n",
       "408  (33.0, 12.0, 34466.0, 1.0, 0.0, 0.0, 0.0, 0.0,...   1.0   \n",
       "\n",
       "                                         rawPrediction  \\\n",
       "1    [21.0, 11.0, 3.0, 0.0, 0.0, 0.0, 0.0, 0.0, 0.0...   \n",
       "3    [39.0, 35.0, 1.0, 4.0, 2.0, 0.0, 1.0, 2.0, 0.0...   \n",
       "5    [52.0, 105.0, 9.0, 1.0, 6.0, 3.0, 2.0, 2.0, 0....   \n",
       "8    [160.0, 25.0, 4.0, 3.0, 2.0, 0.0, 0.0, 1.0, 0....   \n",
       "9    [39.0, 35.0, 1.0, 4.0, 2.0, 0.0, 1.0, 2.0, 0.0...   \n",
       "..                                                 ...   \n",
       "399  [212.0, 52.0, 20.0, 11.0, 3.0, 3.0, 1.0, 2.0, ...   \n",
       "401  [39.0, 35.0, 1.0, 4.0, 2.0, 0.0, 1.0, 2.0, 0.0...   \n",
       "404  [186.0, 100.0, 16.0, 7.0, 2.0, 3.0, 1.0, 2.0, ...   \n",
       "407  [41.0, 64.0, 6.0, 5.0, 1.0, 3.0, 3.0, 1.0, 1.0...   \n",
       "408  [186.0, 100.0, 16.0, 7.0, 2.0, 3.0, 1.0, 2.0, ...   \n",
       "\n",
       "                                           probability prediction  \n",
       "1    [0.6, 0.3142857142857143, 0.08571428571428572,...        0.0  \n",
       "3    [0.4588235294117647, 0.4117647058823529, 0.011...        0.0  \n",
       "5    [0.2857142857142857, 0.5769230769230769, 0.049...        1.0  \n",
       "8    [0.8205128205128205, 0.1282051282051282, 0.020...        0.0  \n",
       "9    [0.4588235294117647, 0.4117647058823529, 0.011...        0.0  \n",
       "..                                                 ...        ...  \n",
       "399  [0.6773162939297125, 0.16613418530351437, 0.06...        0.0  \n",
       "401  [0.4588235294117647, 0.4117647058823529, 0.011...        0.0  \n",
       "404  [0.577639751552795, 0.3105590062111801, 0.0496...        0.0  \n",
       "407  [0.3228346456692913, 0.5039370078740157, 0.047...        1.0  \n",
       "408  [0.577639751552795, 0.3105590062111801, 0.0496...        0.0  \n",
       "\n",
       "[159 rows x 26 columns]"
      ]
     },
     "execution_count": 155,
     "metadata": {},
     "output_type": "execute_result"
    }
   ],
   "source": [
    "predictionsDF.loc[\n",
    "    predictionsDF['label'] != predictionsDF['prediction']\n",
    "]"
   ]
  },
  {
   "cell_type": "markdown",
   "metadata": {},
   "source": [
    "<h5>Final prediction</h5>"
   ]
  },
  {
   "cell_type": "code",
   "execution_count": 156,
   "metadata": {},
   "outputs": [
    {
     "data": {
      "text/html": [
       "<div>\n",
       "<style scoped>\n",
       "    .dataframe tbody tr th:only-of-type {\n",
       "        vertical-align: middle;\n",
       "    }\n",
       "\n",
       "    .dataframe tbody tr th {\n",
       "        vertical-align: top;\n",
       "    }\n",
       "\n",
       "    .dataframe thead th {\n",
       "        text-align: right;\n",
       "    }\n",
       "</style>\n",
       "<table border=\"1\" class=\"dataframe\">\n",
       "  <thead>\n",
       "    <tr style=\"text-align: right;\">\n",
       "      <th></th>\n",
       "      <th>id</th>\n",
       "      <th>gender</th>\n",
       "      <th>age</th>\n",
       "      <th>signup_method</th>\n",
       "      <th>signup_flow</th>\n",
       "      <th>language</th>\n",
       "      <th>affiliate_channel</th>\n",
       "      <th>affiliate_provider</th>\n",
       "      <th>signup_app</th>\n",
       "      <th>first_device_type</th>\n",
       "      <th>...</th>\n",
       "      <th>signup_method_encoded</th>\n",
       "      <th>affiliate_provider_encoded</th>\n",
       "      <th>first_device_type_encoded</th>\n",
       "      <th>signup_app_encoded</th>\n",
       "      <th>language_encoded</th>\n",
       "      <th>features</th>\n",
       "      <th>label</th>\n",
       "      <th>rawPrediction</th>\n",
       "      <th>probability</th>\n",
       "      <th>prediction</th>\n",
       "    </tr>\n",
       "  </thead>\n",
       "  <tbody>\n",
       "    <tr>\n",
       "      <th>0</th>\n",
       "      <td>mom7gx8cht</td>\n",
       "      <td>-unknown-</td>\n",
       "      <td>0.0</td>\n",
       "      <td>basic</td>\n",
       "      <td>12.0</td>\n",
       "      <td>en</td>\n",
       "      <td>api</td>\n",
       "      <td>other</td>\n",
       "      <td>Web</td>\n",
       "      <td>Windows Desktop</td>\n",
       "      <td>...</td>\n",
       "      <td>(1.0, 0.0, 0.0)</td>\n",
       "      <td>(0.0, 0.0, 1.0, 0.0, 0.0, 0.0, 0.0, 0.0, 0.0, ...</td>\n",
       "      <td>(0.0, 1.0, 0.0, 0.0, 0.0, 0.0, 0.0, 0.0, 0.0)</td>\n",
       "      <td>(1.0, 0.0, 0.0, 0.0)</td>\n",
       "      <td>(1.0, 0.0, 0.0, 0.0, 0.0, 0.0, 0.0, 0.0, 0.0, ...</td>\n",
       "      <td>(0.0, 12.0, 0.0, 7.0, 0.0, 0.0, 0.0, 0.0, 0.0,...</td>\n",
       "      <td>0.0</td>\n",
       "      <td>[21.0, 11.0, 3.0, 0.0, 0.0, 0.0, 0.0, 0.0, 0.0...</td>\n",
       "      <td>[0.6, 0.3142857142857143, 0.08571428571428572,...</td>\n",
       "      <td>0.0</td>\n",
       "    </tr>\n",
       "    <tr>\n",
       "      <th>1</th>\n",
       "      <td>zef7h0tdip</td>\n",
       "      <td>-unknown-</td>\n",
       "      <td>0.0</td>\n",
       "      <td>basic</td>\n",
       "      <td>3.0</td>\n",
       "      <td>en</td>\n",
       "      <td>content</td>\n",
       "      <td>google</td>\n",
       "      <td>Web</td>\n",
       "      <td>Other/Unknown</td>\n",
       "      <td>...</td>\n",
       "      <td>(1.0, 0.0, 0.0)</td>\n",
       "      <td>(0.0, 1.0, 0.0, 0.0, 0.0, 0.0, 0.0, 0.0, 0.0, ...</td>\n",
       "      <td>(0.0, 0.0, 0.0, 0.0, 1.0, 0.0, 0.0, 0.0, 0.0)</td>\n",
       "      <td>(1.0, 0.0, 0.0, 0.0)</td>\n",
       "      <td>(1.0, 0.0, 0.0, 0.0, 0.0, 0.0, 0.0, 0.0, 0.0, ...</td>\n",
       "      <td>(0.0, 3.0, 0.0, 6.0, 0.0, 0.0, 0.0, 0.0, 0.0, ...</td>\n",
       "      <td>3.0</td>\n",
       "      <td>[21.0, 11.0, 3.0, 0.0, 0.0, 0.0, 0.0, 0.0, 0.0...</td>\n",
       "      <td>[0.6, 0.3142857142857143, 0.08571428571428572,...</td>\n",
       "      <td>0.0</td>\n",
       "    </tr>\n",
       "    <tr>\n",
       "      <th>2</th>\n",
       "      <td>70xly0407d</td>\n",
       "      <td>male</td>\n",
       "      <td>42.0</td>\n",
       "      <td>basic</td>\n",
       "      <td>1.0</td>\n",
       "      <td>en</td>\n",
       "      <td>direct</td>\n",
       "      <td>direct</td>\n",
       "      <td>Web</td>\n",
       "      <td>Mac Desktop</td>\n",
       "      <td>...</td>\n",
       "      <td>(1.0, 0.0, 0.0)</td>\n",
       "      <td>(1.0, 0.0, 0.0, 0.0, 0.0, 0.0, 0.0, 0.0, 0.0, ...</td>\n",
       "      <td>(1.0, 0.0, 0.0, 0.0, 0.0, 0.0, 0.0, 0.0, 0.0)</td>\n",
       "      <td>(1.0, 0.0, 0.0, 0.0)</td>\n",
       "      <td>(1.0, 0.0, 0.0, 0.0, 0.0, 0.0, 0.0, 0.0, 0.0, ...</td>\n",
       "      <td>(42.0, 1.0, 0.0, 8.0, 1.0, 0.0, 0.0, 0.0, 0.0,...</td>\n",
       "      <td>0.0</td>\n",
       "      <td>[63.0, 52.0, 9.0, 6.0, 2.0, 2.0, 3.0, 2.0, 1.0...</td>\n",
       "      <td>[0.44366197183098594, 0.36619718309859156, 0.0...</td>\n",
       "      <td>0.0</td>\n",
       "    </tr>\n",
       "    <tr>\n",
       "      <th>3</th>\n",
       "      <td>nlp8wvf631</td>\n",
       "      <td>female</td>\n",
       "      <td>25.0</td>\n",
       "      <td>basic</td>\n",
       "      <td>0.0</td>\n",
       "      <td>en</td>\n",
       "      <td>direct</td>\n",
       "      <td>direct</td>\n",
       "      <td>Web</td>\n",
       "      <td>Mac Desktop</td>\n",
       "      <td>...</td>\n",
       "      <td>(1.0, 0.0, 0.0)</td>\n",
       "      <td>(1.0, 0.0, 0.0, 0.0, 0.0, 0.0, 0.0, 0.0, 0.0, ...</td>\n",
       "      <td>(1.0, 0.0, 0.0, 0.0, 0.0, 0.0, 0.0, 0.0, 0.0)</td>\n",
       "      <td>(1.0, 0.0, 0.0, 0.0)</td>\n",
       "      <td>(1.0, 0.0, 0.0, 0.0, 0.0, 0.0, 0.0, 0.0, 0.0, ...</td>\n",
       "      <td>(25.0, 0.0, 0.0, 7.0, 1.0, 0.0, 0.0, 0.0, 0.0,...</td>\n",
       "      <td>1.0</td>\n",
       "      <td>[39.0, 35.0, 1.0, 4.0, 2.0, 0.0, 1.0, 2.0, 0.0...</td>\n",
       "      <td>[0.4588235294117647, 0.4117647058823529, 0.011...</td>\n",
       "      <td>0.0</td>\n",
       "    </tr>\n",
       "    <tr>\n",
       "      <th>4</th>\n",
       "      <td>2gnj4zkcta</td>\n",
       "      <td>-unknown-</td>\n",
       "      <td>0.0</td>\n",
       "      <td>basic</td>\n",
       "      <td>0.0</td>\n",
       "      <td>en</td>\n",
       "      <td>direct</td>\n",
       "      <td>direct</td>\n",
       "      <td>Web</td>\n",
       "      <td>iPad</td>\n",
       "      <td>...</td>\n",
       "      <td>(1.0, 0.0, 0.0)</td>\n",
       "      <td>(1.0, 0.0, 0.0, 0.0, 0.0, 0.0, 0.0, 0.0, 0.0, ...</td>\n",
       "      <td>(0.0, 0.0, 0.0, 1.0, 0.0, 0.0, 0.0, 0.0, 0.0)</td>\n",
       "      <td>(1.0, 0.0, 0.0, 0.0)</td>\n",
       "      <td>(1.0, 0.0, 0.0, 0.0, 0.0, 0.0, 0.0, 0.0, 0.0, ...</td>\n",
       "      <td>(0.0, 0.0, 0.0, 12.0, 1.0, 0.0, 0.0, 0.0, 0.0,...</td>\n",
       "      <td>0.0</td>\n",
       "      <td>[212.0, 52.0, 20.0, 11.0, 3.0, 3.0, 1.0, 2.0, ...</td>\n",
       "      <td>[0.6773162939297125, 0.16613418530351437, 0.06...</td>\n",
       "      <td>0.0</td>\n",
       "    </tr>\n",
       "  </tbody>\n",
       "</table>\n",
       "<p>5 rows × 26 columns</p>\n",
       "</div>"
      ],
      "text/plain": [
       "           id     gender   age signup_method  signup_flow language  \\\n",
       "0  mom7gx8cht  -unknown-   0.0         basic         12.0       en   \n",
       "1  zef7h0tdip  -unknown-   0.0         basic          3.0       en   \n",
       "2  70xly0407d       male  42.0         basic          1.0       en   \n",
       "3  nlp8wvf631     female  25.0         basic          0.0       en   \n",
       "4  2gnj4zkcta  -unknown-   0.0         basic          0.0       en   \n",
       "\n",
       "  affiliate_channel affiliate_provider signup_app first_device_type  ...  \\\n",
       "0               api              other        Web   Windows Desktop  ...   \n",
       "1           content             google        Web     Other/Unknown  ...   \n",
       "2            direct             direct        Web       Mac Desktop  ...   \n",
       "3            direct             direct        Web       Mac Desktop  ...   \n",
       "4            direct             direct        Web              iPad  ...   \n",
       "\n",
       "  signup_method_encoded                         affiliate_provider_encoded  \\\n",
       "0       (1.0, 0.0, 0.0)  (0.0, 0.0, 1.0, 0.0, 0.0, 0.0, 0.0, 0.0, 0.0, ...   \n",
       "1       (1.0, 0.0, 0.0)  (0.0, 1.0, 0.0, 0.0, 0.0, 0.0, 0.0, 0.0, 0.0, ...   \n",
       "2       (1.0, 0.0, 0.0)  (1.0, 0.0, 0.0, 0.0, 0.0, 0.0, 0.0, 0.0, 0.0, ...   \n",
       "3       (1.0, 0.0, 0.0)  (1.0, 0.0, 0.0, 0.0, 0.0, 0.0, 0.0, 0.0, 0.0, ...   \n",
       "4       (1.0, 0.0, 0.0)  (1.0, 0.0, 0.0, 0.0, 0.0, 0.0, 0.0, 0.0, 0.0, ...   \n",
       "\n",
       "                       first_device_type_encoded    signup_app_encoded  \\\n",
       "0  (0.0, 1.0, 0.0, 0.0, 0.0, 0.0, 0.0, 0.0, 0.0)  (1.0, 0.0, 0.0, 0.0)   \n",
       "1  (0.0, 0.0, 0.0, 0.0, 1.0, 0.0, 0.0, 0.0, 0.0)  (1.0, 0.0, 0.0, 0.0)   \n",
       "2  (1.0, 0.0, 0.0, 0.0, 0.0, 0.0, 0.0, 0.0, 0.0)  (1.0, 0.0, 0.0, 0.0)   \n",
       "3  (1.0, 0.0, 0.0, 0.0, 0.0, 0.0, 0.0, 0.0, 0.0)  (1.0, 0.0, 0.0, 0.0)   \n",
       "4  (0.0, 0.0, 0.0, 1.0, 0.0, 0.0, 0.0, 0.0, 0.0)  (1.0, 0.0, 0.0, 0.0)   \n",
       "\n",
       "                                    language_encoded  \\\n",
       "0  (1.0, 0.0, 0.0, 0.0, 0.0, 0.0, 0.0, 0.0, 0.0, ...   \n",
       "1  (1.0, 0.0, 0.0, 0.0, 0.0, 0.0, 0.0, 0.0, 0.0, ...   \n",
       "2  (1.0, 0.0, 0.0, 0.0, 0.0, 0.0, 0.0, 0.0, 0.0, ...   \n",
       "3  (1.0, 0.0, 0.0, 0.0, 0.0, 0.0, 0.0, 0.0, 0.0, ...   \n",
       "4  (1.0, 0.0, 0.0, 0.0, 0.0, 0.0, 0.0, 0.0, 0.0, ...   \n",
       "\n",
       "                                            features label  \\\n",
       "0  (0.0, 12.0, 0.0, 7.0, 0.0, 0.0, 0.0, 0.0, 0.0,...   0.0   \n",
       "1  (0.0, 3.0, 0.0, 6.0, 0.0, 0.0, 0.0, 0.0, 0.0, ...   3.0   \n",
       "2  (42.0, 1.0, 0.0, 8.0, 1.0, 0.0, 0.0, 0.0, 0.0,...   0.0   \n",
       "3  (25.0, 0.0, 0.0, 7.0, 1.0, 0.0, 0.0, 0.0, 0.0,...   1.0   \n",
       "4  (0.0, 0.0, 0.0, 12.0, 1.0, 0.0, 0.0, 0.0, 0.0,...   0.0   \n",
       "\n",
       "                                       rawPrediction  \\\n",
       "0  [21.0, 11.0, 3.0, 0.0, 0.0, 0.0, 0.0, 0.0, 0.0...   \n",
       "1  [21.0, 11.0, 3.0, 0.0, 0.0, 0.0, 0.0, 0.0, 0.0...   \n",
       "2  [63.0, 52.0, 9.0, 6.0, 2.0, 2.0, 3.0, 2.0, 1.0...   \n",
       "3  [39.0, 35.0, 1.0, 4.0, 2.0, 0.0, 1.0, 2.0, 0.0...   \n",
       "4  [212.0, 52.0, 20.0, 11.0, 3.0, 3.0, 1.0, 2.0, ...   \n",
       "\n",
       "                                         probability prediction  \n",
       "0  [0.6, 0.3142857142857143, 0.08571428571428572,...        0.0  \n",
       "1  [0.6, 0.3142857142857143, 0.08571428571428572,...        0.0  \n",
       "2  [0.44366197183098594, 0.36619718309859156, 0.0...        0.0  \n",
       "3  [0.4588235294117647, 0.4117647058823529, 0.011...        0.0  \n",
       "4  [0.6773162939297125, 0.16613418530351437, 0.06...        0.0  \n",
       "\n",
       "[5 rows x 26 columns]"
      ]
     },
     "execution_count": 156,
     "metadata": {},
     "output_type": "execute_result"
    }
   ],
   "source": [
    "predictionsDF.head()"
   ]
  },
  {
   "cell_type": "code",
   "execution_count": null,
   "metadata": {},
   "outputs": [],
   "source": []
  },
  {
   "cell_type": "code",
   "execution_count": null,
   "metadata": {},
   "outputs": [],
   "source": []
  },
  {
   "cell_type": "code",
   "execution_count": null,
   "metadata": {},
   "outputs": [],
   "source": []
  },
  {
   "cell_type": "code",
   "execution_count": null,
   "metadata": {},
   "outputs": [],
   "source": []
  }
 ],
 "metadata": {
  "kernelspec": {
   "display_name": "Python 3",
   "language": "python",
   "name": "python3"
  },
  "language_info": {
   "codemirror_mode": {
    "name": "ipython",
    "version": 3
   },
   "file_extension": ".py",
   "mimetype": "text/x-python",
   "name": "python",
   "nbconvert_exporter": "python",
   "pygments_lexer": "ipython3",
   "version": "3.8.5"
  }
 },
 "nbformat": 4,
 "nbformat_minor": 4
}
